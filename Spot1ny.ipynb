{
 "cells": [
  {
   "cell_type": "code",
   "execution_count": 260,
   "id": "4e0af3fe",
   "metadata": {},
   "outputs": [],
   "source": [
    "import pandas as pd\n",
    "import matplotlib.pyplot as plt\n",
    "import numpy as np\n",
    "from itertools import islice\n",
    "import seaborn as sns"
   ]
  },
  {
   "cell_type": "code",
   "execution_count": 261,
   "id": "efee67fc",
   "metadata": {},
   "outputs": [],
   "source": [
    "# Read files\n",
    "first_user_df = pd.read_csv(\"first_user_data.csv\", encoding= \"utf-8\")\n",
    "second_user_df = pd.read_csv(\"second_user_data.csv\", encoding= \"utf-8\")\n",
    "first_user_info_df = pd.read_csv(\"first_user_info.csv\")\n",
    "second_user_info_df = pd.read_csv(\"second_user_info.csv\")"
   ]
  },
  {
   "cell_type": "code",
   "execution_count": 262,
   "id": "42a4ffbf",
   "metadata": {},
   "outputs": [
    {
     "name": "stdout",
     "output_type": "stream",
     "text": [
      "1294\n",
      "360\n"
     ]
    }
   ],
   "source": [
    "print(len(first_user_df))\n",
    "print(len(second_user_df))"
   ]
  },
  {
   "cell_type": "code",
   "execution_count": 263,
   "id": "e73e3edb",
   "metadata": {},
   "outputs": [],
   "source": [
    "# Drop duplicate records\n",
    "first_user_df.drop_duplicates(subset = [\"id\"], keep = \"first\", inplace = True)\n",
    "second_user_df.drop_duplicates(subset = [\"id\"], keep = \"first\", inplace = True)"
   ]
  },
  {
   "cell_type": "code",
   "execution_count": 264,
   "id": "0855da6e",
   "metadata": {},
   "outputs": [
    {
     "name": "stdout",
     "output_type": "stream",
     "text": [
      "1123\n",
      "337\n"
     ]
    }
   ],
   "source": [
    "print(len(first_user_df))\n",
    "print(len(second_user_df))"
   ]
  },
  {
   "cell_type": "code",
   "execution_count": 265,
   "id": "91fcd75a",
   "metadata": {},
   "outputs": [
    {
     "data": {
      "text/html": [
       "<div>\n",
       "<style scoped>\n",
       "    .dataframe tbody tr th:only-of-type {\n",
       "        vertical-align: middle;\n",
       "    }\n",
       "\n",
       "    .dataframe tbody tr th {\n",
       "        vertical-align: top;\n",
       "    }\n",
       "\n",
       "    .dataframe thead th {\n",
       "        text-align: right;\n",
       "    }\n",
       "</style>\n",
       "<table border=\"1\" class=\"dataframe\">\n",
       "  <thead>\n",
       "    <tr style=\"text-align: right;\">\n",
       "      <th></th>\n",
       "      <th>id</th>\n",
       "      <th>song</th>\n",
       "      <th>artist</th>\n",
       "      <th>album</th>\n",
       "      <th>popularity</th>\n",
       "      <th>duration</th>\n",
       "      <th>img_url</th>\n",
       "      <th>genres</th>\n",
       "    </tr>\n",
       "  </thead>\n",
       "  <tbody>\n",
       "    <tr>\n",
       "      <th>0</th>\n",
       "      <td>2C0sdXFRzSeVERbPYwRocB</td>\n",
       "      <td>目及皆是你 - 心跳版</td>\n",
       "      <td>小蓝背心</td>\n",
       "      <td>目及皆是你</td>\n",
       "      <td>51</td>\n",
       "      <td>175000</td>\n",
       "      <td>https://i.scdn.co/image/ab67616d0000b273cf2696...</td>\n",
       "      <td>['chinese viral pop']</td>\n",
       "    </tr>\n",
       "    <tr>\n",
       "      <th>1</th>\n",
       "      <td>2yQSlIvIfRD8pVcNbDhXNw</td>\n",
       "      <td>還是會想你</td>\n",
       "      <td>林達浪</td>\n",
       "      <td>還是會想你</td>\n",
       "      <td>52</td>\n",
       "      <td>190063</td>\n",
       "      <td>https://i.scdn.co/image/ab67616d0000b2734ccb1f...</td>\n",
       "      <td>['chinese viral pop']</td>\n",
       "    </tr>\n",
       "    <tr>\n",
       "      <th>2</th>\n",
       "      <td>3xCHPowgMf0ZgXPxXHhUFX</td>\n",
       "      <td>I Love You - 伴奏</td>\n",
       "      <td>汪東城</td>\n",
       "      <td>I Love You (中文版)</td>\n",
       "      <td>6</td>\n",
       "      <td>182567</td>\n",
       "      <td>https://i.scdn.co/image/ab67616d0000b2736aec71...</td>\n",
       "      <td>[]</td>\n",
       "    </tr>\n",
       "    <tr>\n",
       "      <th>3</th>\n",
       "      <td>08Lw339w7ziPVRVq6B57fo</td>\n",
       "      <td>I Love You - 中文版</td>\n",
       "      <td>汪東城</td>\n",
       "      <td>I Love You (中文版)</td>\n",
       "      <td>34</td>\n",
       "      <td>182567</td>\n",
       "      <td>https://i.scdn.co/image/ab67616d0000b2736aec71...</td>\n",
       "      <td>[]</td>\n",
       "    </tr>\n",
       "    <tr>\n",
       "      <th>4</th>\n",
       "      <td>4X5SAZ4JKejo2tPhvCJhZf</td>\n",
       "      <td>愛的魔法</td>\n",
       "      <td>金莎</td>\n",
       "      <td>他不愛我</td>\n",
       "      <td>45</td>\n",
       "      <td>191895</td>\n",
       "      <td>https://i.scdn.co/image/ab67616d0000b273d3a256...</td>\n",
       "      <td>['mainland chinese pop', 'mandopop']</td>\n",
       "    </tr>\n",
       "  </tbody>\n",
       "</table>\n",
       "</div>"
      ],
      "text/plain": [
       "                       id              song artist             album  \\\n",
       "0  2C0sdXFRzSeVERbPYwRocB       目及皆是你 - 心跳版   小蓝背心             目及皆是你   \n",
       "1  2yQSlIvIfRD8pVcNbDhXNw             還是會想你    林達浪             還是會想你   \n",
       "2  3xCHPowgMf0ZgXPxXHhUFX   I Love You - 伴奏    汪東城  I Love You (中文版)   \n",
       "3  08Lw339w7ziPVRVq6B57fo  I Love You - 中文版    汪東城  I Love You (中文版)   \n",
       "4  4X5SAZ4JKejo2tPhvCJhZf              愛的魔法     金莎              他不愛我   \n",
       "\n",
       "   popularity  duration                                            img_url  \\\n",
       "0          51    175000  https://i.scdn.co/image/ab67616d0000b273cf2696...   \n",
       "1          52    190063  https://i.scdn.co/image/ab67616d0000b2734ccb1f...   \n",
       "2           6    182567  https://i.scdn.co/image/ab67616d0000b2736aec71...   \n",
       "3          34    182567  https://i.scdn.co/image/ab67616d0000b2736aec71...   \n",
       "4          45    191895  https://i.scdn.co/image/ab67616d0000b273d3a256...   \n",
       "\n",
       "                                 genres  \n",
       "0                 ['chinese viral pop']  \n",
       "1                 ['chinese viral pop']  \n",
       "2                                    []  \n",
       "3                                    []  \n",
       "4  ['mainland chinese pop', 'mandopop']  "
      ]
     },
     "execution_count": 265,
     "metadata": {},
     "output_type": "execute_result"
    }
   ],
   "source": [
    "first_user_df.head()"
   ]
  },
  {
   "cell_type": "code",
   "execution_count": 266,
   "id": "acd4dd1d",
   "metadata": {},
   "outputs": [
    {
     "data": {
      "text/html": [
       "<div>\n",
       "<style scoped>\n",
       "    .dataframe tbody tr th:only-of-type {\n",
       "        vertical-align: middle;\n",
       "    }\n",
       "\n",
       "    .dataframe tbody tr th {\n",
       "        vertical-align: top;\n",
       "    }\n",
       "\n",
       "    .dataframe thead th {\n",
       "        text-align: right;\n",
       "    }\n",
       "</style>\n",
       "<table border=\"1\" class=\"dataframe\">\n",
       "  <thead>\n",
       "    <tr style=\"text-align: right;\">\n",
       "      <th></th>\n",
       "      <th>id</th>\n",
       "      <th>song</th>\n",
       "      <th>artist</th>\n",
       "      <th>album</th>\n",
       "      <th>popularity</th>\n",
       "      <th>duration</th>\n",
       "      <th>img_url</th>\n",
       "      <th>genres</th>\n",
       "    </tr>\n",
       "  </thead>\n",
       "  <tbody>\n",
       "    <tr>\n",
       "      <th>0</th>\n",
       "      <td>4BHzQ9C00ceJxfG16AlNWb</td>\n",
       "      <td>Send My Love (To Your New Lover)</td>\n",
       "      <td>Adele</td>\n",
       "      <td>25</td>\n",
       "      <td>2</td>\n",
       "      <td>223080</td>\n",
       "      <td>https://i.scdn.co/image/ab67616d0000b2734c3bbc...</td>\n",
       "      <td>['british soul', 'pop', 'pop soul', 'uk pop']</td>\n",
       "    </tr>\n",
       "    <tr>\n",
       "      <th>1</th>\n",
       "      <td>4xqrdfXkTW4T0RauPLv3WA</td>\n",
       "      <td>Heather</td>\n",
       "      <td>Conan Gray</td>\n",
       "      <td>Kid Krow</td>\n",
       "      <td>87</td>\n",
       "      <td>198040</td>\n",
       "      <td>https://i.scdn.co/image/ab67616d0000b27388e3cd...</td>\n",
       "      <td>['bedroom pop', 'electropop', 'indie pop', 'pop']</td>\n",
       "    </tr>\n",
       "    <tr>\n",
       "      <th>2</th>\n",
       "      <td>0k6LV1ohcK2hlNPwu1nVw9</td>\n",
       "      <td>Cold Heart - Acoustic</td>\n",
       "      <td>Elton John</td>\n",
       "      <td>Cold Heart (Acoustic)</td>\n",
       "      <td>66</td>\n",
       "      <td>195373</td>\n",
       "      <td>https://i.scdn.co/image/ab67616d0000b273b4d0d4...</td>\n",
       "      <td>['glam rock', 'mellow gold', 'piano rock']</td>\n",
       "    </tr>\n",
       "    <tr>\n",
       "      <th>3</th>\n",
       "      <td>5JCoSi02qi3jJeHdZXMmR8</td>\n",
       "      <td>favorite crime</td>\n",
       "      <td>Olivia Rodrigo</td>\n",
       "      <td>SOUR</td>\n",
       "      <td>87</td>\n",
       "      <td>152666</td>\n",
       "      <td>https://i.scdn.co/image/ab67616d0000b273a91c10...</td>\n",
       "      <td>['pop']</td>\n",
       "    </tr>\n",
       "    <tr>\n",
       "      <th>4</th>\n",
       "      <td>3WbHsfnKTIpte7B14whqjF</td>\n",
       "      <td>the boy</td>\n",
       "      <td>lullaboy</td>\n",
       "      <td>the boy</td>\n",
       "      <td>54</td>\n",
       "      <td>216530</td>\n",
       "      <td>https://i.scdn.co/image/ab67616d0000b273e608ce...</td>\n",
       "      <td>['chill r&amp;b']</td>\n",
       "    </tr>\n",
       "  </tbody>\n",
       "</table>\n",
       "</div>"
      ],
      "text/plain": [
       "                       id                              song          artist  \\\n",
       "0  4BHzQ9C00ceJxfG16AlNWb  Send My Love (To Your New Lover)           Adele   \n",
       "1  4xqrdfXkTW4T0RauPLv3WA                           Heather      Conan Gray   \n",
       "2  0k6LV1ohcK2hlNPwu1nVw9             Cold Heart - Acoustic      Elton John   \n",
       "3  5JCoSi02qi3jJeHdZXMmR8                    favorite crime  Olivia Rodrigo   \n",
       "4  3WbHsfnKTIpte7B14whqjF                           the boy        lullaboy   \n",
       "\n",
       "                   album  popularity  duration  \\\n",
       "0                     25           2    223080   \n",
       "1               Kid Krow          87    198040   \n",
       "2  Cold Heart (Acoustic)          66    195373   \n",
       "3                   SOUR          87    152666   \n",
       "4                the boy          54    216530   \n",
       "\n",
       "                                             img_url  \\\n",
       "0  https://i.scdn.co/image/ab67616d0000b2734c3bbc...   \n",
       "1  https://i.scdn.co/image/ab67616d0000b27388e3cd...   \n",
       "2  https://i.scdn.co/image/ab67616d0000b273b4d0d4...   \n",
       "3  https://i.scdn.co/image/ab67616d0000b273a91c10...   \n",
       "4  https://i.scdn.co/image/ab67616d0000b273e608ce...   \n",
       "\n",
       "                                              genres  \n",
       "0      ['british soul', 'pop', 'pop soul', 'uk pop']  \n",
       "1  ['bedroom pop', 'electropop', 'indie pop', 'pop']  \n",
       "2         ['glam rock', 'mellow gold', 'piano rock']  \n",
       "3                                            ['pop']  \n",
       "4                                      ['chill r&b']  "
      ]
     },
     "execution_count": 266,
     "metadata": {},
     "output_type": "execute_result"
    }
   ],
   "source": [
    "second_user_df.head()"
   ]
  },
  {
   "cell_type": "code",
   "execution_count": 267,
   "id": "37d5947e",
   "metadata": {},
   "outputs": [
    {
     "data": {
      "text/html": [
       "<div>\n",
       "<style scoped>\n",
       "    .dataframe tbody tr th:only-of-type {\n",
       "        vertical-align: middle;\n",
       "    }\n",
       "\n",
       "    .dataframe tbody tr th {\n",
       "        vertical-align: top;\n",
       "    }\n",
       "\n",
       "    .dataframe thead th {\n",
       "        text-align: right;\n",
       "    }\n",
       "</style>\n",
       "<table border=\"1\" class=\"dataframe\">\n",
       "  <thead>\n",
       "    <tr style=\"text-align: right;\">\n",
       "      <th></th>\n",
       "      <th>id</th>\n",
       "      <th>song</th>\n",
       "      <th>artist</th>\n",
       "      <th>album</th>\n",
       "      <th>popularity</th>\n",
       "      <th>duration</th>\n",
       "      <th>img_url</th>\n",
       "      <th>genres</th>\n",
       "    </tr>\n",
       "  </thead>\n",
       "  <tbody>\n",
       "    <tr>\n",
       "      <th>611</th>\n",
       "      <td>6MowDwhgexwoy0Udut569m</td>\n",
       "      <td>어느 봄날 One Spring Day</td>\n",
       "      <td>2am</td>\n",
       "      <td>어느 봄날 One Spring Day</td>\n",
       "      <td>0</td>\n",
       "      <td>234095</td>\n",
       "      <td>https://i.scdn.co/image/ab67616d0000b273268f36...</td>\n",
       "      <td>['k-pop', 'korean pop']</td>\n",
       "    </tr>\n",
       "    <tr>\n",
       "      <th>555</th>\n",
       "      <td>39MeD1A1B9njOtpB1PK6ym</td>\n",
       "      <td>Sky</td>\n",
       "      <td>K.R.Y</td>\n",
       "      <td>To The Beautiful You OST</td>\n",
       "      <td>0</td>\n",
       "      <td>282650</td>\n",
       "      <td>https://i.scdn.co/image/ab67616d0000b273286883...</td>\n",
       "      <td>[]</td>\n",
       "    </tr>\n",
       "    <tr>\n",
       "      <th>282</th>\n",
       "      <td>7uzib3dSSwgUwcD3z0k3bR</td>\n",
       "      <td>FXXK IT</td>\n",
       "      <td>BIGBANG</td>\n",
       "      <td>MADE</td>\n",
       "      <td>0</td>\n",
       "      <td>231810</td>\n",
       "      <td>https://i.scdn.co/image/ab67616d0000b2735c2254...</td>\n",
       "      <td>['k-pop', 'k-pop boy group']</td>\n",
       "    </tr>\n",
       "    <tr>\n",
       "      <th>283</th>\n",
       "      <td>4a1FFgdBIbAvyn4d40YAPZ</td>\n",
       "      <td>LOSER</td>\n",
       "      <td>BIGBANG</td>\n",
       "      <td>MADE</td>\n",
       "      <td>0</td>\n",
       "      <td>219428</td>\n",
       "      <td>https://i.scdn.co/image/ab67616d0000b2735c2254...</td>\n",
       "      <td>['k-pop', 'k-pop boy group']</td>\n",
       "    </tr>\n",
       "    <tr>\n",
       "      <th>284</th>\n",
       "      <td>73szhI6oOawKlv6AxgHIS8</td>\n",
       "      <td>LAST DANCE</td>\n",
       "      <td>BIGBANG</td>\n",
       "      <td>MADE</td>\n",
       "      <td>0</td>\n",
       "      <td>279719</td>\n",
       "      <td>https://i.scdn.co/image/ab67616d0000b2735c2254...</td>\n",
       "      <td>['k-pop', 'k-pop boy group']</td>\n",
       "    </tr>\n",
       "    <tr>\n",
       "      <th>...</th>\n",
       "      <td>...</td>\n",
       "      <td>...</td>\n",
       "      <td>...</td>\n",
       "      <td>...</td>\n",
       "      <td>...</td>\n",
       "      <td>...</td>\n",
       "      <td>...</td>\n",
       "      <td>...</td>\n",
       "    </tr>\n",
       "    <tr>\n",
       "      <th>1244</th>\n",
       "      <td>2CVChktEKBsM6v4IfdFU5k</td>\n",
       "      <td>double take</td>\n",
       "      <td>dhruv</td>\n",
       "      <td>double take</td>\n",
       "      <td>87</td>\n",
       "      <td>171743</td>\n",
       "      <td>https://i.scdn.co/image/ab67616d0000b2737eab04...</td>\n",
       "      <td>['chill r&amp;b', 'nyc pop', 'pop']</td>\n",
       "    </tr>\n",
       "    <tr>\n",
       "      <th>58</th>\n",
       "      <td>0pqnGHJpmpxLKifKRmU6WP</td>\n",
       "      <td>Believer</td>\n",
       "      <td>Imagine Dragons</td>\n",
       "      <td>Evolve</td>\n",
       "      <td>87</td>\n",
       "      <td>204346</td>\n",
       "      <td>https://i.scdn.co/image/ab67616d0000b2735675e8...</td>\n",
       "      <td>['modern rock', 'pop', 'rock']</td>\n",
       "    </tr>\n",
       "    <tr>\n",
       "      <th>51</th>\n",
       "      <td>3AJwUDP919kvQ9QcozQPxg</td>\n",
       "      <td>Yellow</td>\n",
       "      <td>Coldplay</td>\n",
       "      <td>Parachutes</td>\n",
       "      <td>87</td>\n",
       "      <td>266773</td>\n",
       "      <td>https://i.scdn.co/image/ab67616d0000b2733d92b2...</td>\n",
       "      <td>['permanent wave', 'pop']</td>\n",
       "    </tr>\n",
       "    <tr>\n",
       "      <th>119</th>\n",
       "      <td>0u2P5u6lvoDfwTYjAADbn4</td>\n",
       "      <td>lovely (with Khalid)</td>\n",
       "      <td>Billie Eilish</td>\n",
       "      <td>lovely (with Khalid)</td>\n",
       "      <td>88</td>\n",
       "      <td>200185</td>\n",
       "      <td>https://i.scdn.co/image/ab67616d0000b2738a3f0a...</td>\n",
       "      <td>['electropop', 'pop']</td>\n",
       "    </tr>\n",
       "    <tr>\n",
       "      <th>1265</th>\n",
       "      <td>5PjdY0CKGZdEuoNab3yDmX</td>\n",
       "      <td>STAY (with Justin Bieber)</td>\n",
       "      <td>The Kid LAROI</td>\n",
       "      <td>F*CK LOVE 3: OVER YOU</td>\n",
       "      <td>93</td>\n",
       "      <td>141805</td>\n",
       "      <td>https://i.scdn.co/image/ab67616d0000b2738e6551...</td>\n",
       "      <td>['australian hip hop']</td>\n",
       "    </tr>\n",
       "  </tbody>\n",
       "</table>\n",
       "<p>1123 rows × 8 columns</p>\n",
       "</div>"
      ],
      "text/plain": [
       "                          id                       song           artist  \\\n",
       "611   6MowDwhgexwoy0Udut569m       어느 봄날 One Spring Day              2am   \n",
       "555   39MeD1A1B9njOtpB1PK6ym                        Sky            K.R.Y   \n",
       "282   7uzib3dSSwgUwcD3z0k3bR                    FXXK IT          BIGBANG   \n",
       "283   4a1FFgdBIbAvyn4d40YAPZ                      LOSER          BIGBANG   \n",
       "284   73szhI6oOawKlv6AxgHIS8                 LAST DANCE          BIGBANG   \n",
       "...                      ...                        ...              ...   \n",
       "1244  2CVChktEKBsM6v4IfdFU5k                double take            dhruv   \n",
       "58    0pqnGHJpmpxLKifKRmU6WP                   Believer  Imagine Dragons   \n",
       "51    3AJwUDP919kvQ9QcozQPxg                     Yellow         Coldplay   \n",
       "119   0u2P5u6lvoDfwTYjAADbn4       lovely (with Khalid)    Billie Eilish   \n",
       "1265  5PjdY0CKGZdEuoNab3yDmX  STAY (with Justin Bieber)    The Kid LAROI   \n",
       "\n",
       "                         album  popularity  duration  \\\n",
       "611       어느 봄날 One Spring Day           0    234095   \n",
       "555   To The Beautiful You OST           0    282650   \n",
       "282                       MADE           0    231810   \n",
       "283                       MADE           0    219428   \n",
       "284                       MADE           0    279719   \n",
       "...                        ...         ...       ...   \n",
       "1244               double take          87    171743   \n",
       "58                      Evolve          87    204346   \n",
       "51                  Parachutes          87    266773   \n",
       "119       lovely (with Khalid)          88    200185   \n",
       "1265     F*CK LOVE 3: OVER YOU          93    141805   \n",
       "\n",
       "                                                img_url  \\\n",
       "611   https://i.scdn.co/image/ab67616d0000b273268f36...   \n",
       "555   https://i.scdn.co/image/ab67616d0000b273286883...   \n",
       "282   https://i.scdn.co/image/ab67616d0000b2735c2254...   \n",
       "283   https://i.scdn.co/image/ab67616d0000b2735c2254...   \n",
       "284   https://i.scdn.co/image/ab67616d0000b2735c2254...   \n",
       "...                                                 ...   \n",
       "1244  https://i.scdn.co/image/ab67616d0000b2737eab04...   \n",
       "58    https://i.scdn.co/image/ab67616d0000b2735675e8...   \n",
       "51    https://i.scdn.co/image/ab67616d0000b2733d92b2...   \n",
       "119   https://i.scdn.co/image/ab67616d0000b2738a3f0a...   \n",
       "1265  https://i.scdn.co/image/ab67616d0000b2738e6551...   \n",
       "\n",
       "                               genres  \n",
       "611           ['k-pop', 'korean pop']  \n",
       "555                                []  \n",
       "282      ['k-pop', 'k-pop boy group']  \n",
       "283      ['k-pop', 'k-pop boy group']  \n",
       "284      ['k-pop', 'k-pop boy group']  \n",
       "...                               ...  \n",
       "1244  ['chill r&b', 'nyc pop', 'pop']  \n",
       "58     ['modern rock', 'pop', 'rock']  \n",
       "51          ['permanent wave', 'pop']  \n",
       "119             ['electropop', 'pop']  \n",
       "1265           ['australian hip hop']  \n",
       "\n",
       "[1123 rows x 8 columns]"
      ]
     },
     "execution_count": 267,
     "metadata": {},
     "output_type": "execute_result"
    }
   ],
   "source": [
    "first_user_df.sort_values(by=[\"popularity\"])"
   ]
  },
  {
   "cell_type": "code",
   "execution_count": 268,
   "id": "cd6a030e",
   "metadata": {},
   "outputs": [],
   "source": [
    "def generateDictionary(dataframe, column):\n",
    "    user_data = []\n",
    "    if column not in dataframe:\n",
    "        print(\"Column doesn't exist\")\n",
    "        return 0\n",
    "    \n",
    "    for row in dataframe[column]:\n",
    "        row_data = row.replace(\"[\",\"\").replace(\"]\",\"\").replace(\"'\",\"\").split(\", \")\n",
    "        if row_data:\n",
    "            user_data += row_data\n",
    "\n",
    "    user_data = [i for i in user_data if i]\n",
    "\n",
    "    user_dict = dict()\n",
    "\n",
    "    for row in user_data:\n",
    "        user_dict[row] = user_dict.get(row,0) + 1\n",
    "    \n",
    "    return user_dict"
   ]
  },
  {
   "cell_type": "code",
   "execution_count": 269,
   "id": "4439733e",
   "metadata": {},
   "outputs": [],
   "source": [
    "def plot(genres_dictionary, user_dataframe, feature):\n",
    "    user_genres_dict = genres_dictionary\n",
    "    username = user_dataframe[\"display_name\"][0]\n",
    "    def take(n, iterable):\n",
    "        return dict(islice(iterable, n))\n",
    "\n",
    "    sorted_user_genres =  {k: v for k, v in sorted(user_genres_dict.items(), \n",
    "                                                             reverse = True, key=lambda item: item[1])}\n",
    "    top_10_user_genres = take(10, sorted_user_genres.items())\n",
    "\n",
    "    plt.barh(list(top_10_user_genres.keys()), top_10_user_genres.values() , align='center')\n",
    "    plt.xlabel(\"Counts\")\n",
    "    plt.ylabel(feature.capitalize())\n",
    "    plt.title(username + \"'s top \" + feature)\n",
    "    plt.show()"
   ]
  },
  {
   "cell_type": "code",
   "execution_count": 270,
   "id": "5bd54935",
   "metadata": {},
   "outputs": [],
   "source": [
    "first_user_genres_dict = generateDictionary(first_user_df, \"genres\")\n",
    "second_user_genres_dict = generateDictionary(second_user_df, \"genres\")\n",
    "\n",
    "first_user_artists_dict = generateDictionary(first_user_df, \"artist\")\n",
    "second_user_artists_dict = generateDictionary(second_user_df, \"artist\")\n",
    "\n",
    "first_user_songs_dict = generateDictionary(first_user_df, \"id\")\n",
    "second_user_songs_dict = generateDictionary(second_user_df, \"id\")"
   ]
  },
  {
   "cell_type": "code",
   "execution_count": 271,
   "id": "617a20df",
   "metadata": {},
   "outputs": [
    {
     "data": {
      "image/png": "[encoded data removed]",
      "text/plain": [
       "<Figure size 432x288 with 1 Axes>"
      ]
     },
     "metadata": {
      "needs_background": "light"
     },
     "output_type": "display_data"
    }
   ],
   "source": [
    "plot(first_user_genres_dict, first_user_info_df, \"genres\")"
   ]
  },
  {
   "cell_type": "code",
   "execution_count": 272,
   "id": "fe1a9ef7",
   "metadata": {},
   "outputs": [
    {
     "data": {
      "image/png": "[encoded data removed]",
      "text/plain": [
       "<Figure size 432x288 with 1 Axes>"
      ]
     },
     "metadata": {
      "needs_background": "light"
     },
     "output_type": "display_data"
    }
   ],
   "source": [
    "plot(second_user_genres_dict, second_user_info_df, \"genres\")"
   ]
  },
  {
   "cell_type": "code",
   "execution_count": null,
   "id": "f9e6d494",
   "metadata": {},
   "outputs": [],
   "source": []
  },
  {
   "cell_type": "code",
   "execution_count": 273,
   "id": "6a98a1e1",
   "metadata": {},
   "outputs": [
    {
     "data": {
      "image/png": "[encoded data removed]",
      "text/plain": [
       "<Figure size 432x288 with 1 Axes>"
      ]
     },
     "metadata": {
      "needs_background": "light"
     },
     "output_type": "display_data"
    }
   ],
   "source": [
    "plot(first_user_artists_dict, first_user_info_df, \"artists\")"
   ]
  },
  {
   "cell_type": "code",
   "execution_count": 274,
   "id": "47df65d9",
   "metadata": {},
   "outputs": [
    {
     "data": {
      "image/png": "[encoded data removed]",
      "text/plain": [
       "<Figure size 432x288 with 1 Axes>"
      ]
     },
     "metadata": {
      "needs_background": "light"
     },
     "output_type": "display_data"
    }
   ],
   "source": [
    "plot(second_user_artists_dict, second_user_info_df, \"artists\")"
   ]
  },
  {
   "cell_type": "code",
   "execution_count": null,
   "id": "e7840ab7",
   "metadata": {},
   "outputs": [],
   "source": []
  },
  {
   "cell_type": "code",
   "execution_count": 275,
   "id": "ae22c76a",
   "metadata": {},
   "outputs": [],
   "source": [
    "def featureAnalysis(first_user_dict, second_user_dict, feature):\n",
    "    first_user_feature = first_user_dict\n",
    "    second_user_feature = second_user_dict\n",
    "    \n",
    "    common_features = dict()\n",
    "    for key in first_user_feature:\n",
    "        if key in second_user_feature:\n",
    "            common_features[key] = min(first_user_feature[key], second_user_feature[key])\n",
    "    \n",
    "    if common_features:\n",
    "        sorted_common_features =  {k: v for k, v in sorted(common_features.items(), \n",
    "                                                             reverse = True, key=lambda item: item[1])}\n",
    "    \n",
    "        print(\"Most common \" + feature + \":\")\n",
    "        for i,key in enumerate(sorted_common_features):\n",
    "            if i == 5: break\n",
    "            if feature == \"songs\":\n",
    "                song = first_user_df.loc[first_user_df[\"id\"]==key].values[0]\n",
    "                print(song[1] + \" by \" + song[2] + \" in \" + song[3])\n",
    "            else:\n",
    "                print(key, sorted_common_features[key])\n",
    "    else:\n",
    "        print(\"No common \" + feature)\n",
    "        \n",
    "#     score = len(set(first_) & set(test_list2)) / float(len(set(test_list1) | set(test_list2))) * 100"
   ]
  },
  {
   "cell_type": "code",
   "execution_count": 276,
   "id": "c959d5fc",
   "metadata": {},
   "outputs": [
    {
     "name": "stdout",
     "output_type": "stream",
     "text": [
      "Most common genres:\n",
      "pop 91\n",
      "dance pop 47\n",
      "viral pop 43\n",
      "v-pop 33\n",
      "j-pop 19\n"
     ]
    }
   ],
   "source": [
    "featureAnalysis(first_user_genres_dict, second_user_genres_dict, \"genres\")"
   ]
  },
  {
   "cell_type": "code",
   "execution_count": 277,
   "id": "629a6a64",
   "metadata": {},
   "outputs": [
    {
     "name": "stdout",
     "output_type": "stream",
     "text": [
      "Most common artists:\n",
      "Alan Walker 7\n",
      "Coldplay 2\n",
      "Avicii 2\n",
      "AURORA 1\n",
      "Maroon 5 1\n"
     ]
    }
   ],
   "source": [
    "featureAnalysis(first_user_artists_dict, second_user_artists_dict, \"artists\")"
   ]
  },
  {
   "cell_type": "code",
   "execution_count": 278,
   "id": "e763317d",
   "metadata": {},
   "outputs": [
    {
     "name": "stdout",
     "output_type": "stream",
     "text": [
      "Most common songs:\n",
      "Runaway by AURORA in All My Demons Greeting Me as a Friend (Deluxe)\n",
      "Hymn for the Weekend by Coldplay in A Head Full of Dreams\n",
      "シルエット by KANA-BOON in Time\n",
      "Stay With Me by CHANYEOL in Guardian (Original Television Soundtrack), Pt. 1\n",
      "Can’t Help Falling in Love by Kina Grannis in Crazy Rich Asians (Original Motion Picture Soundtrack)\n"
     ]
    }
   ],
   "source": [
    "featureAnalysis(first_user_songs_dict, second_user_songs_dict, \"songs\")\n"
   ]
  },
  {
   "cell_type": "code",
   "execution_count": 279,
   "id": "566f88d2",
   "metadata": {},
   "outputs": [],
   "source": [
    "def popularityAnalysis(first_dataframe, first_user_info_df, second_dataframe, second_user_info_df):\n",
    "    print(first_user_info_df[\"display_name\"][0] + \"'s average songs' popularity is\", first_dataframe[\"popularity\"].mean())\n",
    "    print(second_user_info_df[\"display_name\"][0] + \"'s average songs' popularity is\", second_dataframe[\"popularity\"].mean())\n",
    "    print(\"\\n\")\n",
    "    \n",
    "    max_first_pop = first_dataframe.sort_values(by=[\"popularity\"]).iloc[-1]\n",
    "    min_first_pop = first_dataframe.sort_values(by=[\"popularity\"]).iloc[0]\n",
    "    \n",
    "    print(first_user_info_df[\"display_name\"][0] + \"'s most and least popular songs are\")                                                \n",
    "    print(max_first_pop[\"song\"] + \" by \" + max_first_pop[\"artist\"] + \" with popularity \" + str(max_first_pop[\"popularity\"]))\n",
    "    print(min_first_pop[\"song\"] + \" by \" + min_first_pop[\"artist\"] + \" with popularity \" + str(min_first_pop[\"popularity\"]))\n",
    "    print(\"\\n\")\n",
    "    max_second_pop = second_dataframe.sort_values(by=[\"popularity\"]).iloc[-1]\n",
    "    min_second_pop = second_dataframe.sort_values(by=[\"popularity\"]).iloc[0]\n",
    "    \n",
    "    print(second_user_info_df[\"display_name\"][0] + \"'s most and least popular songs are\")\n",
    "    print(max_second_pop[\"song\"] + \" by \" + max_second_pop[\"artist\"] + \" with popularity \" + str(max_second_pop[\"popularity\"]))\n",
    "    print(min_second_pop[\"song\"] + \" by \" + min_second_pop[\"artist\"] + \" with popularity \" + str(min_second_pop[\"popularity\"]))"
   ]
  },
  {
   "cell_type": "code",
   "execution_count": 280,
   "id": "def3201b",
   "metadata": {
    "scrolled": true
   },
   "outputs": [
    {
     "name": "stdout",
     "output_type": "stream",
     "text": [
      "Diệu Myy's average songs' popularity is 43.94924309884239\n",
      "Hoàng Duy Bachs's average songs' popularity is 42.231454005934715\n",
      "\n",
      "\n",
      "Diệu Myy's most and least popular songs are\n",
      "STAY (with Justin Bieber) by The Kid LAROI with popularity 93\n",
      "어느 봄날 One Spring Day by 2am with popularity 0\n",
      "\n",
      "\n",
      "Hoàng Duy Bachs's most and least popular songs are\n",
      "Heather by Conan Gray with popularity 87\n",
      "Người Âm Phủ by Osad with popularity 0\n"
     ]
    }
   ],
   "source": [
    "popularityAnalysis(first_user_df, first_user_info_df, second_user_df, second_user_info_df)"
   ]
  },
  {
   "cell_type": "code",
   "execution_count": null,
   "id": "ae75640e",
   "metadata": {},
   "outputs": [],
   "source": []
  },
  {
   "cell_type": "code",
   "execution_count": 281,
   "id": "a81c4e57",
   "metadata": {},
   "outputs": [],
   "source": [
    "def similarityAnalysis(first_user_df, first_user_info_df, second_user_df, second_user_info_df, feature):\n",
    "    if feature == \"song\":\n",
    "        feature = \"id\"\n",
    "    \n",
    "    if feature == \"genres\":\n",
    "        u1 = first_user_df[feature].to_numpy()\n",
    "        u2 = second_user_df[feature].to_numpy()\n",
    "        u1_set = set()\n",
    "        u2_set = set()\n",
    "        for item in u1:\n",
    "            item = item.replace(\"[\",\"\").replace(\"]\",\"\").replace(\"'\",\"\").split(\", \")\n",
    "            for genre in item:\n",
    "                u1_set.add(genre)\n",
    "        for item in u2:\n",
    "            item = item.replace(\"[\",\"\").replace(\"]\",\"\").replace(\"'\",\"\").split(\", \")\n",
    "            for genre in item:\n",
    "                u2_set.add(genre)\n",
    "                \n",
    "        similarity = len(set(u1_set) & set(u2_set))/len(set(u1_set) | set(u2_set))*100\n",
    "    \n",
    "    else:\n",
    "        u1 = first_user_df[feature]\n",
    "        u2 = second_user_df[feature]\n",
    "        u1.drop_duplicates(keep = \"first\", inplace = True)\n",
    "        u2.drop_duplicates(keep = \"first\", inplace = True)\n",
    "        similarity = len(pd.merge(u1, u2, how = \"inner\").index)/len(pd.merge(u1, u2, how = \"outer\").index)*100\n",
    "    \n",
    "    return similarity\n"
   ]
  },
  {
   "cell_type": "code",
   "execution_count": null,
   "id": "0940d9be",
   "metadata": {},
   "outputs": [],
   "source": []
  },
  {
   "cell_type": "code",
   "execution_count": 282,
   "id": "a8e6facd",
   "metadata": {},
   "outputs": [
    {
     "name": "stdout",
     "output_type": "stream",
     "text": [
      "Songs similarity 1.0380622837370241 %\n",
      "Aritsts similarity 6.811989100817439 %\n",
      "Albums similarity 1.6536118363794605 %\n",
      "Popularity similarity 92.22222222222223 %\n",
      "Genres similiarity 28.969359331476323 %\n"
     ]
    }
   ],
   "source": [
    "print(\"Songs similarity\",similarityAnalysis(first_user_df, first_user_info_df, second_user_df, second_user_info_df, \"song\"),\"%\")\n",
    "print(\"Aritsts similarity\", similarityAnalysis(first_user_df, first_user_info_df, second_user_df, second_user_info_df, \"artist\"), \"%\")\n",
    "print(\"Albums similarity\", similarityAnalysis(first_user_df, first_user_info_df, second_user_df, second_user_info_df, \"album\"), \"%\")\n",
    "print(\"Popularity similarity\", similarityAnalysis(first_user_df, first_user_info_df, second_user_df, second_user_info_df, \"popularity\"), '%')\n",
    "print(\"Genres similiarity\", similarityAnalysis(first_user_df, first_user_info_df, second_user_df, second_user_info_df, \"genres\"), \"%\")"
   ]
  },
  {
   "cell_type": "code",
   "execution_count": null,
   "id": "d87fd580",
   "metadata": {},
   "outputs": [],
   "source": []
  }
 ],
 "metadata": {
  "kernelspec": {
   "display_name": "Python 3",
   "language": "python",
   "name": "python3"
  },
  "language_info": {
   "codemirror_mode": {
    "name": "ipython",
    "version": 3
   },
   "file_extension": ".py",
   "mimetype": "text/x-python",
   "name": "python",
   "nbconvert_exporter": "python",
   "pygments_lexer": "ipython3",
   "version": "3.8.8"
  }
 },
 "nbformat": 4,
 "nbformat_minor": 5
}
