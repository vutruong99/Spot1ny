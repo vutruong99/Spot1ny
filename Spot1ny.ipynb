{
 "cells": [
  {
   "cell_type": "code",
   "execution_count": 190,
   "id": "4e0af3fe",
   "metadata": {},
   "outputs": [],
   "source": [
    "import pandas as pd\n",
    "import matplotlib.pyplot as plt\n",
    "from itertools import islice\n",
    "import pprint"
   ]
  },
  {
   "cell_type": "code",
   "execution_count": 191,
   "id": "efee67fc",
   "metadata": {},
   "outputs": [],
   "source": [
    "# Read files\n",
    "first_user_df = pd.read_csv(\"first_user_data.csv\")\n",
    "second_user_df = pd.read_csv(\"second_user_data.csv\")\n",
    "first_user_info_df = pd.read_csv(\"first_user_info.csv\")\n",
    "second_user_info_df = pd.read_csv(\"second_user_info.csv\")"
   ]
  },
  {
   "cell_type": "code",
   "execution_count": 192,
   "id": "42a4ffbf",
   "metadata": {},
   "outputs": [
    {
     "name": "stdout",
     "output_type": "stream",
     "text": [
      "1282\n",
      "109\n"
     ]
    }
   ],
   "source": [
    "print(len(first_user_df))\n",
    "print(len(second_user_df))"
   ]
  },
  {
   "cell_type": "code",
   "execution_count": 193,
   "id": "e73e3edb",
   "metadata": {},
   "outputs": [],
   "source": [
    "# Drop duplicate records\n",
    "first_user_df.drop_duplicates(subset = [\"id\"], keep = \"first\", inplace = True)\n",
    "second_user_df.drop_duplicates(subset = [\"id\"], keep = \"first\", inplace = True)"
   ]
  },
  {
   "cell_type": "code",
   "execution_count": 194,
   "id": "0855da6e",
   "metadata": {},
   "outputs": [
    {
     "name": "stdout",
     "output_type": "stream",
     "text": [
      "1111\n",
      "107\n"
     ]
    }
   ],
   "source": [
    "print(len(first_user_df))\n",
    "print(len(second_user_df))"
   ]
  },
  {
   "cell_type": "code",
   "execution_count": 195,
   "id": "91fcd75a",
   "metadata": {},
   "outputs": [
    {
     "data": {
      "text/html": [
       "<div>\n",
       "<style scoped>\n",
       "    .dataframe tbody tr th:only-of-type {\n",
       "        vertical-align: middle;\n",
       "    }\n",
       "\n",
       "    .dataframe tbody tr th {\n",
       "        vertical-align: top;\n",
       "    }\n",
       "\n",
       "    .dataframe thead th {\n",
       "        text-align: right;\n",
       "    }\n",
       "</style>\n",
       "<table border=\"1\" class=\"dataframe\">\n",
       "  <thead>\n",
       "    <tr style=\"text-align: right;\">\n",
       "      <th></th>\n",
       "      <th>id</th>\n",
       "      <th>song</th>\n",
       "      <th>artist</th>\n",
       "      <th>album</th>\n",
       "      <th>popularity</th>\n",
       "      <th>duration</th>\n",
       "      <th>img_url</th>\n",
       "      <th>genres</th>\n",
       "    </tr>\n",
       "  </thead>\n",
       "  <tbody>\n",
       "    <tr>\n",
       "      <th>0</th>\n",
       "      <td>2C0sdXFRzSeVERbPYwRocB</td>\n",
       "      <td>目及皆是你 - 心跳版</td>\n",
       "      <td>小蓝背心</td>\n",
       "      <td>目及皆是你</td>\n",
       "      <td>49</td>\n",
       "      <td>175000</td>\n",
       "      <td>https://i.scdn.co/image/ab67616d0000b273cf2696...</td>\n",
       "      <td>['chinese viral pop']</td>\n",
       "    </tr>\n",
       "    <tr>\n",
       "      <th>1</th>\n",
       "      <td>2yQSlIvIfRD8pVcNbDhXNw</td>\n",
       "      <td>還是會想你</td>\n",
       "      <td>林達浪</td>\n",
       "      <td>還是會想你</td>\n",
       "      <td>51</td>\n",
       "      <td>190063</td>\n",
       "      <td>https://i.scdn.co/image/ab67616d0000b2734ccb1f...</td>\n",
       "      <td>['chinese viral pop']</td>\n",
       "    </tr>\n",
       "    <tr>\n",
       "      <th>2</th>\n",
       "      <td>3xCHPowgMf0ZgXPxXHhUFX</td>\n",
       "      <td>I Love You - 伴奏</td>\n",
       "      <td>汪東城</td>\n",
       "      <td>I Love You (中文版)</td>\n",
       "      <td>7</td>\n",
       "      <td>182567</td>\n",
       "      <td>https://i.scdn.co/image/ab67616d0000b2736aec71...</td>\n",
       "      <td>[]</td>\n",
       "    </tr>\n",
       "    <tr>\n",
       "      <th>3</th>\n",
       "      <td>08Lw339w7ziPVRVq6B57fo</td>\n",
       "      <td>I Love You - 中文版</td>\n",
       "      <td>汪東城</td>\n",
       "      <td>I Love You (中文版)</td>\n",
       "      <td>34</td>\n",
       "      <td>182567</td>\n",
       "      <td>https://i.scdn.co/image/ab67616d0000b2736aec71...</td>\n",
       "      <td>[]</td>\n",
       "    </tr>\n",
       "    <tr>\n",
       "      <th>4</th>\n",
       "      <td>4X5SAZ4JKejo2tPhvCJhZf</td>\n",
       "      <td>愛的魔法</td>\n",
       "      <td>金莎</td>\n",
       "      <td>他不愛我</td>\n",
       "      <td>43</td>\n",
       "      <td>191895</td>\n",
       "      <td>https://i.scdn.co/image/ab67616d0000b273d3a256...</td>\n",
       "      <td>['mainland chinese pop', 'mandopop']</td>\n",
       "    </tr>\n",
       "  </tbody>\n",
       "</table>\n",
       "</div>"
      ],
      "text/plain": [
       "                       id              song artist             album  \\\n",
       "0  2C0sdXFRzSeVERbPYwRocB       目及皆是你 - 心跳版   小蓝背心             目及皆是你   \n",
       "1  2yQSlIvIfRD8pVcNbDhXNw             還是會想你    林達浪             還是會想你   \n",
       "2  3xCHPowgMf0ZgXPxXHhUFX   I Love You - 伴奏    汪東城  I Love You (中文版)   \n",
       "3  08Lw339w7ziPVRVq6B57fo  I Love You - 中文版    汪東城  I Love You (中文版)   \n",
       "4  4X5SAZ4JKejo2tPhvCJhZf              愛的魔法     金莎              他不愛我   \n",
       "\n",
       "   popularity  duration                                            img_url  \\\n",
       "0          49    175000  https://i.scdn.co/image/ab67616d0000b273cf2696...   \n",
       "1          51    190063  https://i.scdn.co/image/ab67616d0000b2734ccb1f...   \n",
       "2           7    182567  https://i.scdn.co/image/ab67616d0000b2736aec71...   \n",
       "3          34    182567  https://i.scdn.co/image/ab67616d0000b2736aec71...   \n",
       "4          43    191895  https://i.scdn.co/image/ab67616d0000b273d3a256...   \n",
       "\n",
       "                                 genres  \n",
       "0                 ['chinese viral pop']  \n",
       "1                 ['chinese viral pop']  \n",
       "2                                    []  \n",
       "3                                    []  \n",
       "4  ['mainland chinese pop', 'mandopop']  "
      ]
     },
     "execution_count": 195,
     "metadata": {},
     "output_type": "execute_result"
    }
   ],
   "source": [
    "first_user_df.head()"
   ]
  },
  {
   "cell_type": "code",
   "execution_count": 196,
   "id": "acd4dd1d",
   "metadata": {},
   "outputs": [
    {
     "data": {
      "text/html": [
       "<div>\n",
       "<style scoped>\n",
       "    .dataframe tbody tr th:only-of-type {\n",
       "        vertical-align: middle;\n",
       "    }\n",
       "\n",
       "    .dataframe tbody tr th {\n",
       "        vertical-align: top;\n",
       "    }\n",
       "\n",
       "    .dataframe thead th {\n",
       "        text-align: right;\n",
       "    }\n",
       "</style>\n",
       "<table border=\"1\" class=\"dataframe\">\n",
       "  <thead>\n",
       "    <tr style=\"text-align: right;\">\n",
       "      <th></th>\n",
       "      <th>id</th>\n",
       "      <th>song</th>\n",
       "      <th>artist</th>\n",
       "      <th>album</th>\n",
       "      <th>popularity</th>\n",
       "      <th>duration</th>\n",
       "      <th>img_url</th>\n",
       "      <th>genres</th>\n",
       "    </tr>\n",
       "  </thead>\n",
       "  <tbody>\n",
       "    <tr>\n",
       "      <th>0</th>\n",
       "      <td>4fpEuKIzTLmMJnYwFU0oqr</td>\n",
       "      <td>Death with Dignity</td>\n",
       "      <td>Sufjan Stevens</td>\n",
       "      <td>Carrie &amp; Lowell</td>\n",
       "      <td>50</td>\n",
       "      <td>239508</td>\n",
       "      <td>https://i.scdn.co/image/ab67616d0000b2734dfbe3...</td>\n",
       "      <td>['baroque pop', 'chamber pop', 'freak folk', '...</td>\n",
       "    </tr>\n",
       "    <tr>\n",
       "      <th>1</th>\n",
       "      <td>4tcwdkKzXn0Tsyz3WtH3gc</td>\n",
       "      <td>In My Mind (feat. Brian Viglione)</td>\n",
       "      <td>Amanda Palmer</td>\n",
       "      <td>Goes Down Under</td>\n",
       "      <td>0</td>\n",
       "      <td>253506</td>\n",
       "      <td>https://i.scdn.co/image/ab67616d0000b2738c7753...</td>\n",
       "      <td>['anti-folk', 'dark cabaret', 'piano rock', 's...</td>\n",
       "    </tr>\n",
       "    <tr>\n",
       "      <th>2</th>\n",
       "      <td>7yC7FWZz24L43brXzNpLWT</td>\n",
       "      <td>To All of You</td>\n",
       "      <td>Syd Matters</td>\n",
       "      <td>Someday We Will Foresee Obstacles</td>\n",
       "      <td>55</td>\n",
       "      <td>283266</td>\n",
       "      <td>https://i.scdn.co/image/ab67616d0000b273baf75f...</td>\n",
       "      <td>['folktronica', 'french indie folk']</td>\n",
       "    </tr>\n",
       "    <tr>\n",
       "      <th>3</th>\n",
       "      <td>3jfZ9M23l0L7RxzYMTgBTv</td>\n",
       "      <td>Looking Out for You</td>\n",
       "      <td>Joy Again</td>\n",
       "      <td>Looking Out for You</td>\n",
       "      <td>79</td>\n",
       "      <td>179499</td>\n",
       "      <td>https://i.scdn.co/image/ab67616d0000b2735448a3...</td>\n",
       "      <td>['indie garage rock', 'indie pop']</td>\n",
       "    </tr>\n",
       "    <tr>\n",
       "      <th>4</th>\n",
       "      <td>24HPkbkXJsIFC4eyg63zgQ</td>\n",
       "      <td>Wraith Pinned to the Mist and Other Games</td>\n",
       "      <td>of Montreal</td>\n",
       "      <td>The Sunlandic Twins</td>\n",
       "      <td>57</td>\n",
       "      <td>255613</td>\n",
       "      <td>https://i.scdn.co/image/ab67616d0000b27338a6cc...</td>\n",
       "      <td>['alternative dance', 'alternative rock', 'ant...</td>\n",
       "    </tr>\n",
       "  </tbody>\n",
       "</table>\n",
       "</div>"
      ],
      "text/plain": [
       "                       id                                       song  \\\n",
       "0  4fpEuKIzTLmMJnYwFU0oqr                         Death with Dignity   \n",
       "1  4tcwdkKzXn0Tsyz3WtH3gc          In My Mind (feat. Brian Viglione)   \n",
       "2  7yC7FWZz24L43brXzNpLWT                              To All of You   \n",
       "3  3jfZ9M23l0L7RxzYMTgBTv                        Looking Out for You   \n",
       "4  24HPkbkXJsIFC4eyg63zgQ  Wraith Pinned to the Mist and Other Games   \n",
       "\n",
       "           artist                              album  popularity  duration  \\\n",
       "0  Sufjan Stevens                    Carrie & Lowell          50    239508   \n",
       "1   Amanda Palmer                    Goes Down Under           0    253506   \n",
       "2     Syd Matters  Someday We Will Foresee Obstacles          55    283266   \n",
       "3       Joy Again                Looking Out for You          79    179499   \n",
       "4     of Montreal                The Sunlandic Twins          57    255613   \n",
       "\n",
       "                                             img_url  \\\n",
       "0  https://i.scdn.co/image/ab67616d0000b2734dfbe3...   \n",
       "1  https://i.scdn.co/image/ab67616d0000b2738c7753...   \n",
       "2  https://i.scdn.co/image/ab67616d0000b273baf75f...   \n",
       "3  https://i.scdn.co/image/ab67616d0000b2735448a3...   \n",
       "4  https://i.scdn.co/image/ab67616d0000b27338a6cc...   \n",
       "\n",
       "                                              genres  \n",
       "0  ['baroque pop', 'chamber pop', 'freak folk', '...  \n",
       "1  ['anti-folk', 'dark cabaret', 'piano rock', 's...  \n",
       "2               ['folktronica', 'french indie folk']  \n",
       "3                 ['indie garage rock', 'indie pop']  \n",
       "4  ['alternative dance', 'alternative rock', 'ant...  "
      ]
     },
     "execution_count": 196,
     "metadata": {},
     "output_type": "execute_result"
    }
   ],
   "source": [
    "second_user_df.head()"
   ]
  },
  {
   "cell_type": "code",
   "execution_count": null,
   "id": "2be2f7cd",
   "metadata": {},
   "outputs": [],
   "source": []
  },
  {
   "cell_type": "code",
   "execution_count": 197,
   "id": "d0bc5ba0",
   "metadata": {},
   "outputs": [
    {
     "data": {
      "text/plain": [
       "0     150\n",
       "49     31\n",
       "74     25\n",
       "41     24\n",
       "43     24\n",
       "     ... \n",
       "84      2\n",
       "87      1\n",
       "11      1\n",
       "15      1\n",
       "93      1\n",
       "Name: popularity, Length: 89, dtype: int64"
      ]
     },
     "execution_count": 197,
     "metadata": {},
     "output_type": "execute_result"
    }
   ],
   "source": [
    "first_user_df[\"artist\"].value_counts()\n",
    "\n",
    "first_user_df[\"popularity\"].value_counts()\n"
   ]
  },
  {
   "cell_type": "code",
   "execution_count": 198,
   "id": "37d5947e",
   "metadata": {},
   "outputs": [
    {
     "data": {
      "text/html": [
       "<div>\n",
       "<style scoped>\n",
       "    .dataframe tbody tr th:only-of-type {\n",
       "        vertical-align: middle;\n",
       "    }\n",
       "\n",
       "    .dataframe tbody tr th {\n",
       "        vertical-align: top;\n",
       "    }\n",
       "\n",
       "    .dataframe thead th {\n",
       "        text-align: right;\n",
       "    }\n",
       "</style>\n",
       "<table border=\"1\" class=\"dataframe\">\n",
       "  <thead>\n",
       "    <tr style=\"text-align: right;\">\n",
       "      <th></th>\n",
       "      <th>id</th>\n",
       "      <th>song</th>\n",
       "      <th>artist</th>\n",
       "      <th>album</th>\n",
       "      <th>popularity</th>\n",
       "      <th>duration</th>\n",
       "      <th>img_url</th>\n",
       "      <th>genres</th>\n",
       "    </tr>\n",
       "  </thead>\n",
       "  <tbody>\n",
       "    <tr>\n",
       "      <th>612</th>\n",
       "      <td>7e92ANVU4mGFFG3buPSBns</td>\n",
       "      <td>너도 나처럼 I Wonder If You Hurt Like Me</td>\n",
       "      <td>2AM</td>\n",
       "      <td>F.Scott Fitzgerald's Way Of Love</td>\n",
       "      <td>0</td>\n",
       "      <td>228453</td>\n",
       "      <td>https://i.scdn.co/image/ab67616d0000b2734ee17c...</td>\n",
       "      <td>['k-pop', 'korean pop']</td>\n",
       "    </tr>\n",
       "    <tr>\n",
       "      <th>576</th>\n",
       "      <td>7uuEfUMuPeQ7RlSWa0cES2</td>\n",
       "      <td>Can’t Help Falling in Love</td>\n",
       "      <td>Kina Grannis</td>\n",
       "      <td>Crazy Rich Asians (Original Motion Picture Sou...</td>\n",
       "      <td>0</td>\n",
       "      <td>201933</td>\n",
       "      <td>https://i.scdn.co/image/ab67616d0000b273216499...</td>\n",
       "      <td>['acoustic pop', 'neo mellow', 'pop rock', 'vi...</td>\n",
       "    </tr>\n",
       "    <tr>\n",
       "      <th>568</th>\n",
       "      <td>1nlKYpqe2qT1fwiXMr6ju3</td>\n",
       "      <td>Give Love</td>\n",
       "      <td>AKMU</td>\n",
       "      <td>PLAY</td>\n",
       "      <td>0</td>\n",
       "      <td>176532</td>\n",
       "      <td>https://i.scdn.co/image/ab67616d0000b2731b9293...</td>\n",
       "      <td>['k-pop', 'korean pop']</td>\n",
       "    </tr>\n",
       "    <tr>\n",
       "      <th>567</th>\n",
       "      <td>3jM4UiYD4GLhlbDzGRVkkX</td>\n",
       "      <td>200%</td>\n",
       "      <td>AKMU</td>\n",
       "      <td>PLAY</td>\n",
       "      <td>0</td>\n",
       "      <td>193321</td>\n",
       "      <td>https://i.scdn.co/image/ab67616d0000b2731b9293...</td>\n",
       "      <td>['k-pop', 'korean pop']</td>\n",
       "    </tr>\n",
       "    <tr>\n",
       "      <th>564</th>\n",
       "      <td>4awRNvd5iC7QGVQOwSCffw</td>\n",
       "      <td>Wings</td>\n",
       "      <td>Little Mix</td>\n",
       "      <td>DNA (Deluxe)</td>\n",
       "      <td>0</td>\n",
       "      <td>219733</td>\n",
       "      <td>https://i.scdn.co/image/ab67616d0000b27358b8c3...</td>\n",
       "      <td>['dance pop', 'girl group', 'pop', 'post-teen ...</td>\n",
       "    </tr>\n",
       "    <tr>\n",
       "      <th>...</th>\n",
       "      <td>...</td>\n",
       "      <td>...</td>\n",
       "      <td>...</td>\n",
       "      <td>...</td>\n",
       "      <td>...</td>\n",
       "      <td>...</td>\n",
       "      <td>...</td>\n",
       "      <td>...</td>\n",
       "    </tr>\n",
       "    <tr>\n",
       "      <th>963</th>\n",
       "      <td>0ct6r3EGTcMLPtrXHDvVjc</td>\n",
       "      <td>The Nights</td>\n",
       "      <td>Avicii</td>\n",
       "      <td>The Days / Nights</td>\n",
       "      <td>85</td>\n",
       "      <td>176658</td>\n",
       "      <td>https://i.scdn.co/image/ab67616d0000b2730ae4f4...</td>\n",
       "      <td>['dance pop', 'edm', 'pop', 'pop dance']</td>\n",
       "    </tr>\n",
       "    <tr>\n",
       "      <th>119</th>\n",
       "      <td>0u2P5u6lvoDfwTYjAADbn4</td>\n",
       "      <td>lovely (with Khalid)</td>\n",
       "      <td>Billie Eilish</td>\n",
       "      <td>lovely (with Khalid)</td>\n",
       "      <td>86</td>\n",
       "      <td>200185</td>\n",
       "      <td>https://i.scdn.co/image/ab67616d0000b2738a3f0a...</td>\n",
       "      <td>['electropop', 'pop']</td>\n",
       "    </tr>\n",
       "    <tr>\n",
       "      <th>58</th>\n",
       "      <td>0pqnGHJpmpxLKifKRmU6WP</td>\n",
       "      <td>Believer</td>\n",
       "      <td>Imagine Dragons</td>\n",
       "      <td>Evolve</td>\n",
       "      <td>86</td>\n",
       "      <td>204346</td>\n",
       "      <td>https://i.scdn.co/image/ab67616d0000b2735675e8...</td>\n",
       "      <td>['modern rock', 'pop', 'rock']</td>\n",
       "    </tr>\n",
       "    <tr>\n",
       "      <th>1244</th>\n",
       "      <td>2CVChktEKBsM6v4IfdFU5k</td>\n",
       "      <td>double take</td>\n",
       "      <td>dhruv</td>\n",
       "      <td>double take</td>\n",
       "      <td>87</td>\n",
       "      <td>171743</td>\n",
       "      <td>https://i.scdn.co/image/ab67616d0000b2737eab04...</td>\n",
       "      <td>['chill r&amp;b', 'nyc pop']</td>\n",
       "    </tr>\n",
       "    <tr>\n",
       "      <th>1265</th>\n",
       "      <td>5PjdY0CKGZdEuoNab3yDmX</td>\n",
       "      <td>STAY (with Justin Bieber)</td>\n",
       "      <td>The Kid LAROI</td>\n",
       "      <td>F*CK LOVE 3: OVER YOU</td>\n",
       "      <td>93</td>\n",
       "      <td>141805</td>\n",
       "      <td>https://i.scdn.co/image/ab67616d0000b2738e6551...</td>\n",
       "      <td>['australian hip hop']</td>\n",
       "    </tr>\n",
       "  </tbody>\n",
       "</table>\n",
       "<p>1111 rows × 8 columns</p>\n",
       "</div>"
      ],
      "text/plain": [
       "                          id                                 song  \\\n",
       "612   7e92ANVU4mGFFG3buPSBns  너도 나처럼 I Wonder If You Hurt Like Me   \n",
       "576   7uuEfUMuPeQ7RlSWa0cES2           Can’t Help Falling in Love   \n",
       "568   1nlKYpqe2qT1fwiXMr6ju3                            Give Love   \n",
       "567   3jM4UiYD4GLhlbDzGRVkkX                                 200%   \n",
       "564   4awRNvd5iC7QGVQOwSCffw                                Wings   \n",
       "...                      ...                                  ...   \n",
       "963   0ct6r3EGTcMLPtrXHDvVjc                           The Nights   \n",
       "119   0u2P5u6lvoDfwTYjAADbn4                 lovely (with Khalid)   \n",
       "58    0pqnGHJpmpxLKifKRmU6WP                             Believer   \n",
       "1244  2CVChktEKBsM6v4IfdFU5k                          double take   \n",
       "1265  5PjdY0CKGZdEuoNab3yDmX            STAY (with Justin Bieber)   \n",
       "\n",
       "               artist                                              album  \\\n",
       "612               2AM                   F.Scott Fitzgerald's Way Of Love   \n",
       "576      Kina Grannis  Crazy Rich Asians (Original Motion Picture Sou...   \n",
       "568              AKMU                                               PLAY   \n",
       "567              AKMU                                               PLAY   \n",
       "564        Little Mix                                       DNA (Deluxe)   \n",
       "...               ...                                                ...   \n",
       "963            Avicii                                  The Days / Nights   \n",
       "119     Billie Eilish                               lovely (with Khalid)   \n",
       "58    Imagine Dragons                                             Evolve   \n",
       "1244            dhruv                                        double take   \n",
       "1265    The Kid LAROI                              F*CK LOVE 3: OVER YOU   \n",
       "\n",
       "      popularity  duration                                            img_url  \\\n",
       "612            0    228453  https://i.scdn.co/image/ab67616d0000b2734ee17c...   \n",
       "576            0    201933  https://i.scdn.co/image/ab67616d0000b273216499...   \n",
       "568            0    176532  https://i.scdn.co/image/ab67616d0000b2731b9293...   \n",
       "567            0    193321  https://i.scdn.co/image/ab67616d0000b2731b9293...   \n",
       "564            0    219733  https://i.scdn.co/image/ab67616d0000b27358b8c3...   \n",
       "...          ...       ...                                                ...   \n",
       "963           85    176658  https://i.scdn.co/image/ab67616d0000b2730ae4f4...   \n",
       "119           86    200185  https://i.scdn.co/image/ab67616d0000b2738a3f0a...   \n",
       "58            86    204346  https://i.scdn.co/image/ab67616d0000b2735675e8...   \n",
       "1244          87    171743  https://i.scdn.co/image/ab67616d0000b2737eab04...   \n",
       "1265          93    141805  https://i.scdn.co/image/ab67616d0000b2738e6551...   \n",
       "\n",
       "                                                 genres  \n",
       "612                             ['k-pop', 'korean pop']  \n",
       "576   ['acoustic pop', 'neo mellow', 'pop rock', 'vi...  \n",
       "568                             ['k-pop', 'korean pop']  \n",
       "567                             ['k-pop', 'korean pop']  \n",
       "564   ['dance pop', 'girl group', 'pop', 'post-teen ...  \n",
       "...                                                 ...  \n",
       "963            ['dance pop', 'edm', 'pop', 'pop dance']  \n",
       "119                               ['electropop', 'pop']  \n",
       "58                       ['modern rock', 'pop', 'rock']  \n",
       "1244                           ['chill r&b', 'nyc pop']  \n",
       "1265                             ['australian hip hop']  \n",
       "\n",
       "[1111 rows x 8 columns]"
      ]
     },
     "execution_count": 198,
     "metadata": {},
     "output_type": "execute_result"
    }
   ],
   "source": [
    "first_user_df.sort_values(by=[\"popularity\"])"
   ]
  },
  {
   "cell_type": "code",
   "execution_count": 199,
   "id": "cd6a030e",
   "metadata": {},
   "outputs": [],
   "source": [
    "def generateDictionary(dataframe, column):\n",
    "    user_data = []\n",
    "    if column not in dataframe:\n",
    "        print(\"Column doesn't exist\")\n",
    "        return 0\n",
    "    \n",
    "    for row in dataframe[column]:\n",
    "        row_data = row.replace(\"[\",\"\").replace(\"]\",\"\").replace(\"'\",\"\").split(\", \")\n",
    "        if row_data:\n",
    "            user_data += row_data\n",
    "\n",
    "    user_data = [i for i in user_data if i]\n",
    "\n",
    "    user_dict = dict()\n",
    "\n",
    "    for row in user_data:\n",
    "        user_dict[row] = user_dict.get(row,0) + 1\n",
    "    \n",
    "    return user_dict"
   ]
  },
  {
   "cell_type": "code",
   "execution_count": 200,
   "id": "4439733e",
   "metadata": {},
   "outputs": [],
   "source": [
    "def plot(genres_dictionary, user_dataframe, feature):\n",
    "    user_genres_dict = genres_dictionary\n",
    "    username = user_dataframe[\"display_name\"][0]\n",
    "    def take(n, iterable):\n",
    "        return dict(islice(iterable, n))\n",
    "\n",
    "    sorted_user_genres =  {k: v for k, v in sorted(user_genres_dict.items(), \n",
    "                                                             reverse = True, key=lambda item: item[1])}\n",
    "    top_10_user_genres = take(10, sorted_user_genres.items())\n",
    "\n",
    "    plt.barh(list(top_10_user_genres.keys()), top_10_user_genres.values() , align='center')\n",
    "    plt.xlabel(\"Counts\")\n",
    "    plt.ylabel(feature.capitalize())\n",
    "    plt.title(username + \"'s top \" + feature)\n",
    "    plt.show()"
   ]
  },
  {
   "cell_type": "code",
   "execution_count": 201,
   "id": "5bd54935",
   "metadata": {},
   "outputs": [],
   "source": [
    "first_user_genres_dict = generateDictionary(first_user_df, \"genres\")\n",
    "second_user_genres_dict = generateDictionary(second_user_df, \"genres\")\n",
    "\n",
    "first_user_artists_dict = generateDictionary(first_user_df, \"artist\")\n",
    "second_user_artists_dict = generateDictionary(second_user_df, \"artist\")\n",
    "\n",
    "first_user_songs_dict = generateDictionary(first_user_df, \"id\")\n",
    "second_user_songs_dict = generateDictionary(second_user_df, \"id\")"
   ]
  },
  {
   "cell_type": "code",
   "execution_count": 202,
   "id": "617a20df",
   "metadata": {},
   "outputs": [
    {
     "data": {
      "image/png": "[encoded data removed]",
      "text/plain": [
       "<Figure size 432x288 with 1 Axes>"
      ]
     },
     "metadata": {
      "needs_background": "light"
     },
     "output_type": "display_data"
    }
   ],
   "source": [
    "plot(first_user_genres_dict, first_user_info_df, \"genres\")"
   ]
  },
  {
   "cell_type": "code",
   "execution_count": 203,
   "id": "fe1a9ef7",
   "metadata": {},
   "outputs": [
    {
     "data": {
      "image/png": "[encoded data removed]",
      "text/plain": [
       "<Figure size 432x288 with 1 Axes>"
      ]
     },
     "metadata": {
      "needs_background": "light"
     },
     "output_type": "display_data"
    }
   ],
   "source": [
    "plot(second_user_genres_dict, second_user_info_df, \"genres\")"
   ]
  },
  {
   "cell_type": "code",
   "execution_count": null,
   "id": "f9e6d494",
   "metadata": {},
   "outputs": [],
   "source": []
  },
  {
   "cell_type": "code",
   "execution_count": 204,
   "id": "6a98a1e1",
   "metadata": {},
   "outputs": [
    {
     "data": {
      "image/png": "[encoded data removed]",
      "text/plain": [
       "<Figure size 432x288 with 1 Axes>"
      ]
     },
     "metadata": {
      "needs_background": "light"
     },
     "output_type": "display_data"
    }
   ],
   "source": [
    "plot(first_user_artists_dict, first_user_info_df, \"artists\")"
   ]
  },
  {
   "cell_type": "code",
   "execution_count": 205,
   "id": "47df65d9",
   "metadata": {},
   "outputs": [
    {
     "name": "stderr",
     "output_type": "stream",
     "text": [
      "C:\\Users\\truon\\anaconda3\\lib\\site-packages\\matplotlib\\backends\\backend_agg.py:238: RuntimeWarning: Glyph 12493 missing from current font.\n",
      "  font.set_text(s, 0.0, flags=flags)\n",
      "C:\\Users\\truon\\anaconda3\\lib\\site-packages\\matplotlib\\backends\\backend_agg.py:238: RuntimeWarning: Glyph 12463 missing from current font.\n",
      "  font.set_text(s, 0.0, flags=flags)\n",
      "C:\\Users\\truon\\anaconda3\\lib\\site-packages\\matplotlib\\backends\\backend_agg.py:238: RuntimeWarning: Glyph 12521 missing from current font.\n",
      "  font.set_text(s, 0.0, flags=flags)\n",
      "C:\\Users\\truon\\anaconda3\\lib\\site-packages\\matplotlib\\backends\\backend_agg.py:238: RuntimeWarning: Glyph 12452 missing from current font.\n",
      "  font.set_text(s, 0.0, flags=flags)\n",
      "C:\\Users\\truon\\anaconda3\\lib\\site-packages\\matplotlib\\backends\\backend_agg.py:238: RuntimeWarning: Glyph 12488 missing from current font.\n",
      "  font.set_text(s, 0.0, flags=flags)\n",
      "C:\\Users\\truon\\anaconda3\\lib\\site-packages\\matplotlib\\backends\\backend_agg.py:238: RuntimeWarning: Glyph 12540 missing from current font.\n",
      "  font.set_text(s, 0.0, flags=flags)\n",
      "C:\\Users\\truon\\anaconda3\\lib\\site-packages\\matplotlib\\backends\\backend_agg.py:238: RuntimeWarning: Glyph 12461 missing from current font.\n",
      "  font.set_text(s, 0.0, flags=flags)\n",
      "C:\\Users\\truon\\anaconda3\\lib\\site-packages\\matplotlib\\backends\\backend_agg.py:238: RuntimeWarning: Glyph 12539 missing from current font.\n",
      "  font.set_text(s, 0.0, flags=flags)\n",
      "C:\\Users\\truon\\anaconda3\\lib\\site-packages\\matplotlib\\backends\\backend_agg.py:238: RuntimeWarning: Glyph 26446 missing from current font.\n",
      "  font.set_text(s, 0.0, flags=flags)\n",
      "C:\\Users\\truon\\anaconda3\\lib\\site-packages\\matplotlib\\backends\\backend_agg.py:201: RuntimeWarning: Glyph 12493 missing from current font.\n",
      "  font.set_text(s, 0, flags=flags)\n",
      "C:\\Users\\truon\\anaconda3\\lib\\site-packages\\matplotlib\\backends\\backend_agg.py:201: RuntimeWarning: Glyph 12463 missing from current font.\n",
      "  font.set_text(s, 0, flags=flags)\n",
      "C:\\Users\\truon\\anaconda3\\lib\\site-packages\\matplotlib\\backends\\backend_agg.py:201: RuntimeWarning: Glyph 12521 missing from current font.\n",
      "  font.set_text(s, 0, flags=flags)\n",
      "C:\\Users\\truon\\anaconda3\\lib\\site-packages\\matplotlib\\backends\\backend_agg.py:201: RuntimeWarning: Glyph 12452 missing from current font.\n",
      "  font.set_text(s, 0, flags=flags)\n",
      "C:\\Users\\truon\\anaconda3\\lib\\site-packages\\matplotlib\\backends\\backend_agg.py:201: RuntimeWarning: Glyph 12488 missing from current font.\n",
      "  font.set_text(s, 0, flags=flags)\n",
      "C:\\Users\\truon\\anaconda3\\lib\\site-packages\\matplotlib\\backends\\backend_agg.py:201: RuntimeWarning: Glyph 12540 missing from current font.\n",
      "  font.set_text(s, 0, flags=flags)\n",
      "C:\\Users\\truon\\anaconda3\\lib\\site-packages\\matplotlib\\backends\\backend_agg.py:201: RuntimeWarning: Glyph 12461 missing from current font.\n",
      "  font.set_text(s, 0, flags=flags)\n",
      "C:\\Users\\truon\\anaconda3\\lib\\site-packages\\matplotlib\\backends\\backend_agg.py:201: RuntimeWarning: Glyph 12539 missing from current font.\n",
      "  font.set_text(s, 0, flags=flags)\n",
      "C:\\Users\\truon\\anaconda3\\lib\\site-packages\\matplotlib\\backends\\backend_agg.py:201: RuntimeWarning: Glyph 26446 missing from current font.\n",
      "  font.set_text(s, 0, flags=flags)\n"
     ]
    },
    {
     "data": {
      "image/png": "[encoded data removed]",
      "text/plain": [
       "<Figure size 432x288 with 1 Axes>"
      ]
     },
     "metadata": {
      "needs_background": "light"
     },
     "output_type": "display_data"
    }
   ],
   "source": [
    "plot(second_user_artists_dict, second_user_info_df, \"artists\")"
   ]
  },
  {
   "cell_type": "code",
   "execution_count": null,
   "id": "e7840ab7",
   "metadata": {},
   "outputs": [],
   "source": []
  },
  {
   "cell_type": "code",
   "execution_count": 206,
   "id": "ae22c76a",
   "metadata": {},
   "outputs": [],
   "source": [
    "def featureAnalysis(first_user_dict, second_user_dict, feature):\n",
    "    first_user_feature = first_user_dict\n",
    "    second_user_feature = second_user_dict\n",
    "    \n",
    "    common_features = dict()\n",
    "    for key in first_user_feature:\n",
    "        if key in second_user_feature:\n",
    "            common_features[key] = min(first_user_feature[key], second_user_feature[key])\n",
    "    \n",
    "    if common_features:\n",
    "        sorted_common_features =  {k: v for k, v in sorted(common_features.items(), \n",
    "                                                             reverse = True, key=lambda item: item[1])}\n",
    "    \n",
    "        print(\"Most common \" + feature + \":\")\n",
    "        for i,key in enumerate(sorted_common_features):\n",
    "            if i == 5: break\n",
    "            if feature == \"songs\":\n",
    "                song = first_user_df.loc[first_user_df[\"id\"]==key].values[0]\n",
    "                print(song[1] + \" by \" + song[2] + \" in \" + song[3])\n",
    "            else:\n",
    "                print(key, sorted_common_features[key])\n",
    "    else:\n",
    "        print(\"No common \" + feature)\n",
    "        \n",
    "#     score = len(set(first_) & set(test_list2)) / float(len(set(test_list1) | set(test_list2))) * 100"
   ]
  },
  {
   "cell_type": "code",
   "execution_count": 207,
   "id": "c959d5fc",
   "metadata": {},
   "outputs": [
    {
     "name": "stdout",
     "output_type": "stream",
     "text": [
      "Most common genres:\n",
      "j-pop 9\n",
      "modern rock 8\n",
      "j-rock 6\n",
      "rock 5\n",
      "indie pop 3\n"
     ]
    }
   ],
   "source": [
    "featureAnalysis(first_user_genres_dict, second_user_genres_dict, \"genres\")"
   ]
  },
  {
   "cell_type": "code",
   "execution_count": 208,
   "id": "629a6a64",
   "metadata": {},
   "outputs": [
    {
     "name": "stdout",
     "output_type": "stream",
     "text": [
      "Most common artists:\n",
      "ZUTOMAYO 1\n",
      "KANA-BOON 1\n"
     ]
    }
   ],
   "source": [
    "featureAnalysis(first_user_artists_dict, second_user_artists_dict, \"artists\")"
   ]
  },
  {
   "cell_type": "code",
   "execution_count": 209,
   "id": "e763317d",
   "metadata": {},
   "outputs": [
    {
     "name": "stdout",
     "output_type": "stream",
     "text": [
      "Most common songs:\n",
      "シルエット by KANA-BOON in Time\n"
     ]
    }
   ],
   "source": [
    "featureAnalysis(first_user_songs_dict, second_user_songs_dict, \"songs\")\n"
   ]
  },
  {
   "cell_type": "code",
   "execution_count": 210,
   "id": "566f88d2",
   "metadata": {},
   "outputs": [],
   "source": [
    "def popularityAnalysis(first_dataframe, first_user_info_df, second_dataframe, second_user_info_df):\n",
    "    print(first_user_info_df[\"display_name\"][0] + \"'s average songs' popularity is\", first_dataframe[\"popularity\"].mean())\n",
    "    print(second_user_info_df[\"display_name\"][0] + \"'s average songs' popularity is\", second_dataframe[\"popularity\"].mean())\n",
    "    print(\"\\n\")\n",
    "    \n",
    "    max_first_pop = first_dataframe.sort_values(by=[\"popularity\"]).iloc[-1]\n",
    "    min_first_pop = first_dataframe.sort_values(by=[\"popularity\"]).iloc[0]\n",
    "    \n",
    "   \n",
    "    \n",
    "    print(first_user_info_df[\"display_name\"][0] + \"'s most and least popular songs are\")                                                \n",
    "    print(max_first_pop[\"song\"] + \" by \" + max_first_pop[\"artist\"] + \" with popularity \" + str(max_first_pop[\"popularity\"]))\n",
    "    print(min_first_pop[\"song\"] + \" by \" + min_first_pop[\"artist\"] + \" with popularity \" + str(min_first_pop[\"popularity\"]))\n",
    "    print(\"\\n\")\n",
    "    max_second_pop = second_dataframe.sort_values(by=[\"popularity\"]).iloc[-1]\n",
    "    min_second_pop = second_dataframe.sort_values(by=[\"popularity\"]).iloc[0]\n",
    "    \n",
    "    print(second_user_info_df[\"display_name\"][0] + \"'s most and least popular songs are\")\n",
    "    print(max_second_pop[\"song\"] + \" by \" + max_second_pop[\"artist\"] + \" with popularity \" + str(max_second_pop[\"popularity\"]))\n",
    "    print(min_second_pop[\"song\"] + \" by \" + min_second_pop[\"artist\"] + \" with popularity \" + str(min_second_pop[\"popularity\"]))"
   ]
  },
  {
   "cell_type": "code",
   "execution_count": 211,
   "id": "def3201b",
   "metadata": {},
   "outputs": [
    {
     "name": "stdout",
     "output_type": "stream",
     "text": [
      "Diệu Myy's average songs' popularity is 42.76237623762376\n",
      "Tran Dinh Vu's average songs' popularity is 38.953271028037385\n",
      "\n",
      "\n",
      "Diệu Myy's most and least popular songs are\n",
      "STAY (with Justin Bieber) by The Kid LAROI with popularity 93\n",
      "너도 나처럼 I Wonder If You Hurt Like Me by 2AM with popularity 0\n",
      "\n",
      "\n",
      "Tran Dinh Vu's most and least popular songs are\n",
      "Looking Out for You by Joy Again with popularity 79\n",
      "In My Mind (feat. Brian Viglione) by Amanda Palmer with popularity 0\n"
     ]
    }
   ],
   "source": [
    "popularityAnalysis(first_user_df, first_user_info_df, second_user_df, second_user_info_df)"
   ]
  },
  {
   "cell_type": "code",
   "execution_count": null,
   "id": "a81c4e57",
   "metadata": {},
   "outputs": [],
   "source": [
    "\n",
    "    "
   ]
  }
 ],
 "metadata": {
  "kernelspec": {
   "display_name": "Python 3",
   "language": "python",
   "name": "python3"
  },
  "language_info": {
   "codemirror_mode": {
    "name": "ipython",
    "version": 3
   },
   "file_extension": ".py",
   "mimetype": "text/x-python",
   "name": "python",
   "nbconvert_exporter": "python",
   "pygments_lexer": "ipython3",
   "version": "3.8.8"
  }
 },
 "nbformat": 4,
 "nbformat_minor": 5
}
