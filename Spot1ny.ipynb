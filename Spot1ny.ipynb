{
 "cells": [
  {
   "cell_type": "code",
   "execution_count": 104,
   "id": "4e0af3fe",
   "metadata": {},
   "outputs": [],
   "source": [
    "import pandas as pd\n",
    "import matplotlib.pyplot as plt\n",
    "import numpy as np\n",
    "from itertools import islice\n",
    "import seaborn as sns\n",
    "from PIL import Image\n",
    "import requests\n",
    "from io import BytesIO\n",
    "import IPython\n",
    "from sklearn.feature_extraction.text import CountVectorizer\n",
    "from sklearn.metrics.pairwise import cosine_similarity\n",
    "from sklearn.neighbors import NearestNeighbors\n",
    "import plotly.express as px\n",
    "import plotly.graph_objects as go"
   ]
  },
  {
   "cell_type": "markdown",
   "id": "c6b776d4",
   "metadata": {},
   "source": [
    "# Objective\n",
    "Spot1ny is a project to compare the music tastes of two users based on their Spotify playlists. Features of the playlists such as songs, artists, albums, popularity, and genres will be used to compare the similarities between them. \n",
    "\n",
    "I am currently working on the criteria to decide whether or not the two \"match\". Also, I am building a recomendation system based on the genres and audio features of the playlists. "
   ]
  },
  {
   "cell_type": "markdown",
   "id": "1a5af776",
   "metadata": {},
   "source": [
    "# Data acquisition\n",
    "The playlists are obtained using Spotipy, a library for Spotify's API. Detail codes can be found in the Python files in the same directory."
   ]
  },
  {
   "cell_type": "markdown",
   "id": "3f794876",
   "metadata": {},
   "source": [
    "# Data exploration and preprocessing"
   ]
  },
  {
   "cell_type": "code",
   "execution_count": 100,
   "id": "efee67fc",
   "metadata": {},
   "outputs": [],
   "source": [
    "# Read files\n",
    "songs_df_1 = pd.read_csv(\"user_songs_1.csv\", encoding= \"utf-8-sig\")\n",
    "songs_df_2 = pd.read_csv(\"user_songs_2.csv\", encoding= \"utf-8-sig\")\n",
    "\n",
    "user_info_df_1 = pd.read_csv(\"user_info_1.csv\")\n",
    "user_info_df_2 = pd.read_csv(\"user_info_2.csv\")\n",
    "\n",
    "audio_features_df_1 = pd.read_csv(\"audio_features_1.csv\")\n",
    "audio_features_df_2 = pd.read_csv(\"audio_features_2.csv\")\n",
    "\n",
    "user1 = str(user_info_df_1[\"display_name\"][0])\n",
    "user2 = str(user_info_df_2[\"display_name\"][0]) \n",
    "\n",
    "billboard_100 = "
   ]
  },
  {
   "cell_type": "code",
   "execution_count": 95,
   "id": "42a4ffbf",
   "metadata": {
    "scrolled": true
   },
   "outputs": [
    {
     "name": "stdout",
     "output_type": "stream",
     "text": [
      "114\n",
      "121\n"
     ]
    }
   ],
   "source": [
    "print(len(songs_df_1))\n",
    "print(len(songs_df_2))"
   ]
  },
  {
   "cell_type": "markdown",
   "id": "304e78ce",
   "metadata": {},
   "source": [
    "## Dropping duplicate records in the playlists"
   ]
  },
  {
   "cell_type": "code",
   "execution_count": 96,
   "id": "e73e3edb",
   "metadata": {},
   "outputs": [],
   "source": [
    "# Drop duplicate records\n",
    "songs_df_1.drop_duplicates(subset = [\"id\"], keep = \"first\", inplace = True)\n",
    "songs_df_2.drop_duplicates(subset = [\"id\"], keep = \"first\", inplace = True)"
   ]
  },
  {
   "cell_type": "code",
   "execution_count": 97,
   "id": "0855da6e",
   "metadata": {},
   "outputs": [
    {
     "name": "stdout",
     "output_type": "stream",
     "text": [
      "114\n",
      "119\n"
     ]
    }
   ],
   "source": [
    "print(len(songs_df_1))\n",
    "print(len(songs_df_2))"
   ]
  },
  {
   "cell_type": "code",
   "execution_count": 98,
   "id": "91fcd75a",
   "metadata": {
    "scrolled": true
   },
   "outputs": [
    {
     "data": {
      "text/html": [
       "<div>\n",
       "<style scoped>\n",
       "    .dataframe tbody tr th:only-of-type {\n",
       "        vertical-align: middle;\n",
       "    }\n",
       "\n",
       "    .dataframe tbody tr th {\n",
       "        vertical-align: top;\n",
       "    }\n",
       "\n",
       "    .dataframe thead th {\n",
       "        text-align: right;\n",
       "    }\n",
       "</style>\n",
       "<table border=\"1\" class=\"dataframe\">\n",
       "  <thead>\n",
       "    <tr style=\"text-align: right;\">\n",
       "      <th></th>\n",
       "      <th>id</th>\n",
       "      <th>song</th>\n",
       "      <th>artist</th>\n",
       "      <th>album</th>\n",
       "      <th>popularity</th>\n",
       "      <th>duration</th>\n",
       "      <th>genres</th>\n",
       "    </tr>\n",
       "  </thead>\n",
       "  <tbody>\n",
       "    <tr>\n",
       "      <th>0</th>\n",
       "      <td>1fBl642IhJOE5U319Gy2Go</td>\n",
       "      <td>Animal</td>\n",
       "      <td>Neon Trees</td>\n",
       "      <td>Habits</td>\n",
       "      <td>72</td>\n",
       "      <td>212293</td>\n",
       "      <td>['modern alternative rock', 'modern rock', 'po...</td>\n",
       "    </tr>\n",
       "    <tr>\n",
       "      <th>1</th>\n",
       "      <td>4IBuAtdsM6psUgfhHgoy4e</td>\n",
       "      <td>What If</td>\n",
       "      <td>Jason Derulo</td>\n",
       "      <td>Jason Derulo</td>\n",
       "      <td>39</td>\n",
       "      <td>203240</td>\n",
       "      <td>['dance pop', 'pop', 'pop rap', 'post-teen pop']</td>\n",
       "    </tr>\n",
       "    <tr>\n",
       "      <th>2</th>\n",
       "      <td>5rLi8B8qgk6qThwRnKHW2P</td>\n",
       "      <td>The Ballad of Mona Lisa</td>\n",
       "      <td>Panic! At The Disco</td>\n",
       "      <td>Vices &amp; Virtues</td>\n",
       "      <td>68</td>\n",
       "      <td>226680</td>\n",
       "      <td>['modern rock']</td>\n",
       "    </tr>\n",
       "    <tr>\n",
       "      <th>3</th>\n",
       "      <td>7zAt4tdL44D3VuzsvM0N8n</td>\n",
       "      <td>Afterlife</td>\n",
       "      <td>Avenged Sevenfold</td>\n",
       "      <td>Avenged Sevenfold</td>\n",
       "      <td>69</td>\n",
       "      <td>352426</td>\n",
       "      <td>['alternative metal', 'nu metal']</td>\n",
       "    </tr>\n",
       "    <tr>\n",
       "      <th>4</th>\n",
       "      <td>1BLfQ6dPXmuDrFmbdfW7Jl</td>\n",
       "      <td>A Little Piece of Heaven</td>\n",
       "      <td>Avenged Sevenfold</td>\n",
       "      <td>Avenged Sevenfold</td>\n",
       "      <td>68</td>\n",
       "      <td>480706</td>\n",
       "      <td>['alternative metal', 'nu metal']</td>\n",
       "    </tr>\n",
       "    <tr>\n",
       "      <th>5</th>\n",
       "      <td>7Hr1Ignop7cymbE3FbOtXa</td>\n",
       "      <td>So Far Away</td>\n",
       "      <td>Avenged Sevenfold</td>\n",
       "      <td>Nightmare</td>\n",
       "      <td>66</td>\n",
       "      <td>326813</td>\n",
       "      <td>['alternative metal', 'nu metal']</td>\n",
       "    </tr>\n",
       "    <tr>\n",
       "      <th>6</th>\n",
       "      <td>3VA4sjTMSTTF02hFGmlpJh</td>\n",
       "      <td>crushcrushcrush</td>\n",
       "      <td>Paramore</td>\n",
       "      <td>Riot!</td>\n",
       "      <td>65</td>\n",
       "      <td>189373</td>\n",
       "      <td>['candy pop', 'pixie', 'pop emo', 'pop punk']</td>\n",
       "    </tr>\n",
       "    <tr>\n",
       "      <th>7</th>\n",
       "      <td>17QodENDMk3o1nPgPqfs3Y</td>\n",
       "      <td>Your Surrender</td>\n",
       "      <td>Neon Trees</td>\n",
       "      <td>Habits</td>\n",
       "      <td>33</td>\n",
       "      <td>220853</td>\n",
       "      <td>['modern alternative rock', 'modern rock', 'po...</td>\n",
       "    </tr>\n",
       "    <tr>\n",
       "      <th>8</th>\n",
       "      <td>5zpDHEU12zATwLGvozxPw2</td>\n",
       "      <td>Lighters</td>\n",
       "      <td>Bad Meets Evil</td>\n",
       "      <td>Hell: The Sequel (Deluxe)</td>\n",
       "      <td>70</td>\n",
       "      <td>303813</td>\n",
       "      <td>['detroit hip hop', 'gangster rap', 'hip hop',...</td>\n",
       "    </tr>\n",
       "    <tr>\n",
       "      <th>9</th>\n",
       "      <td>1yjY7rpaAQvKwpdUliHx0d</td>\n",
       "      <td>Still into You</td>\n",
       "      <td>Paramore</td>\n",
       "      <td>Paramore</td>\n",
       "      <td>82</td>\n",
       "      <td>216013</td>\n",
       "      <td>['candy pop', 'pixie', 'pop emo', 'pop punk']</td>\n",
       "    </tr>\n",
       "  </tbody>\n",
       "</table>\n",
       "</div>"
      ],
      "text/plain": [
       "                       id                      song               artist  \\\n",
       "0  1fBl642IhJOE5U319Gy2Go                    Animal           Neon Trees   \n",
       "1  4IBuAtdsM6psUgfhHgoy4e                   What If         Jason Derulo   \n",
       "2  5rLi8B8qgk6qThwRnKHW2P   The Ballad of Mona Lisa  Panic! At The Disco   \n",
       "3  7zAt4tdL44D3VuzsvM0N8n                 Afterlife    Avenged Sevenfold   \n",
       "4  1BLfQ6dPXmuDrFmbdfW7Jl  A Little Piece of Heaven    Avenged Sevenfold   \n",
       "5  7Hr1Ignop7cymbE3FbOtXa               So Far Away    Avenged Sevenfold   \n",
       "6  3VA4sjTMSTTF02hFGmlpJh           crushcrushcrush             Paramore   \n",
       "7  17QodENDMk3o1nPgPqfs3Y            Your Surrender           Neon Trees   \n",
       "8  5zpDHEU12zATwLGvozxPw2                  Lighters       Bad Meets Evil   \n",
       "9  1yjY7rpaAQvKwpdUliHx0d            Still into You             Paramore   \n",
       "\n",
       "                       album  popularity  duration  \\\n",
       "0                     Habits          72    212293   \n",
       "1               Jason Derulo          39    203240   \n",
       "2            Vices & Virtues          68    226680   \n",
       "3          Avenged Sevenfold          69    352426   \n",
       "4          Avenged Sevenfold          68    480706   \n",
       "5                  Nightmare          66    326813   \n",
       "6                      Riot!          65    189373   \n",
       "7                     Habits          33    220853   \n",
       "8  Hell: The Sequel (Deluxe)          70    303813   \n",
       "9                   Paramore          82    216013   \n",
       "\n",
       "                                              genres  \n",
       "0  ['modern alternative rock', 'modern rock', 'po...  \n",
       "1   ['dance pop', 'pop', 'pop rap', 'post-teen pop']  \n",
       "2                                    ['modern rock']  \n",
       "3                  ['alternative metal', 'nu metal']  \n",
       "4                  ['alternative metal', 'nu metal']  \n",
       "5                  ['alternative metal', 'nu metal']  \n",
       "6      ['candy pop', 'pixie', 'pop emo', 'pop punk']  \n",
       "7  ['modern alternative rock', 'modern rock', 'po...  \n",
       "8  ['detroit hip hop', 'gangster rap', 'hip hop',...  \n",
       "9      ['candy pop', 'pixie', 'pop emo', 'pop punk']  "
      ]
     },
     "execution_count": 98,
     "metadata": {},
     "output_type": "execute_result"
    }
   ],
   "source": [
    "songs_df_1.head(10)"
   ]
  },
  {
   "cell_type": "code",
   "execution_count": 55,
   "id": "acd4dd1d",
   "metadata": {
    "scrolled": false
   },
   "outputs": [
    {
     "data": {
      "text/html": [
       "<div>\n",
       "<style scoped>\n",
       "    .dataframe tbody tr th:only-of-type {\n",
       "        vertical-align: middle;\n",
       "    }\n",
       "\n",
       "    .dataframe tbody tr th {\n",
       "        vertical-align: top;\n",
       "    }\n",
       "\n",
       "    .dataframe thead th {\n",
       "        text-align: right;\n",
       "    }\n",
       "</style>\n",
       "<table border=\"1\" class=\"dataframe\">\n",
       "  <thead>\n",
       "    <tr style=\"text-align: right;\">\n",
       "      <th></th>\n",
       "      <th>id</th>\n",
       "      <th>song</th>\n",
       "      <th>artist</th>\n",
       "      <th>album</th>\n",
       "      <th>popularity</th>\n",
       "      <th>duration</th>\n",
       "      <th>genres</th>\n",
       "    </tr>\n",
       "  </thead>\n",
       "  <tbody>\n",
       "    <tr>\n",
       "      <th>0</th>\n",
       "      <td>4fpEuKIzTLmMJnYwFU0oqr</td>\n",
       "      <td>Death with Dignity</td>\n",
       "      <td>Sufjan Stevens</td>\n",
       "      <td>Carrie &amp; Lowell</td>\n",
       "      <td>33</td>\n",
       "      <td>239508</td>\n",
       "      <td>['baroque pop', 'chamber pop', 'freak folk', '...</td>\n",
       "    </tr>\n",
       "    <tr>\n",
       "      <th>1</th>\n",
       "      <td>4tcwdkKzXn0Tsyz3WtH3gc</td>\n",
       "      <td>In My Mind (feat. Brian Viglione)</td>\n",
       "      <td>Amanda Palmer</td>\n",
       "      <td>Goes Down Under</td>\n",
       "      <td>0</td>\n",
       "      <td>253506</td>\n",
       "      <td>['anti-folk', 'dark cabaret', 'indie pop', 'pi...</td>\n",
       "    </tr>\n",
       "    <tr>\n",
       "      <th>2</th>\n",
       "      <td>7yC7FWZz24L43brXzNpLWT</td>\n",
       "      <td>To All of You</td>\n",
       "      <td>Syd Matters</td>\n",
       "      <td>Someday We Will Foresee Obstacles</td>\n",
       "      <td>56</td>\n",
       "      <td>283266</td>\n",
       "      <td>['folktronica', 'french indie folk']</td>\n",
       "    </tr>\n",
       "    <tr>\n",
       "      <th>3</th>\n",
       "      <td>3jfZ9M23l0L7RxzYMTgBTv</td>\n",
       "      <td>Looking Out for You</td>\n",
       "      <td>Joy Again</td>\n",
       "      <td>Looking Out for You</td>\n",
       "      <td>82</td>\n",
       "      <td>179499</td>\n",
       "      <td>['indie garage rock', 'indie pop']</td>\n",
       "    </tr>\n",
       "    <tr>\n",
       "      <th>4</th>\n",
       "      <td>24HPkbkXJsIFC4eyg63zgQ</td>\n",
       "      <td>Wraith Pinned to the Mist and Other Games</td>\n",
       "      <td>of Montreal</td>\n",
       "      <td>The Sunlandic Twins</td>\n",
       "      <td>58</td>\n",
       "      <td>255613</td>\n",
       "      <td>['alternative dance', 'alternative rock', 'ant...</td>\n",
       "    </tr>\n",
       "    <tr>\n",
       "      <th>5</th>\n",
       "      <td>5FeFPGq2whLMxNGQ7Fpp35</td>\n",
       "      <td>No Risk</td>\n",
       "      <td>Cults</td>\n",
       "      <td>Host</td>\n",
       "      <td>2</td>\n",
       "      <td>153446</td>\n",
       "      <td>['experimental pop', 'indie surf']</td>\n",
       "    </tr>\n",
       "    <tr>\n",
       "      <th>6</th>\n",
       "      <td>7126kIzOFbWsvWcz6s4ITQ</td>\n",
       "      <td>Into Happiness</td>\n",
       "      <td>Phantogram</td>\n",
       "      <td>Ceremony</td>\n",
       "      <td>47</td>\n",
       "      <td>201066</td>\n",
       "      <td>['chillwave', 'electropop', 'indietronica', 'm...</td>\n",
       "    </tr>\n",
       "    <tr>\n",
       "      <th>7</th>\n",
       "      <td>5fztwLyeoasBgTU8ISdnYN</td>\n",
       "      <td>classic j dies and goes to hell part 1</td>\n",
       "      <td>glass beach</td>\n",
       "      <td>the first glass beach album</td>\n",
       "      <td>21</td>\n",
       "      <td>304144</td>\n",
       "      <td>['5th wave emo', 'modern power pop']</td>\n",
       "    </tr>\n",
       "    <tr>\n",
       "      <th>8</th>\n",
       "      <td>0UV5zxRMz6AO4ZwUOZNIKI</td>\n",
       "      <td>Where'd All the Time Go?</td>\n",
       "      <td>Dr. Dog</td>\n",
       "      <td>Shame, Shame (Deluxe Edition)</td>\n",
       "      <td>78</td>\n",
       "      <td>234800</td>\n",
       "      <td>['indie folk', 'indie pop', 'indie rock', 'mod...</td>\n",
       "    </tr>\n",
       "    <tr>\n",
       "      <th>9</th>\n",
       "      <td>1DrarMEXcAgQs2nyCPE3Jv</td>\n",
       "      <td>Morning Bells</td>\n",
       "      <td>Hether</td>\n",
       "      <td>WULM (acoustic) / Morning Bells</td>\n",
       "      <td>25</td>\n",
       "      <td>202000</td>\n",
       "      <td>['bedroom pop', 'indie garage rock', 'indie po...</td>\n",
       "    </tr>\n",
       "  </tbody>\n",
       "</table>\n",
       "</div>"
      ],
      "text/plain": [
       "                       id                                       song  \\\n",
       "0  4fpEuKIzTLmMJnYwFU0oqr                         Death with Dignity   \n",
       "1  4tcwdkKzXn0Tsyz3WtH3gc          In My Mind (feat. Brian Viglione)   \n",
       "2  7yC7FWZz24L43brXzNpLWT                              To All of You   \n",
       "3  3jfZ9M23l0L7RxzYMTgBTv                        Looking Out for You   \n",
       "4  24HPkbkXJsIFC4eyg63zgQ  Wraith Pinned to the Mist and Other Games   \n",
       "5  5FeFPGq2whLMxNGQ7Fpp35                                    No Risk   \n",
       "6  7126kIzOFbWsvWcz6s4ITQ                             Into Happiness   \n",
       "7  5fztwLyeoasBgTU8ISdnYN     classic j dies and goes to hell part 1   \n",
       "8  0UV5zxRMz6AO4ZwUOZNIKI                   Where'd All the Time Go?   \n",
       "9  1DrarMEXcAgQs2nyCPE3Jv                              Morning Bells   \n",
       "\n",
       "           artist                              album  popularity  duration  \\\n",
       "0  Sufjan Stevens                    Carrie & Lowell          33    239508   \n",
       "1   Amanda Palmer                    Goes Down Under           0    253506   \n",
       "2     Syd Matters  Someday We Will Foresee Obstacles          56    283266   \n",
       "3       Joy Again                Looking Out for You          82    179499   \n",
       "4     of Montreal                The Sunlandic Twins          58    255613   \n",
       "5           Cults                               Host           2    153446   \n",
       "6      Phantogram                           Ceremony          47    201066   \n",
       "7     glass beach        the first glass beach album          21    304144   \n",
       "8         Dr. Dog      Shame, Shame (Deluxe Edition)          78    234800   \n",
       "9          Hether    WULM (acoustic) / Morning Bells          25    202000   \n",
       "\n",
       "                                              genres  \n",
       "0  ['baroque pop', 'chamber pop', 'freak folk', '...  \n",
       "1  ['anti-folk', 'dark cabaret', 'indie pop', 'pi...  \n",
       "2               ['folktronica', 'french indie folk']  \n",
       "3                 ['indie garage rock', 'indie pop']  \n",
       "4  ['alternative dance', 'alternative rock', 'ant...  \n",
       "5                 ['experimental pop', 'indie surf']  \n",
       "6  ['chillwave', 'electropop', 'indietronica', 'm...  \n",
       "7               ['5th wave emo', 'modern power pop']  \n",
       "8  ['indie folk', 'indie pop', 'indie rock', 'mod...  \n",
       "9  ['bedroom pop', 'indie garage rock', 'indie po...  "
      ]
     },
     "execution_count": 55,
     "metadata": {},
     "output_type": "execute_result"
    }
   ],
   "source": [
    "songs_df_2.head(10)"
   ]
  },
  {
   "cell_type": "markdown",
   "id": "ab968b50",
   "metadata": {},
   "source": [
    "## Visualizations"
   ]
  },
  {
   "cell_type": "markdown",
   "id": "77b66b9d",
   "metadata": {},
   "source": [
    "### Songs visualizations"
   ]
  },
  {
   "cell_type": "code",
   "execution_count": null,
   "id": "f12d97c6",
   "metadata": {},
   "outputs": [],
   "source": [
    "# Miliseconds to minutes\n",
    "songs_df_1[\"duration\"] = (songs_df_1[\"duration\"] * 0.001 / 60).round(2)\n",
    "songs_df_2[\"duration\"] = (songs_df_2[\"duration\"] * 0.001 / 60).round(2)"
   ]
  },
  {
   "cell_type": "code",
   "execution_count": 57,
   "id": "fe7606fd",
   "metadata": {},
   "outputs": [
    {
     "data": {
      "text/plain": [
       "Text(0.5, 1.0, \"Average songs' durations\")"
      ]
     },
     "execution_count": 57,
     "metadata": {},
     "output_type": "execute_result"
    },
    {
     "data": {
      "image/png": "[encoded data removed]",
      "text/plain": [
       "<Figure size 1080x576 with 1 Axes>"
      ]
     },
     "metadata": {},
     "output_type": "display_data"
    }
   ],
   "source": [
    "sns.set(rc = {'figure.figsize':(15,8)})\n",
    "users_durations = [user1 + \"'s average songs duration\", user2 + \"'s averages song duration\"]\n",
    "durations_mean = [songs_df_1[\"duration\"].mean(), songs_df_2[\"duration\"].mean()]\n",
    "p = sns.barplot(x= users_durations, y= durations_mean)\n",
    "p.set_ylabel(\"Minutes\", fontsize = 15)\n",
    "p.set_title(\"Average songs' durations\", fontsize = 20)"
   ]
  },
  {
   "cell_type": "code",
   "execution_count": 58,
   "id": "37d5947e",
   "metadata": {},
   "outputs": [
    {
     "data": {
      "text/plain": [
       "Text(0.5, 1.0, \"Average songs' popularity\")"
      ]
     },
     "execution_count": 58,
     "metadata": {},
     "output_type": "execute_result"
    },
    {
     "data": {
      "image/png": "[encoded data removed]",
      "text/plain": [
       "<Figure size 1080x576 with 1 Axes>"
      ]
     },
     "metadata": {},
     "output_type": "display_data"
    }
   ],
   "source": [
    "users_popularity = [user1 + \"'s average songs popularity\", user2 + \"'s averages song popularity\"]\n",
    "popularity = [songs_df_1[\"popularity\"].mean(), songs_df_2[\"popularity\"].mean()]\n",
    "p = sns.barplot(x= users_popularity, y= popularity)\n",
    "p.set_ylabel(\"Popularity rank\", fontsize = 15)\n",
    "p.set_title(\"Average songs' popularity\", fontsize = 20)"
   ]
  },
  {
   "cell_type": "code",
   "execution_count": 59,
   "id": "cd6a030e",
   "metadata": {},
   "outputs": [],
   "source": [
    "def generateDictionary(dataframe, column):\n",
    "    user_data = []\n",
    "    if column not in dataframe:\n",
    "        print(\"Column doesn't exist\")\n",
    "        return 0\n",
    "    \n",
    "    for row in dataframe[column]:\n",
    "        row_data = row.replace(\"[\",\"\").replace(\"]\",\"\").replace(\"'\",\"\").split(\", \")\n",
    "        if row_data:\n",
    "            user_data += row_data\n",
    "\n",
    "    user_data = [i for i in user_data if i]\n",
    "\n",
    "    user_dict = dict()\n",
    "\n",
    "    for row in user_data:\n",
    "        user_dict[row] = user_dict.get(row,0) + 1\n",
    "    \n",
    "    return user_dict"
   ]
  },
  {
   "cell_type": "code",
   "execution_count": 60,
   "id": "4439733e",
   "metadata": {},
   "outputs": [],
   "source": [
    "def plot(genres_dictionary, user_dataframe, feature):\n",
    "    user_genres_dict = genres_dictionary\n",
    "    username = user_dataframe[\"display_name\"][0]\n",
    "    def take(n, iterable):\n",
    "        return dict(islice(iterable, n))\n",
    "\n",
    "    sorted_user_genres =  {k: v for k, v in sorted(user_genres_dict.items(), \n",
    "                                                             reverse = True, key=lambda item: item[1])}\n",
    "    top_10_user_genres = take(10, sorted_user_genres.items())\n",
    "\n",
    "    p = sns.barplot(x = list(top_10_user_genres.values()), y = list(top_10_user_genres.keys()), orient = \"h\")\n",
    "    p.set_xlabel(\"Count\", fontsize = 15)\n",
    "    p.set_title(username + \"'s top \" + feature, fontsize = 20)\n",
    "    \n",
    "#     plt.barh(list(top_10_user_genres.keys()), top_10_user_genres.values() , align='center')\n",
    "#     plt.xlabel(\"Counts\")\n",
    "#     plt.ylabel(feature.capitalize())\n",
    "#     plt.title(username + \"'s top \" + feature)\n",
    "#     plt.show()"
   ]
  },
  {
   "cell_type": "code",
   "execution_count": 61,
   "id": "5bd54935",
   "metadata": {},
   "outputs": [],
   "source": [
    "first_user_genres_dict = generateDictionary(songs_df_1, \"genres\")\n",
    "second_user_genres_dict = generateDictionary(songs_df_2, \"genres\")\n",
    "\n",
    "first_user_artists_dict = generateDictionary(songs_df_1, \"artist\")\n",
    "second_user_artists_dict = generateDictionary(songs_df_2, \"artist\")\n",
    "\n",
    "first_user_songs_dict = generateDictionary(songs_df_1, \"id\")\n",
    "second_user_songs_dict = generateDictionary(songs_df_2, \"id\")\n",
    "\n",
    "first_user_albums_dict = generateDictionary(songs_df_1, \"album\")\n",
    "second_user_albums_dict = generateDictionary(songs_df_2, \"album\")"
   ]
  },
  {
   "cell_type": "code",
   "execution_count": 62,
   "id": "617a20df",
   "metadata": {},
   "outputs": [
    {
     "data": {
      "image/png": "[encoded data removed]",
      "text/plain": [
       "<Figure size 1080x576 with 1 Axes>"
      ]
     },
     "metadata": {},
     "output_type": "display_data"
    }
   ],
   "source": [
    "plot(first_user_genres_dict, user_info_df_1, \"genres\")"
   ]
  },
  {
   "cell_type": "code",
   "execution_count": 63,
   "id": "fe1a9ef7",
   "metadata": {},
   "outputs": [
    {
     "data": {
      "image/png": "[encoded data removed]",
      "text/plain": [
       "<Figure size 1080x576 with 1 Axes>"
      ]
     },
     "metadata": {},
     "output_type": "display_data"
    }
   ],
   "source": [
    "plot(second_user_genres_dict, user_info_df_2, \"genres\")"
   ]
  },
  {
   "cell_type": "code",
   "execution_count": 64,
   "id": "6a98a1e1",
   "metadata": {},
   "outputs": [
    {
     "data": {
      "image/png": "[encoded data removed]",
      "text/plain": [
       "<Figure size 1080x576 with 1 Axes>"
      ]
     },
     "metadata": {},
     "output_type": "display_data"
    }
   ],
   "source": [
    "plot(first_user_artists_dict, user_info_df_1, \"artists\")"
   ]
  },
  {
   "cell_type": "code",
   "execution_count": 65,
   "id": "47df65d9",
   "metadata": {
    "scrolled": false
   },
   "outputs": [
    {
     "name": "stderr",
     "output_type": "stream",
     "text": [
      "C:\\Users\\truon\\anaconda3\\lib\\site-packages\\matplotlib\\backends\\backend_agg.py:238: RuntimeWarning:\n",
      "\n",
      "Glyph 12493 missing from current font.\n",
      "\n",
      "C:\\Users\\truon\\anaconda3\\lib\\site-packages\\matplotlib\\backends\\backend_agg.py:238: RuntimeWarning:\n",
      "\n",
      "Glyph 12463 missing from current font.\n",
      "\n",
      "C:\\Users\\truon\\anaconda3\\lib\\site-packages\\matplotlib\\backends\\backend_agg.py:238: RuntimeWarning:\n",
      "\n",
      "Glyph 12521 missing from current font.\n",
      "\n",
      "C:\\Users\\truon\\anaconda3\\lib\\site-packages\\matplotlib\\backends\\backend_agg.py:238: RuntimeWarning:\n",
      "\n",
      "Glyph 12452 missing from current font.\n",
      "\n",
      "C:\\Users\\truon\\anaconda3\\lib\\site-packages\\matplotlib\\backends\\backend_agg.py:238: RuntimeWarning:\n",
      "\n",
      "Glyph 12488 missing from current font.\n",
      "\n",
      "C:\\Users\\truon\\anaconda3\\lib\\site-packages\\matplotlib\\backends\\backend_agg.py:238: RuntimeWarning:\n",
      "\n",
      "Glyph 12540 missing from current font.\n",
      "\n",
      "C:\\Users\\truon\\anaconda3\\lib\\site-packages\\matplotlib\\backends\\backend_agg.py:238: RuntimeWarning:\n",
      "\n",
      "Glyph 12461 missing from current font.\n",
      "\n",
      "C:\\Users\\truon\\anaconda3\\lib\\site-packages\\matplotlib\\backends\\backend_agg.py:238: RuntimeWarning:\n",
      "\n",
      "Glyph 12539 missing from current font.\n",
      "\n",
      "C:\\Users\\truon\\anaconda3\\lib\\site-packages\\matplotlib\\backends\\backend_agg.py:238: RuntimeWarning:\n",
      "\n",
      "Glyph 26446 missing from current font.\n",
      "\n",
      "C:\\Users\\truon\\anaconda3\\lib\\site-packages\\matplotlib\\backends\\backend_agg.py:201: RuntimeWarning:\n",
      "\n",
      "Glyph 12493 missing from current font.\n",
      "\n",
      "C:\\Users\\truon\\anaconda3\\lib\\site-packages\\matplotlib\\backends\\backend_agg.py:201: RuntimeWarning:\n",
      "\n",
      "Glyph 12463 missing from current font.\n",
      "\n",
      "C:\\Users\\truon\\anaconda3\\lib\\site-packages\\matplotlib\\backends\\backend_agg.py:201: RuntimeWarning:\n",
      "\n",
      "Glyph 12521 missing from current font.\n",
      "\n",
      "C:\\Users\\truon\\anaconda3\\lib\\site-packages\\matplotlib\\backends\\backend_agg.py:201: RuntimeWarning:\n",
      "\n",
      "Glyph 12452 missing from current font.\n",
      "\n",
      "C:\\Users\\truon\\anaconda3\\lib\\site-packages\\matplotlib\\backends\\backend_agg.py:201: RuntimeWarning:\n",
      "\n",
      "Glyph 12488 missing from current font.\n",
      "\n",
      "C:\\Users\\truon\\anaconda3\\lib\\site-packages\\matplotlib\\backends\\backend_agg.py:201: RuntimeWarning:\n",
      "\n",
      "Glyph 12540 missing from current font.\n",
      "\n",
      "C:\\Users\\truon\\anaconda3\\lib\\site-packages\\matplotlib\\backends\\backend_agg.py:201: RuntimeWarning:\n",
      "\n",
      "Glyph 12461 missing from current font.\n",
      "\n",
      "C:\\Users\\truon\\anaconda3\\lib\\site-packages\\matplotlib\\backends\\backend_agg.py:201: RuntimeWarning:\n",
      "\n",
      "Glyph 12539 missing from current font.\n",
      "\n",
      "C:\\Users\\truon\\anaconda3\\lib\\site-packages\\matplotlib\\backends\\backend_agg.py:201: RuntimeWarning:\n",
      "\n",
      "Glyph 26446 missing from current font.\n",
      "\n"
     ]
    },
    {
     "data": {
      "image/png": "[encoded data removed]",
      "text/plain": [
       "<Figure size 1080x576 with 1 Axes>"
      ]
     },
     "metadata": {},
     "output_type": "display_data"
    }
   ],
   "source": [
    "plot(second_user_artists_dict, user_info_df_2, \"artists\")"
   ]
  },
  {
   "cell_type": "code",
   "execution_count": 66,
   "id": "d9657bd6",
   "metadata": {},
   "outputs": [
    {
     "data": {
      "image/png": "[encoded data removed]",
      "text/plain": [
       "<Figure size 1080x576 with 1 Axes>"
      ]
     },
     "metadata": {},
     "output_type": "display_data"
    }
   ],
   "source": [
    "plot(first_user_albums_dict, user_info_df_1, \"album\")"
   ]
  },
  {
   "cell_type": "code",
   "execution_count": 67,
   "id": "e7840ab7",
   "metadata": {
    "scrolled": false
   },
   "outputs": [
    {
     "name": "stderr",
     "output_type": "stream",
     "text": [
      "C:\\Users\\truon\\anaconda3\\lib\\site-packages\\matplotlib\\backends\\backend_agg.py:238: RuntimeWarning:\n",
      "\n",
      "Glyph 22909 missing from current font.\n",
      "\n",
      "C:\\Users\\truon\\anaconda3\\lib\\site-packages\\matplotlib\\backends\\backend_agg.py:238: RuntimeWarning:\n",
      "\n",
      "Glyph 12365 missing from current font.\n",
      "\n",
      "C:\\Users\\truon\\anaconda3\\lib\\site-packages\\matplotlib\\backends\\backend_agg.py:238: RuntimeWarning:\n",
      "\n",
      "Glyph 12394 missing from current font.\n",
      "\n",
      "C:\\Users\\truon\\anaconda3\\lib\\site-packages\\matplotlib\\backends\\backend_agg.py:238: RuntimeWarning:\n",
      "\n",
      "Glyph 12425 missing from current font.\n",
      "\n",
      "C:\\Users\\truon\\anaconda3\\lib\\site-packages\\matplotlib\\backends\\backend_agg.py:238: RuntimeWarning:\n",
      "\n",
      "Glyph 21839 missing from current font.\n",
      "\n",
      "C:\\Users\\truon\\anaconda3\\lib\\site-packages\\matplotlib\\backends\\backend_agg.py:238: RuntimeWarning:\n",
      "\n",
      "Glyph 12431 missing from current font.\n",
      "\n",
      "C:\\Users\\truon\\anaconda3\\lib\\site-packages\\matplotlib\\backends\\backend_agg.py:238: RuntimeWarning:\n",
      "\n",
      "Glyph 12356 missing from current font.\n",
      "\n",
      "C:\\Users\\truon\\anaconda3\\lib\\site-packages\\matplotlib\\backends\\backend_agg.py:201: RuntimeWarning:\n",
      "\n",
      "Glyph 22909 missing from current font.\n",
      "\n",
      "C:\\Users\\truon\\anaconda3\\lib\\site-packages\\matplotlib\\backends\\backend_agg.py:201: RuntimeWarning:\n",
      "\n",
      "Glyph 12365 missing from current font.\n",
      "\n",
      "C:\\Users\\truon\\anaconda3\\lib\\site-packages\\matplotlib\\backends\\backend_agg.py:201: RuntimeWarning:\n",
      "\n",
      "Glyph 12394 missing from current font.\n",
      "\n",
      "C:\\Users\\truon\\anaconda3\\lib\\site-packages\\matplotlib\\backends\\backend_agg.py:201: RuntimeWarning:\n",
      "\n",
      "Glyph 12425 missing from current font.\n",
      "\n",
      "C:\\Users\\truon\\anaconda3\\lib\\site-packages\\matplotlib\\backends\\backend_agg.py:201: RuntimeWarning:\n",
      "\n",
      "Glyph 21839 missing from current font.\n",
      "\n",
      "C:\\Users\\truon\\anaconda3\\lib\\site-packages\\matplotlib\\backends\\backend_agg.py:201: RuntimeWarning:\n",
      "\n",
      "Glyph 12431 missing from current font.\n",
      "\n",
      "C:\\Users\\truon\\anaconda3\\lib\\site-packages\\matplotlib\\backends\\backend_agg.py:201: RuntimeWarning:\n",
      "\n",
      "Glyph 12356 missing from current font.\n",
      "\n"
     ]
    },
    {
     "data": {
      "image/png": "[encoded data removed]",
      "text/plain": [
       "<Figure size 1080x576 with 1 Axes>"
      ]
     },
     "metadata": {},
     "output_type": "display_data"
    }
   ],
   "source": [
    "plot(second_user_albums_dict, user_info_df_2, \"album\")"
   ]
  },
  {
   "cell_type": "code",
   "execution_count": 68,
   "id": "ae22c76a",
   "metadata": {},
   "outputs": [],
   "source": [
    "import requests\n",
    "from IPython.core.display import Image, display\n",
    "\n",
    "def featureAnalysis(first_user_dict, second_user_dict, feature):\n",
    "    first_user_feature = first_user_dict\n",
    "    second_user_feature = second_user_dict\n",
    "    \n",
    "    common_features = dict()\n",
    "    for key in first_user_feature:\n",
    "        if key in second_user_feature:\n",
    "            common_features[key] = min(first_user_feature[key], second_user_feature[key])\n",
    "    \n",
    "    if common_features:\n",
    "        sorted_common_features =  {k: v for k, v in sorted(common_features.items(), \n",
    "                                                             reverse = True, key=lambda item: item[1])}\n",
    "        \n",
    "        keys = []\n",
    "        counts = []\n",
    "        print(\"Most common \" + feature + \":\")\n",
    "        for i,key in enumerate(sorted_common_features):\n",
    "            if i == 5: break\n",
    "            if feature == \"songs\":\n",
    "                song = songs_df_1.loc[songs_df_1[\"id\"]==key].values[0]\n",
    "                print(song[1] + \" by \" + song[2] + \" in \" + song[3])\n",
    "                display(Image(url=song[6], width=300, height=300))\n",
    "            else:\n",
    "                print(key, sorted_common_features[key])\n",
    "                keys.append(key)\n",
    "                counts.append(sorted_common_features[key])\n",
    "                p = sns.barplot(x = counts, y = keys, orient = \"h\")\n",
    "                p.set_xlabel(\"Count\", fontsize = 15)\n",
    "                p.set_title(\"Common \"  + feature, fontsize = 20)\n",
    "      \n",
    "    else:\n",
    "        print(\"No common \" + feature)\n",
    "        \n",
    "#     score = len(set(first_) & set(test_list2)) / float(len(set(test_list1) | set(test_list2))) * 100"
   ]
  },
  {
   "cell_type": "code",
   "execution_count": 69,
   "id": "42d81312",
   "metadata": {},
   "outputs": [
    {
     "name": "stdout",
     "output_type": "stream",
     "text": [
      "No common songs\n"
     ]
    }
   ],
   "source": [
    "featureAnalysis(first_user_songs_dict, second_user_songs_dict, \"songs\")"
   ]
  },
  {
   "cell_type": "code",
   "execution_count": 70,
   "id": "c959d5fc",
   "metadata": {
    "scrolled": false
   },
   "outputs": [
    {
     "name": "stdout",
     "output_type": "stream",
     "text": [
      "Most common genres:\n",
      "modern rock 6\n",
      "rock 6\n",
      "alternative rock 2\n",
      "adult standards 2\n",
      "mellow gold 2\n"
     ]
    },
    {
     "data": {
      "image/png": "[encoded data removed]",
      "text/plain": [
       "<Figure size 1080x576 with 1 Axes>"
      ]
     },
     "metadata": {},
     "output_type": "display_data"
    }
   ],
   "source": [
    "featureAnalysis(first_user_genres_dict, second_user_genres_dict, \"genres\")"
   ]
  },
  {
   "cell_type": "code",
   "execution_count": 71,
   "id": "629a6a64",
   "metadata": {},
   "outputs": [
    {
     "name": "stdout",
     "output_type": "stream",
     "text": [
      "No common artists\n"
     ]
    }
   ],
   "source": [
    "featureAnalysis(first_user_artists_dict, second_user_artists_dict, \"artists\")"
   ]
  },
  {
   "cell_type": "code",
   "execution_count": 72,
   "id": "c6ce7a0d",
   "metadata": {},
   "outputs": [],
   "source": [
    "def popularityAnalysis(first_dataframe, user_info_df_1, second_dataframe, user_info_df_2):\n",
    "    print(user_info_df_1[\"display_name\"][0] + \"'s average songs' popularity is\", first_dataframe[\"popularity\"].mean())\n",
    "    print(user_info_df_2[\"display_name\"][0] + \"'s average songs' popularity is\", second_dataframe[\"popularity\"].mean())\n",
    "    print(\"\\n\")\n",
    "    \n",
    "    max_first_pop = first_dataframe.sort_values(by=[\"popularity\"]).iloc[-1]\n",
    "    min_first_pop = first_dataframe.sort_values(by=[\"popularity\"]).iloc[0]\n",
    "    \n",
    "    print(user_info_df_1[\"display_name\"][0] + \"'s most and least popular songs are\")                                                \n",
    "    print(max_first_pop[\"song\"] + \" by \" + max_first_pop[\"artist\"] + \" with popularity \" + str(max_first_pop[\"popularity\"]))\n",
    "    print(min_first_pop[\"song\"] + \" by \" + min_first_pop[\"artist\"] + \" with popularity \" + str(min_first_pop[\"popularity\"]))\n",
    "    print(\"\\n\")\n",
    "    max_second_pop = second_dataframe.sort_values(by=[\"popularity\"]).iloc[-1]\n",
    "    min_second_pop = second_dataframe.sort_values(by=[\"popularity\"]).iloc[0]\n",
    "    \n",
    "    print(user_info_df_2[\"display_name\"][0] + \"'s most and least popular songs are\")\n",
    "    print(max_second_pop[\"song\"] + \" by \" + max_second_pop[\"artist\"] + \" with popularity \" + str(max_second_pop[\"popularity\"]))\n",
    "    print(min_second_pop[\"song\"] + \" by \" + min_second_pop[\"artist\"] + \" with popularity \" + str(min_second_pop[\"popularity\"]))"
   ]
  },
  {
   "cell_type": "code",
   "execution_count": 73,
   "id": "def3201b",
   "metadata": {
    "scrolled": true
   },
   "outputs": [
    {
     "name": "stdout",
     "output_type": "stream",
     "text": [
      "Vũ's average songs' popularity is 56.0\n",
      "Tran Dinh Vu's average songs' popularity is 39.96638655462185\n",
      "\n",
      "\n",
      "Vũ's most and least popular songs are\n",
      "drivers license by Olivia Rodrigo with popularity 90\n",
      "Bao Lời Hoa Mỹ by Lynk Lee with popularity 7\n",
      "\n",
      "\n",
      "Tran Dinh Vu's most and least popular songs are\n",
      "Looking Out for You by Joy Again with popularity 82\n",
      "In My Mind (feat. Brian Viglione) by Amanda Palmer with popularity 0\n"
     ]
    }
   ],
   "source": [
    "popularityAnalysis(songs_df_1, user_info_df_1, songs_df_2, user_info_df_2)"
   ]
  },
  {
   "cell_type": "markdown",
   "id": "3c422146",
   "metadata": {},
   "source": [
    "### Audio features visualizations"
   ]
  },
  {
   "cell_type": "code",
   "execution_count": 154,
   "id": "abe8d00f",
   "metadata": {},
   "outputs": [
    {
     "data": {
      "text/plain": [
       "<AxesSubplot:xlabel='acousticness', ylabel='Count'>"
      ]
     },
     "execution_count": 154,
     "metadata": {},
     "output_type": "execute_result"
    },
    {
     "data": {
      "image/png": "[encoded data removed]",
      "text/plain": [
       "<Figure size 1080x576 with 1 Axes>"
      ]
     },
     "metadata": {},
     "output_type": "display_data"
    }
   ],
   "source": [
    "af1_values = audio_features_df_1.drop([\"id\"], axis = 1)\n",
    "af2_values = audio_features_df_2.drop([\"id\"], axis = 1)\n",
    "\n",
    "sns.histplot(x=audio_features_df_1[\"acousticness\"])"
   ]
  },
  {
   "cell_type": "code",
   "execution_count": 139,
   "id": "ed164274",
   "metadata": {},
   "outputs": [
    {
     "data": {
      "text/plain": [
       "danceability        0.544231\n",
       "energy              0.596431\n",
       "mode                0.644628\n",
       "speechiness         0.062743\n",
       "acousticness        0.386795\n",
       "instrumentalness    0.167217\n",
       "liveness            0.174400\n",
       "valance             0.491796\n",
       "dtype: float64"
      ]
     },
     "execution_count": 139,
     "metadata": {},
     "output_type": "execute_result"
    }
   ],
   "source": [
    "af1_values_df = audio_features_df_1.drop([\"id\",\"tempo\",\"key\",\"loudness\"], axis = 1)\n",
    "audio_features_1_mean = af1_values_df.mean()\n",
    "audio_features_1_mean\n",
    "\n",
    "af2_values_df = audio_features_df_2.drop([\"id\",\"tempo\",\"key\",\"loudness\"], axis = 1)\n",
    "audio_features_2_mean = af2_values_df.mean()\n",
    "audio_features_2_mean"
   ]
  },
  {
   "cell_type": "code",
   "execution_count": 140,
   "id": "e16d8602",
   "metadata": {},
   "outputs": [
    {
     "data": {
      "text/plain": [
       "danceability        0.545649\n",
       "energy              0.626214\n",
       "mode                0.543860\n",
       "speechiness         0.057931\n",
       "acousticness        0.331253\n",
       "instrumentalness    0.032271\n",
       "liveness            0.165491\n",
       "valance             0.419654\n",
       "dtype: float64"
      ]
     },
     "execution_count": 140,
     "metadata": {},
     "output_type": "execute_result"
    }
   ],
   "source": [
    "audio_features_1_mean"
   ]
  },
  {
   "cell_type": "code",
   "execution_count": 141,
   "id": "e6ddf642",
   "metadata": {
    "scrolled": false
   },
   "outputs": [
    {
     "data": {
      "application/vnd.plotly.v1+json": {
       "config": {
        "plotlyServerURL": "https://plot.ly"
       },
       "data": [
        {
         "fill": "toself",
         "hovertemplate": "r=%{r}<br>theta=%{theta}<extra></extra>",
         "legendgroup": "",
         "line": {
          "color": "#636efa",
          "dash": "solid"
         },
         "marker": {
          "symbol": "circle"
         },
         "mode": "lines",
         "name": "",
         "r": [
          0.5456491228070175,
          0.6262140350877191,
          0.543859649122807,
          0.05793070175438597,
          0.33125259824561415,
          0.03227083754385965,
          0.1654912280701754,
          0.41965438596491217,
          0.5456491228070175
         ],
         "showlegend": false,
         "subplot": "polar",
         "theta": [
          "danceability",
          "energy",
          "mode",
          "speechiness",
          "acousticness",
          "instrumentalness",
          "liveness",
          "valance",
          "danceability"
         ],
         "type": "scatterpolar"
        }
       ],
       "layout": {
        "legend": {
         "tracegroupgap": 0
        },
        "margin": {
         "t": 60
        },
        "polar": {
         "angularaxis": {
          "direction": "clockwise",
          "rotation": 90
         },
         "domain": {
          "x": [
           0,
           1
          ],
          "y": [
           0,
           1
          ]
         }
        },
        "template": {
         "data": {
          "bar": [
           {
            "error_x": {
             "color": "#2a3f5f"
            },
            "error_y": {
             "color": "#2a3f5f"
            },
            "marker": {
             "line": {
              "color": "#E5ECF6",
              "width": 0.5
             },
             "pattern": {
              "fillmode": "overlay",
              "size": 10,
              "solidity": 0.2
             }
            },
            "type": "bar"
           }
          ],
          "barpolar": [
           {
            "marker": {
             "line": {
              "color": "#E5ECF6",
              "width": 0.5
             },
             "pattern": {
              "fillmode": "overlay",
              "size": 10,
              "solidity": 0.2
             }
            },
            "type": "barpolar"
           }
          ],
          "carpet": [
           {
            "aaxis": {
             "endlinecolor": "#2a3f5f",
             "gridcolor": "white",
             "linecolor": "white",
             "minorgridcolor": "white",
             "startlinecolor": "#2a3f5f"
            },
            "baxis": {
             "endlinecolor": "#2a3f5f",
             "gridcolor": "white",
             "linecolor": "white",
             "minorgridcolor": "white",
             "startlinecolor": "#2a3f5f"
            },
            "type": "carpet"
           }
          ],
          "choropleth": [
           {
            "colorbar": {
             "outlinewidth": 0,
             "ticks": ""
            },
            "type": "choropleth"
           }
          ],
          "contour": [
           {
            "colorbar": {
             "outlinewidth": 0,
             "ticks": ""
            },
            "colorscale": [
             [
              0,
              "#0d0887"
             ],
             [
              0.1111111111111111,
              "#46039f"
             ],
             [
              0.2222222222222222,
              "#7201a8"
             ],
             [
              0.3333333333333333,
              "#9c179e"
             ],
             [
              0.4444444444444444,
              "#bd3786"
             ],
             [
              0.5555555555555556,
              "#d8576b"
             ],
             [
              0.6666666666666666,
              "#ed7953"
             ],
             [
              0.7777777777777778,
              "#fb9f3a"
             ],
             [
              0.8888888888888888,
              "#fdca26"
             ],
             [
              1,
              "#f0f921"
             ]
            ],
            "type": "contour"
           }
          ],
          "contourcarpet": [
           {
            "colorbar": {
             "outlinewidth": 0,
             "ticks": ""
            },
            "type": "contourcarpet"
           }
          ],
          "heatmap": [
           {
            "colorbar": {
             "outlinewidth": 0,
             "ticks": ""
            },
            "colorscale": [
             [
              0,
              "#0d0887"
             ],
             [
              0.1111111111111111,
              "#46039f"
             ],
             [
              0.2222222222222222,
              "#7201a8"
             ],
             [
              0.3333333333333333,
              "#9c179e"
             ],
             [
              0.4444444444444444,
              "#bd3786"
             ],
             [
              0.5555555555555556,
              "#d8576b"
             ],
             [
              0.6666666666666666,
              "#ed7953"
             ],
             [
              0.7777777777777778,
              "#fb9f3a"
             ],
             [
              0.8888888888888888,
              "#fdca26"
             ],
             [
              1,
              "#f0f921"
             ]
            ],
            "type": "heatmap"
           }
          ],
          "heatmapgl": [
           {
            "colorbar": {
             "outlinewidth": 0,
             "ticks": ""
            },
            "colorscale": [
             [
              0,
              "#0d0887"
             ],
             [
              0.1111111111111111,
              "#46039f"
             ],
             [
              0.2222222222222222,
              "#7201a8"
             ],
             [
              0.3333333333333333,
              "#9c179e"
             ],
             [
              0.4444444444444444,
              "#bd3786"
             ],
             [
              0.5555555555555556,
              "#d8576b"
             ],
             [
              0.6666666666666666,
              "#ed7953"
             ],
             [
              0.7777777777777778,
              "#fb9f3a"
             ],
             [
              0.8888888888888888,
              "#fdca26"
             ],
             [
              1,
              "#f0f921"
             ]
            ],
            "type": "heatmapgl"
           }
          ],
          "histogram": [
           {
            "marker": {
             "pattern": {
              "fillmode": "overlay",
              "size": 10,
              "solidity": 0.2
             }
            },
            "type": "histogram"
           }
          ],
          "histogram2d": [
           {
            "colorbar": {
             "outlinewidth": 0,
             "ticks": ""
            },
            "colorscale": [
             [
              0,
              "#0d0887"
             ],
             [
              0.1111111111111111,
              "#46039f"
             ],
             [
              0.2222222222222222,
              "#7201a8"
             ],
             [
              0.3333333333333333,
              "#9c179e"
             ],
             [
              0.4444444444444444,
              "#bd3786"
             ],
             [
              0.5555555555555556,
              "#d8576b"
             ],
             [
              0.6666666666666666,
              "#ed7953"
             ],
             [
              0.7777777777777778,
              "#fb9f3a"
             ],
             [
              0.8888888888888888,
              "#fdca26"
             ],
             [
              1,
              "#f0f921"
             ]
            ],
            "type": "histogram2d"
           }
          ],
          "histogram2dcontour": [
           {
            "colorbar": {
             "outlinewidth": 0,
             "ticks": ""
            },
            "colorscale": [
             [
              0,
              "#0d0887"
             ],
             [
              0.1111111111111111,
              "#46039f"
             ],
             [
              0.2222222222222222,
              "#7201a8"
             ],
             [
              0.3333333333333333,
              "#9c179e"
             ],
             [
              0.4444444444444444,
              "#bd3786"
             ],
             [
              0.5555555555555556,
              "#d8576b"
             ],
             [
              0.6666666666666666,
              "#ed7953"
             ],
             [
              0.7777777777777778,
              "#fb9f3a"
             ],
             [
              0.8888888888888888,
              "#fdca26"
             ],
             [
              1,
              "#f0f921"
             ]
            ],
            "type": "histogram2dcontour"
           }
          ],
          "mesh3d": [
           {
            "colorbar": {
             "outlinewidth": 0,
             "ticks": ""
            },
            "type": "mesh3d"
           }
          ],
          "parcoords": [
           {
            "line": {
             "colorbar": {
              "outlinewidth": 0,
              "ticks": ""
             }
            },
            "type": "parcoords"
           }
          ],
          "pie": [
           {
            "automargin": true,
            "type": "pie"
           }
          ],
          "scatter": [
           {
            "marker": {
             "colorbar": {
              "outlinewidth": 0,
              "ticks": ""
             }
            },
            "type": "scatter"
           }
          ],
          "scatter3d": [
           {
            "line": {
             "colorbar": {
              "outlinewidth": 0,
              "ticks": ""
             }
            },
            "marker": {
             "colorbar": {
              "outlinewidth": 0,
              "ticks": ""
             }
            },
            "type": "scatter3d"
           }
          ],
          "scattercarpet": [
           {
            "marker": {
             "colorbar": {
              "outlinewidth": 0,
              "ticks": ""
             }
            },
            "type": "scattercarpet"
           }
          ],
          "scattergeo": [
           {
            "marker": {
             "colorbar": {
              "outlinewidth": 0,
              "ticks": ""
             }
            },
            "type": "scattergeo"
           }
          ],
          "scattergl": [
           {
            "marker": {
             "colorbar": {
              "outlinewidth": 0,
              "ticks": ""
             }
            },
            "type": "scattergl"
           }
          ],
          "scattermapbox": [
           {
            "marker": {
             "colorbar": {
              "outlinewidth": 0,
              "ticks": ""
             }
            },
            "type": "scattermapbox"
           }
          ],
          "scatterpolar": [
           {
            "marker": {
             "colorbar": {
              "outlinewidth": 0,
              "ticks": ""
             }
            },
            "type": "scatterpolar"
           }
          ],
          "scatterpolargl": [
           {
            "marker": {
             "colorbar": {
              "outlinewidth": 0,
              "ticks": ""
             }
            },
            "type": "scatterpolargl"
           }
          ],
          "scatterternary": [
           {
            "marker": {
             "colorbar": {
              "outlinewidth": 0,
              "ticks": ""
             }
            },
            "type": "scatterternary"
           }
          ],
          "surface": [
           {
            "colorbar": {
             "outlinewidth": 0,
             "ticks": ""
            },
            "colorscale": [
             [
              0,
              "#0d0887"
             ],
             [
              0.1111111111111111,
              "#46039f"
             ],
             [
              0.2222222222222222,
              "#7201a8"
             ],
             [
              0.3333333333333333,
              "#9c179e"
             ],
             [
              0.4444444444444444,
              "#bd3786"
             ],
             [
              0.5555555555555556,
              "#d8576b"
             ],
             [
              0.6666666666666666,
              "#ed7953"
             ],
             [
              0.7777777777777778,
              "#fb9f3a"
             ],
             [
              0.8888888888888888,
              "#fdca26"
             ],
             [
              1,
              "#f0f921"
             ]
            ],
            "type": "surface"
           }
          ],
          "table": [
           {
            "cells": {
             "fill": {
              "color": "#EBF0F8"
             },
             "line": {
              "color": "white"
             }
            },
            "header": {
             "fill": {
              "color": "#C8D4E3"
             },
             "line": {
              "color": "white"
             }
            },
            "type": "table"
           }
          ]
         },
         "layout": {
          "annotationdefaults": {
           "arrowcolor": "#2a3f5f",
           "arrowhead": 0,
           "arrowwidth": 1
          },
          "autotypenumbers": "strict",
          "coloraxis": {
           "colorbar": {
            "outlinewidth": 0,
            "ticks": ""
           }
          },
          "colorscale": {
           "diverging": [
            [
             0,
             "#8e0152"
            ],
            [
             0.1,
             "#c51b7d"
            ],
            [
             0.2,
             "#de77ae"
            ],
            [
             0.3,
             "#f1b6da"
            ],
            [
             0.4,
             "#fde0ef"
            ],
            [
             0.5,
             "#f7f7f7"
            ],
            [
             0.6,
             "#e6f5d0"
            ],
            [
             0.7,
             "#b8e186"
            ],
            [
             0.8,
             "#7fbc41"
            ],
            [
             0.9,
             "#4d9221"
            ],
            [
             1,
             "#276419"
            ]
           ],
           "sequential": [
            [
             0,
             "#0d0887"
            ],
            [
             0.1111111111111111,
             "#46039f"
            ],
            [
             0.2222222222222222,
             "#7201a8"
            ],
            [
             0.3333333333333333,
             "#9c179e"
            ],
            [
             0.4444444444444444,
             "#bd3786"
            ],
            [
             0.5555555555555556,
             "#d8576b"
            ],
            [
             0.6666666666666666,
             "#ed7953"
            ],
            [
             0.7777777777777778,
             "#fb9f3a"
            ],
            [
             0.8888888888888888,
             "#fdca26"
            ],
            [
             1,
             "#f0f921"
            ]
           ],
           "sequentialminus": [
            [
             0,
             "#0d0887"
            ],
            [
             0.1111111111111111,
             "#46039f"
            ],
            [
             0.2222222222222222,
             "#7201a8"
            ],
            [
             0.3333333333333333,
             "#9c179e"
            ],
            [
             0.4444444444444444,
             "#bd3786"
            ],
            [
             0.5555555555555556,
             "#d8576b"
            ],
            [
             0.6666666666666666,
             "#ed7953"
            ],
            [
             0.7777777777777778,
             "#fb9f3a"
            ],
            [
             0.8888888888888888,
             "#fdca26"
            ],
            [
             1,
             "#f0f921"
            ]
           ]
          },
          "colorway": [
           "#636efa",
           "#EF553B",
           "#00cc96",
           "#ab63fa",
           "#FFA15A",
           "#19d3f3",
           "#FF6692",
           "#B6E880",
           "#FF97FF",
           "#FECB52"
          ],
          "font": {
           "color": "#2a3f5f"
          },
          "geo": {
           "bgcolor": "white",
           "lakecolor": "white",
           "landcolor": "#E5ECF6",
           "showlakes": true,
           "showland": true,
           "subunitcolor": "white"
          },
          "hoverlabel": {
           "align": "left"
          },
          "hovermode": "closest",
          "mapbox": {
           "style": "light"
          },
          "paper_bgcolor": "white",
          "plot_bgcolor": "#E5ECF6",
          "polar": {
           "angularaxis": {
            "gridcolor": "white",
            "linecolor": "white",
            "ticks": ""
           },
           "bgcolor": "#E5ECF6",
           "radialaxis": {
            "gridcolor": "white",
            "linecolor": "white",
            "ticks": ""
           }
          },
          "scene": {
           "xaxis": {
            "backgroundcolor": "#E5ECF6",
            "gridcolor": "white",
            "gridwidth": 2,
            "linecolor": "white",
            "showbackground": true,
            "ticks": "",
            "zerolinecolor": "white"
           },
           "yaxis": {
            "backgroundcolor": "#E5ECF6",
            "gridcolor": "white",
            "gridwidth": 2,
            "linecolor": "white",
            "showbackground": true,
            "ticks": "",
            "zerolinecolor": "white"
           },
           "zaxis": {
            "backgroundcolor": "#E5ECF6",
            "gridcolor": "white",
            "gridwidth": 2,
            "linecolor": "white",
            "showbackground": true,
            "ticks": "",
            "zerolinecolor": "white"
           }
          },
          "shapedefaults": {
           "line": {
            "color": "#2a3f5f"
           }
          },
          "ternary": {
           "aaxis": {
            "gridcolor": "white",
            "linecolor": "white",
            "ticks": ""
           },
           "baxis": {
            "gridcolor": "white",
            "linecolor": "white",
            "ticks": ""
           },
           "bgcolor": "#E5ECF6",
           "caxis": {
            "gridcolor": "white",
            "linecolor": "white",
            "ticks": ""
           }
          },
          "title": {
           "x": 0.05
          },
          "xaxis": {
           "automargin": true,
           "gridcolor": "white",
           "linecolor": "white",
           "ticks": "",
           "title": {
            "standoff": 15
           },
           "zerolinecolor": "white",
           "zerolinewidth": 2
          },
          "yaxis": {
           "automargin": true,
           "gridcolor": "white",
           "linecolor": "white",
           "ticks": "",
           "title": {
            "standoff": 15
           },
           "zerolinecolor": "white",
           "zerolinewidth": 2
          }
         }
        }
       }
      },
      "text/html": [
       "<div>                            <div id=\"3bbca75f-cba0-4331-b1e1-455a13c95978\" class=\"plotly-graph-div\" style=\"height:525px; width:100%;\"></div>            <script type=\"text/javascript\">                require([\"plotly\"], function(Plotly) {                    window.PLOTLYENV=window.PLOTLYENV || {};                                    if (document.getElementById(\"3bbca75f-cba0-4331-b1e1-455a13c95978\")) {                    Plotly.newPlot(                        \"3bbca75f-cba0-4331-b1e1-455a13c95978\",                        [{\"hovertemplate\":\"r=%{r}<br>theta=%{theta}<extra></extra>\",\"legendgroup\":\"\",\"line\":{\"color\":\"#636efa\",\"dash\":\"solid\"},\"marker\":{\"symbol\":\"circle\"},\"mode\":\"lines\",\"name\":\"\",\"r\":[0.5456491228070175,0.6262140350877191,0.543859649122807,0.05793070175438597,0.33125259824561415,0.03227083754385965,0.1654912280701754,0.41965438596491217,0.5456491228070175],\"showlegend\":false,\"subplot\":\"polar\",\"theta\":[\"danceability\",\"energy\",\"mode\",\"speechiness\",\"acousticness\",\"instrumentalness\",\"liveness\",\"valance\",\"danceability\"],\"type\":\"scatterpolar\",\"fill\":\"toself\"}],                        {\"template\":{\"data\":{\"bar\":[{\"error_x\":{\"color\":\"#2a3f5f\"},\"error_y\":{\"color\":\"#2a3f5f\"},\"marker\":{\"line\":{\"color\":\"#E5ECF6\",\"width\":0.5},\"pattern\":{\"fillmode\":\"overlay\",\"size\":10,\"solidity\":0.2}},\"type\":\"bar\"}],\"barpolar\":[{\"marker\":{\"line\":{\"color\":\"#E5ECF6\",\"width\":0.5},\"pattern\":{\"fillmode\":\"overlay\",\"size\":10,\"solidity\":0.2}},\"type\":\"barpolar\"}],\"carpet\":[{\"aaxis\":{\"endlinecolor\":\"#2a3f5f\",\"gridcolor\":\"white\",\"linecolor\":\"white\",\"minorgridcolor\":\"white\",\"startlinecolor\":\"#2a3f5f\"},\"baxis\":{\"endlinecolor\":\"#2a3f5f\",\"gridcolor\":\"white\",\"linecolor\":\"white\",\"minorgridcolor\":\"white\",\"startlinecolor\":\"#2a3f5f\"},\"type\":\"carpet\"}],\"choropleth\":[{\"colorbar\":{\"outlinewidth\":0,\"ticks\":\"\"},\"type\":\"choropleth\"}],\"contour\":[{\"colorbar\":{\"outlinewidth\":0,\"ticks\":\"\"},\"colorscale\":[[0.0,\"#0d0887\"],[0.1111111111111111,\"#46039f\"],[0.2222222222222222,\"#7201a8\"],[0.3333333333333333,\"#9c179e\"],[0.4444444444444444,\"#bd3786\"],[0.5555555555555556,\"#d8576b\"],[0.6666666666666666,\"#ed7953\"],[0.7777777777777778,\"#fb9f3a\"],[0.8888888888888888,\"#fdca26\"],[1.0,\"#f0f921\"]],\"type\":\"contour\"}],\"contourcarpet\":[{\"colorbar\":{\"outlinewidth\":0,\"ticks\":\"\"},\"type\":\"contourcarpet\"}],\"heatmap\":[{\"colorbar\":{\"outlinewidth\":0,\"ticks\":\"\"},\"colorscale\":[[0.0,\"#0d0887\"],[0.1111111111111111,\"#46039f\"],[0.2222222222222222,\"#7201a8\"],[0.3333333333333333,\"#9c179e\"],[0.4444444444444444,\"#bd3786\"],[0.5555555555555556,\"#d8576b\"],[0.6666666666666666,\"#ed7953\"],[0.7777777777777778,\"#fb9f3a\"],[0.8888888888888888,\"#fdca26\"],[1.0,\"#f0f921\"]],\"type\":\"heatmap\"}],\"heatmapgl\":[{\"colorbar\":{\"outlinewidth\":0,\"ticks\":\"\"},\"colorscale\":[[0.0,\"#0d0887\"],[0.1111111111111111,\"#46039f\"],[0.2222222222222222,\"#7201a8\"],[0.3333333333333333,\"#9c179e\"],[0.4444444444444444,\"#bd3786\"],[0.5555555555555556,\"#d8576b\"],[0.6666666666666666,\"#ed7953\"],[0.7777777777777778,\"#fb9f3a\"],[0.8888888888888888,\"#fdca26\"],[1.0,\"#f0f921\"]],\"type\":\"heatmapgl\"}],\"histogram\":[{\"marker\":{\"pattern\":{\"fillmode\":\"overlay\",\"size\":10,\"solidity\":0.2}},\"type\":\"histogram\"}],\"histogram2d\":[{\"colorbar\":{\"outlinewidth\":0,\"ticks\":\"\"},\"colorscale\":[[0.0,\"#0d0887\"],[0.1111111111111111,\"#46039f\"],[0.2222222222222222,\"#7201a8\"],[0.3333333333333333,\"#9c179e\"],[0.4444444444444444,\"#bd3786\"],[0.5555555555555556,\"#d8576b\"],[0.6666666666666666,\"#ed7953\"],[0.7777777777777778,\"#fb9f3a\"],[0.8888888888888888,\"#fdca26\"],[1.0,\"#f0f921\"]],\"type\":\"histogram2d\"}],\"histogram2dcontour\":[{\"colorbar\":{\"outlinewidth\":0,\"ticks\":\"\"},\"colorscale\":[[0.0,\"#0d0887\"],[0.1111111111111111,\"#46039f\"],[0.2222222222222222,\"#7201a8\"],[0.3333333333333333,\"#9c179e\"],[0.4444444444444444,\"#bd3786\"],[0.5555555555555556,\"#d8576b\"],[0.6666666666666666,\"#ed7953\"],[0.7777777777777778,\"#fb9f3a\"],[0.8888888888888888,\"#fdca26\"],[1.0,\"#f0f921\"]],\"type\":\"histogram2dcontour\"}],\"mesh3d\":[{\"colorbar\":{\"outlinewidth\":0,\"ticks\":\"\"},\"type\":\"mesh3d\"}],\"parcoords\":[{\"line\":{\"colorbar\":{\"outlinewidth\":0,\"ticks\":\"\"}},\"type\":\"parcoords\"}],\"pie\":[{\"automargin\":true,\"type\":\"pie\"}],\"scatter\":[{\"marker\":{\"colorbar\":{\"outlinewidth\":0,\"ticks\":\"\"}},\"type\":\"scatter\"}],\"scatter3d\":[{\"line\":{\"colorbar\":{\"outlinewidth\":0,\"ticks\":\"\"}},\"marker\":{\"colorbar\":{\"outlinewidth\":0,\"ticks\":\"\"}},\"type\":\"scatter3d\"}],\"scattercarpet\":[{\"marker\":{\"colorbar\":{\"outlinewidth\":0,\"ticks\":\"\"}},\"type\":\"scattercarpet\"}],\"scattergeo\":[{\"marker\":{\"colorbar\":{\"outlinewidth\":0,\"ticks\":\"\"}},\"type\":\"scattergeo\"}],\"scattergl\":[{\"marker\":{\"colorbar\":{\"outlinewidth\":0,\"ticks\":\"\"}},\"type\":\"scattergl\"}],\"scattermapbox\":[{\"marker\":{\"colorbar\":{\"outlinewidth\":0,\"ticks\":\"\"}},\"type\":\"scattermapbox\"}],\"scatterpolar\":[{\"marker\":{\"colorbar\":{\"outlinewidth\":0,\"ticks\":\"\"}},\"type\":\"scatterpolar\"}],\"scatterpolargl\":[{\"marker\":{\"colorbar\":{\"outlinewidth\":0,\"ticks\":\"\"}},\"type\":\"scatterpolargl\"}],\"scatterternary\":[{\"marker\":{\"colorbar\":{\"outlinewidth\":0,\"ticks\":\"\"}},\"type\":\"scatterternary\"}],\"surface\":[{\"colorbar\":{\"outlinewidth\":0,\"ticks\":\"\"},\"colorscale\":[[0.0,\"#0d0887\"],[0.1111111111111111,\"#46039f\"],[0.2222222222222222,\"#7201a8\"],[0.3333333333333333,\"#9c179e\"],[0.4444444444444444,\"#bd3786\"],[0.5555555555555556,\"#d8576b\"],[0.6666666666666666,\"#ed7953\"],[0.7777777777777778,\"#fb9f3a\"],[0.8888888888888888,\"#fdca26\"],[1.0,\"#f0f921\"]],\"type\":\"surface\"}],\"table\":[{\"cells\":{\"fill\":{\"color\":\"#EBF0F8\"},\"line\":{\"color\":\"white\"}},\"header\":{\"fill\":{\"color\":\"#C8D4E3\"},\"line\":{\"color\":\"white\"}},\"type\":\"table\"}]},\"layout\":{\"annotationdefaults\":{\"arrowcolor\":\"#2a3f5f\",\"arrowhead\":0,\"arrowwidth\":1},\"autotypenumbers\":\"strict\",\"coloraxis\":{\"colorbar\":{\"outlinewidth\":0,\"ticks\":\"\"}},\"colorscale\":{\"diverging\":[[0,\"#8e0152\"],[0.1,\"#c51b7d\"],[0.2,\"#de77ae\"],[0.3,\"#f1b6da\"],[0.4,\"#fde0ef\"],[0.5,\"#f7f7f7\"],[0.6,\"#e6f5d0\"],[0.7,\"#b8e186\"],[0.8,\"#7fbc41\"],[0.9,\"#4d9221\"],[1,\"#276419\"]],\"sequential\":[[0.0,\"#0d0887\"],[0.1111111111111111,\"#46039f\"],[0.2222222222222222,\"#7201a8\"],[0.3333333333333333,\"#9c179e\"],[0.4444444444444444,\"#bd3786\"],[0.5555555555555556,\"#d8576b\"],[0.6666666666666666,\"#ed7953\"],[0.7777777777777778,\"#fb9f3a\"],[0.8888888888888888,\"#fdca26\"],[1.0,\"#f0f921\"]],\"sequentialminus\":[[0.0,\"#0d0887\"],[0.1111111111111111,\"#46039f\"],[0.2222222222222222,\"#7201a8\"],[0.3333333333333333,\"#9c179e\"],[0.4444444444444444,\"#bd3786\"],[0.5555555555555556,\"#d8576b\"],[0.6666666666666666,\"#ed7953\"],[0.7777777777777778,\"#fb9f3a\"],[0.8888888888888888,\"#fdca26\"],[1.0,\"#f0f921\"]]},\"colorway\":[\"#636efa\",\"#EF553B\",\"#00cc96\",\"#ab63fa\",\"#FFA15A\",\"#19d3f3\",\"#FF6692\",\"#B6E880\",\"#FF97FF\",\"#FECB52\"],\"font\":{\"color\":\"#2a3f5f\"},\"geo\":{\"bgcolor\":\"white\",\"lakecolor\":\"white\",\"landcolor\":\"#E5ECF6\",\"showlakes\":true,\"showland\":true,\"subunitcolor\":\"white\"},\"hoverlabel\":{\"align\":\"left\"},\"hovermode\":\"closest\",\"mapbox\":{\"style\":\"light\"},\"paper_bgcolor\":\"white\",\"plot_bgcolor\":\"#E5ECF6\",\"polar\":{\"angularaxis\":{\"gridcolor\":\"white\",\"linecolor\":\"white\",\"ticks\":\"\"},\"bgcolor\":\"#E5ECF6\",\"radialaxis\":{\"gridcolor\":\"white\",\"linecolor\":\"white\",\"ticks\":\"\"}},\"scene\":{\"xaxis\":{\"backgroundcolor\":\"#E5ECF6\",\"gridcolor\":\"white\",\"gridwidth\":2,\"linecolor\":\"white\",\"showbackground\":true,\"ticks\":\"\",\"zerolinecolor\":\"white\"},\"yaxis\":{\"backgroundcolor\":\"#E5ECF6\",\"gridcolor\":\"white\",\"gridwidth\":2,\"linecolor\":\"white\",\"showbackground\":true,\"ticks\":\"\",\"zerolinecolor\":\"white\"},\"zaxis\":{\"backgroundcolor\":\"#E5ECF6\",\"gridcolor\":\"white\",\"gridwidth\":2,\"linecolor\":\"white\",\"showbackground\":true,\"ticks\":\"\",\"zerolinecolor\":\"white\"}},\"shapedefaults\":{\"line\":{\"color\":\"#2a3f5f\"}},\"ternary\":{\"aaxis\":{\"gridcolor\":\"white\",\"linecolor\":\"white\",\"ticks\":\"\"},\"baxis\":{\"gridcolor\":\"white\",\"linecolor\":\"white\",\"ticks\":\"\"},\"bgcolor\":\"#E5ECF6\",\"caxis\":{\"gridcolor\":\"white\",\"linecolor\":\"white\",\"ticks\":\"\"}},\"title\":{\"x\":0.05},\"xaxis\":{\"automargin\":true,\"gridcolor\":\"white\",\"linecolor\":\"white\",\"ticks\":\"\",\"title\":{\"standoff\":15},\"zerolinecolor\":\"white\",\"zerolinewidth\":2},\"yaxis\":{\"automargin\":true,\"gridcolor\":\"white\",\"linecolor\":\"white\",\"ticks\":\"\",\"title\":{\"standoff\":15},\"zerolinecolor\":\"white\",\"zerolinewidth\":2}}},\"polar\":{\"domain\":{\"x\":[0.0,1.0],\"y\":[0.0,1.0]},\"angularaxis\":{\"direction\":\"clockwise\",\"rotation\":90}},\"legend\":{\"tracegroupgap\":0},\"margin\":{\"t\":60}},                        {\"responsive\": true}                    ).then(function(){\n",
       "                            \n",
       "var gd = document.getElementById('3bbca75f-cba0-4331-b1e1-455a13c95978');\n",
       "var x = new MutationObserver(function (mutations, observer) {{\n",
       "        var display = window.getComputedStyle(gd).display;\n",
       "        if (!display || display === 'none') {{\n",
       "            console.log([gd, 'removed!']);\n",
       "            Plotly.purge(gd);\n",
       "            observer.disconnect();\n",
       "        }}\n",
       "}});\n",
       "\n",
       "// Listen for the removal of the full notebook cells\n",
       "var notebookContainer = gd.closest('#notebook-container');\n",
       "if (notebookContainer) {{\n",
       "    x.observe(notebookContainer, {childList: true});\n",
       "}}\n",
       "\n",
       "// Listen for the clearing of the current output cell\n",
       "var outputEl = gd.closest('.output');\n",
       "if (outputEl) {{\n",
       "    x.observe(outputEl, {childList: true});\n",
       "}}\n",
       "\n",
       "                        })                };                });            </script>        </div>"
      ]
     },
     "metadata": {},
     "output_type": "display_data"
    }
   ],
   "source": [
    "features = [\"danceability\",\"energy\",\"mode\",\"speechiness\",\"acousticness\",\n",
    "    \"instrumentalness\", \"liveness\", \"valance\"]\n",
    "\n",
    "polar_audio_features_1 = pd.DataFrame(dict(r = audio_features_1_mean, theta = features))\n",
    "fig = px.line_polar(polar_audio_features_1, r='r', theta='theta', line_close=True)\n",
    "fig.update_traces(fill='toself')\n",
    "fig.show()"
   ]
  },
  {
   "cell_type": "code",
   "execution_count": 142,
   "id": "e826da65",
   "metadata": {},
   "outputs": [
    {
     "data": {
      "application/vnd.plotly.v1+json": {
       "config": {
        "plotlyServerURL": "https://plot.ly"
       },
       "data": [
        {
         "fill": "toself",
         "hovertemplate": "r=%{r}<br>theta=%{theta}<extra></extra>",
         "legendgroup": "",
         "line": {
          "color": "#636efa",
          "dash": "solid"
         },
         "marker": {
          "symbol": "circle"
         },
         "mode": "lines",
         "name": "",
         "r": [
          0.5442314049586778,
          0.5964314049586779,
          0.6446280991735537,
          0.06274297520661158,
          0.3867947504132232,
          0.167216768677686,
          0.17440000000000003,
          0.49179586776859496,
          0.5442314049586778
         ],
         "showlegend": false,
         "subplot": "polar",
         "theta": [
          "danceability",
          "energy",
          "mode",
          "speechiness",
          "acousticness",
          "instrumentalness",
          "liveness",
          "valance",
          "danceability"
         ],
         "type": "scatterpolar"
        }
       ],
       "layout": {
        "legend": {
         "tracegroupgap": 0
        },
        "margin": {
         "t": 60
        },
        "polar": {
         "angularaxis": {
          "direction": "clockwise",
          "rotation": 90
         },
         "domain": {
          "x": [
           0,
           1
          ],
          "y": [
           0,
           1
          ]
         }
        },
        "template": {
         "data": {
          "bar": [
           {
            "error_x": {
             "color": "#2a3f5f"
            },
            "error_y": {
             "color": "#2a3f5f"
            },
            "marker": {
             "line": {
              "color": "#E5ECF6",
              "width": 0.5
             },
             "pattern": {
              "fillmode": "overlay",
              "size": 10,
              "solidity": 0.2
             }
            },
            "type": "bar"
           }
          ],
          "barpolar": [
           {
            "marker": {
             "line": {
              "color": "#E5ECF6",
              "width": 0.5
             },
             "pattern": {
              "fillmode": "overlay",
              "size": 10,
              "solidity": 0.2
             }
            },
            "type": "barpolar"
           }
          ],
          "carpet": [
           {
            "aaxis": {
             "endlinecolor": "#2a3f5f",
             "gridcolor": "white",
             "linecolor": "white",
             "minorgridcolor": "white",
             "startlinecolor": "#2a3f5f"
            },
            "baxis": {
             "endlinecolor": "#2a3f5f",
             "gridcolor": "white",
             "linecolor": "white",
             "minorgridcolor": "white",
             "startlinecolor": "#2a3f5f"
            },
            "type": "carpet"
           }
          ],
          "choropleth": [
           {
            "colorbar": {
             "outlinewidth": 0,
             "ticks": ""
            },
            "type": "choropleth"
           }
          ],
          "contour": [
           {
            "colorbar": {
             "outlinewidth": 0,
             "ticks": ""
            },
            "colorscale": [
             [
              0,
              "#0d0887"
             ],
             [
              0.1111111111111111,
              "#46039f"
             ],
             [
              0.2222222222222222,
              "#7201a8"
             ],
             [
              0.3333333333333333,
              "#9c179e"
             ],
             [
              0.4444444444444444,
              "#bd3786"
             ],
             [
              0.5555555555555556,
              "#d8576b"
             ],
             [
              0.6666666666666666,
              "#ed7953"
             ],
             [
              0.7777777777777778,
              "#fb9f3a"
             ],
             [
              0.8888888888888888,
              "#fdca26"
             ],
             [
              1,
              "#f0f921"
             ]
            ],
            "type": "contour"
           }
          ],
          "contourcarpet": [
           {
            "colorbar": {
             "outlinewidth": 0,
             "ticks": ""
            },
            "type": "contourcarpet"
           }
          ],
          "heatmap": [
           {
            "colorbar": {
             "outlinewidth": 0,
             "ticks": ""
            },
            "colorscale": [
             [
              0,
              "#0d0887"
             ],
             [
              0.1111111111111111,
              "#46039f"
             ],
             [
              0.2222222222222222,
              "#7201a8"
             ],
             [
              0.3333333333333333,
              "#9c179e"
             ],
             [
              0.4444444444444444,
              "#bd3786"
             ],
             [
              0.5555555555555556,
              "#d8576b"
             ],
             [
              0.6666666666666666,
              "#ed7953"
             ],
             [
              0.7777777777777778,
              "#fb9f3a"
             ],
             [
              0.8888888888888888,
              "#fdca26"
             ],
             [
              1,
              "#f0f921"
             ]
            ],
            "type": "heatmap"
           }
          ],
          "heatmapgl": [
           {
            "colorbar": {
             "outlinewidth": 0,
             "ticks": ""
            },
            "colorscale": [
             [
              0,
              "#0d0887"
             ],
             [
              0.1111111111111111,
              "#46039f"
             ],
             [
              0.2222222222222222,
              "#7201a8"
             ],
             [
              0.3333333333333333,
              "#9c179e"
             ],
             [
              0.4444444444444444,
              "#bd3786"
             ],
             [
              0.5555555555555556,
              "#d8576b"
             ],
             [
              0.6666666666666666,
              "#ed7953"
             ],
             [
              0.7777777777777778,
              "#fb9f3a"
             ],
             [
              0.8888888888888888,
              "#fdca26"
             ],
             [
              1,
              "#f0f921"
             ]
            ],
            "type": "heatmapgl"
           }
          ],
          "histogram": [
           {
            "marker": {
             "pattern": {
              "fillmode": "overlay",
              "size": 10,
              "solidity": 0.2
             }
            },
            "type": "histogram"
           }
          ],
          "histogram2d": [
           {
            "colorbar": {
             "outlinewidth": 0,
             "ticks": ""
            },
            "colorscale": [
             [
              0,
              "#0d0887"
             ],
             [
              0.1111111111111111,
              "#46039f"
             ],
             [
              0.2222222222222222,
              "#7201a8"
             ],
             [
              0.3333333333333333,
              "#9c179e"
             ],
             [
              0.4444444444444444,
              "#bd3786"
             ],
             [
              0.5555555555555556,
              "#d8576b"
             ],
             [
              0.6666666666666666,
              "#ed7953"
             ],
             [
              0.7777777777777778,
              "#fb9f3a"
             ],
             [
              0.8888888888888888,
              "#fdca26"
             ],
             [
              1,
              "#f0f921"
             ]
            ],
            "type": "histogram2d"
           }
          ],
          "histogram2dcontour": [
           {
            "colorbar": {
             "outlinewidth": 0,
             "ticks": ""
            },
            "colorscale": [
             [
              0,
              "#0d0887"
             ],
             [
              0.1111111111111111,
              "#46039f"
             ],
             [
              0.2222222222222222,
              "#7201a8"
             ],
             [
              0.3333333333333333,
              "#9c179e"
             ],
             [
              0.4444444444444444,
              "#bd3786"
             ],
             [
              0.5555555555555556,
              "#d8576b"
             ],
             [
              0.6666666666666666,
              "#ed7953"
             ],
             [
              0.7777777777777778,
              "#fb9f3a"
             ],
             [
              0.8888888888888888,
              "#fdca26"
             ],
             [
              1,
              "#f0f921"
             ]
            ],
            "type": "histogram2dcontour"
           }
          ],
          "mesh3d": [
           {
            "colorbar": {
             "outlinewidth": 0,
             "ticks": ""
            },
            "type": "mesh3d"
           }
          ],
          "parcoords": [
           {
            "line": {
             "colorbar": {
              "outlinewidth": 0,
              "ticks": ""
             }
            },
            "type": "parcoords"
           }
          ],
          "pie": [
           {
            "automargin": true,
            "type": "pie"
           }
          ],
          "scatter": [
           {
            "marker": {
             "colorbar": {
              "outlinewidth": 0,
              "ticks": ""
             }
            },
            "type": "scatter"
           }
          ],
          "scatter3d": [
           {
            "line": {
             "colorbar": {
              "outlinewidth": 0,
              "ticks": ""
             }
            },
            "marker": {
             "colorbar": {
              "outlinewidth": 0,
              "ticks": ""
             }
            },
            "type": "scatter3d"
           }
          ],
          "scattercarpet": [
           {
            "marker": {
             "colorbar": {
              "outlinewidth": 0,
              "ticks": ""
             }
            },
            "type": "scattercarpet"
           }
          ],
          "scattergeo": [
           {
            "marker": {
             "colorbar": {
              "outlinewidth": 0,
              "ticks": ""
             }
            },
            "type": "scattergeo"
           }
          ],
          "scattergl": [
           {
            "marker": {
             "colorbar": {
              "outlinewidth": 0,
              "ticks": ""
             }
            },
            "type": "scattergl"
           }
          ],
          "scattermapbox": [
           {
            "marker": {
             "colorbar": {
              "outlinewidth": 0,
              "ticks": ""
             }
            },
            "type": "scattermapbox"
           }
          ],
          "scatterpolar": [
           {
            "marker": {
             "colorbar": {
              "outlinewidth": 0,
              "ticks": ""
             }
            },
            "type": "scatterpolar"
           }
          ],
          "scatterpolargl": [
           {
            "marker": {
             "colorbar": {
              "outlinewidth": 0,
              "ticks": ""
             }
            },
            "type": "scatterpolargl"
           }
          ],
          "scatterternary": [
           {
            "marker": {
             "colorbar": {
              "outlinewidth": 0,
              "ticks": ""
             }
            },
            "type": "scatterternary"
           }
          ],
          "surface": [
           {
            "colorbar": {
             "outlinewidth": 0,
             "ticks": ""
            },
            "colorscale": [
             [
              0,
              "#0d0887"
             ],
             [
              0.1111111111111111,
              "#46039f"
             ],
             [
              0.2222222222222222,
              "#7201a8"
             ],
             [
              0.3333333333333333,
              "#9c179e"
             ],
             [
              0.4444444444444444,
              "#bd3786"
             ],
             [
              0.5555555555555556,
              "#d8576b"
             ],
             [
              0.6666666666666666,
              "#ed7953"
             ],
             [
              0.7777777777777778,
              "#fb9f3a"
             ],
             [
              0.8888888888888888,
              "#fdca26"
             ],
             [
              1,
              "#f0f921"
             ]
            ],
            "type": "surface"
           }
          ],
          "table": [
           {
            "cells": {
             "fill": {
              "color": "#EBF0F8"
             },
             "line": {
              "color": "white"
             }
            },
            "header": {
             "fill": {
              "color": "#C8D4E3"
             },
             "line": {
              "color": "white"
             }
            },
            "type": "table"
           }
          ]
         },
         "layout": {
          "annotationdefaults": {
           "arrowcolor": "#2a3f5f",
           "arrowhead": 0,
           "arrowwidth": 1
          },
          "autotypenumbers": "strict",
          "coloraxis": {
           "colorbar": {
            "outlinewidth": 0,
            "ticks": ""
           }
          },
          "colorscale": {
           "diverging": [
            [
             0,
             "#8e0152"
            ],
            [
             0.1,
             "#c51b7d"
            ],
            [
             0.2,
             "#de77ae"
            ],
            [
             0.3,
             "#f1b6da"
            ],
            [
             0.4,
             "#fde0ef"
            ],
            [
             0.5,
             "#f7f7f7"
            ],
            [
             0.6,
             "#e6f5d0"
            ],
            [
             0.7,
             "#b8e186"
            ],
            [
             0.8,
             "#7fbc41"
            ],
            [
             0.9,
             "#4d9221"
            ],
            [
             1,
             "#276419"
            ]
           ],
           "sequential": [
            [
             0,
             "#0d0887"
            ],
            [
             0.1111111111111111,
             "#46039f"
            ],
            [
             0.2222222222222222,
             "#7201a8"
            ],
            [
             0.3333333333333333,
             "#9c179e"
            ],
            [
             0.4444444444444444,
             "#bd3786"
            ],
            [
             0.5555555555555556,
             "#d8576b"
            ],
            [
             0.6666666666666666,
             "#ed7953"
            ],
            [
             0.7777777777777778,
             "#fb9f3a"
            ],
            [
             0.8888888888888888,
             "#fdca26"
            ],
            [
             1,
             "#f0f921"
            ]
           ],
           "sequentialminus": [
            [
             0,
             "#0d0887"
            ],
            [
             0.1111111111111111,
             "#46039f"
            ],
            [
             0.2222222222222222,
             "#7201a8"
            ],
            [
             0.3333333333333333,
             "#9c179e"
            ],
            [
             0.4444444444444444,
             "#bd3786"
            ],
            [
             0.5555555555555556,
             "#d8576b"
            ],
            [
             0.6666666666666666,
             "#ed7953"
            ],
            [
             0.7777777777777778,
             "#fb9f3a"
            ],
            [
             0.8888888888888888,
             "#fdca26"
            ],
            [
             1,
             "#f0f921"
            ]
           ]
          },
          "colorway": [
           "#636efa",
           "#EF553B",
           "#00cc96",
           "#ab63fa",
           "#FFA15A",
           "#19d3f3",
           "#FF6692",
           "#B6E880",
           "#FF97FF",
           "#FECB52"
          ],
          "font": {
           "color": "#2a3f5f"
          },
          "geo": {
           "bgcolor": "white",
           "lakecolor": "white",
           "landcolor": "#E5ECF6",
           "showlakes": true,
           "showland": true,
           "subunitcolor": "white"
          },
          "hoverlabel": {
           "align": "left"
          },
          "hovermode": "closest",
          "mapbox": {
           "style": "light"
          },
          "paper_bgcolor": "white",
          "plot_bgcolor": "#E5ECF6",
          "polar": {
           "angularaxis": {
            "gridcolor": "white",
            "linecolor": "white",
            "ticks": ""
           },
           "bgcolor": "#E5ECF6",
           "radialaxis": {
            "gridcolor": "white",
            "linecolor": "white",
            "ticks": ""
           }
          },
          "scene": {
           "xaxis": {
            "backgroundcolor": "#E5ECF6",
            "gridcolor": "white",
            "gridwidth": 2,
            "linecolor": "white",
            "showbackground": true,
            "ticks": "",
            "zerolinecolor": "white"
           },
           "yaxis": {
            "backgroundcolor": "#E5ECF6",
            "gridcolor": "white",
            "gridwidth": 2,
            "linecolor": "white",
            "showbackground": true,
            "ticks": "",
            "zerolinecolor": "white"
           },
           "zaxis": {
            "backgroundcolor": "#E5ECF6",
            "gridcolor": "white",
            "gridwidth": 2,
            "linecolor": "white",
            "showbackground": true,
            "ticks": "",
            "zerolinecolor": "white"
           }
          },
          "shapedefaults": {
           "line": {
            "color": "#2a3f5f"
           }
          },
          "ternary": {
           "aaxis": {
            "gridcolor": "white",
            "linecolor": "white",
            "ticks": ""
           },
           "baxis": {
            "gridcolor": "white",
            "linecolor": "white",
            "ticks": ""
           },
           "bgcolor": "#E5ECF6",
           "caxis": {
            "gridcolor": "white",
            "linecolor": "white",
            "ticks": ""
           }
          },
          "title": {
           "x": 0.05
          },
          "xaxis": {
           "automargin": true,
           "gridcolor": "white",
           "linecolor": "white",
           "ticks": "",
           "title": {
            "standoff": 15
           },
           "zerolinecolor": "white",
           "zerolinewidth": 2
          },
          "yaxis": {
           "automargin": true,
           "gridcolor": "white",
           "linecolor": "white",
           "ticks": "",
           "title": {
            "standoff": 15
           },
           "zerolinecolor": "white",
           "zerolinewidth": 2
          }
         }
        }
       }
      },
      "text/html": [
       "<div>                            <div id=\"317bbcd1-66a4-4cf4-a5f9-97d206e5cce4\" class=\"plotly-graph-div\" style=\"height:525px; width:100%;\"></div>            <script type=\"text/javascript\">                require([\"plotly\"], function(Plotly) {                    window.PLOTLYENV=window.PLOTLYENV || {};                                    if (document.getElementById(\"317bbcd1-66a4-4cf4-a5f9-97d206e5cce4\")) {                    Plotly.newPlot(                        \"317bbcd1-66a4-4cf4-a5f9-97d206e5cce4\",                        [{\"hovertemplate\":\"r=%{r}<br>theta=%{theta}<extra></extra>\",\"legendgroup\":\"\",\"line\":{\"color\":\"#636efa\",\"dash\":\"solid\"},\"marker\":{\"symbol\":\"circle\"},\"mode\":\"lines\",\"name\":\"\",\"r\":[0.5442314049586778,0.5964314049586779,0.6446280991735537,0.06274297520661158,0.3867947504132232,0.167216768677686,0.17440000000000003,0.49179586776859496,0.5442314049586778],\"showlegend\":false,\"subplot\":\"polar\",\"theta\":[\"danceability\",\"energy\",\"mode\",\"speechiness\",\"acousticness\",\"instrumentalness\",\"liveness\",\"valance\",\"danceability\"],\"type\":\"scatterpolar\",\"fill\":\"toself\"}],                        {\"template\":{\"data\":{\"bar\":[{\"error_x\":{\"color\":\"#2a3f5f\"},\"error_y\":{\"color\":\"#2a3f5f\"},\"marker\":{\"line\":{\"color\":\"#E5ECF6\",\"width\":0.5},\"pattern\":{\"fillmode\":\"overlay\",\"size\":10,\"solidity\":0.2}},\"type\":\"bar\"}],\"barpolar\":[{\"marker\":{\"line\":{\"color\":\"#E5ECF6\",\"width\":0.5},\"pattern\":{\"fillmode\":\"overlay\",\"size\":10,\"solidity\":0.2}},\"type\":\"barpolar\"}],\"carpet\":[{\"aaxis\":{\"endlinecolor\":\"#2a3f5f\",\"gridcolor\":\"white\",\"linecolor\":\"white\",\"minorgridcolor\":\"white\",\"startlinecolor\":\"#2a3f5f\"},\"baxis\":{\"endlinecolor\":\"#2a3f5f\",\"gridcolor\":\"white\",\"linecolor\":\"white\",\"minorgridcolor\":\"white\",\"startlinecolor\":\"#2a3f5f\"},\"type\":\"carpet\"}],\"choropleth\":[{\"colorbar\":{\"outlinewidth\":0,\"ticks\":\"\"},\"type\":\"choropleth\"}],\"contour\":[{\"colorbar\":{\"outlinewidth\":0,\"ticks\":\"\"},\"colorscale\":[[0.0,\"#0d0887\"],[0.1111111111111111,\"#46039f\"],[0.2222222222222222,\"#7201a8\"],[0.3333333333333333,\"#9c179e\"],[0.4444444444444444,\"#bd3786\"],[0.5555555555555556,\"#d8576b\"],[0.6666666666666666,\"#ed7953\"],[0.7777777777777778,\"#fb9f3a\"],[0.8888888888888888,\"#fdca26\"],[1.0,\"#f0f921\"]],\"type\":\"contour\"}],\"contourcarpet\":[{\"colorbar\":{\"outlinewidth\":0,\"ticks\":\"\"},\"type\":\"contourcarpet\"}],\"heatmap\":[{\"colorbar\":{\"outlinewidth\":0,\"ticks\":\"\"},\"colorscale\":[[0.0,\"#0d0887\"],[0.1111111111111111,\"#46039f\"],[0.2222222222222222,\"#7201a8\"],[0.3333333333333333,\"#9c179e\"],[0.4444444444444444,\"#bd3786\"],[0.5555555555555556,\"#d8576b\"],[0.6666666666666666,\"#ed7953\"],[0.7777777777777778,\"#fb9f3a\"],[0.8888888888888888,\"#fdca26\"],[1.0,\"#f0f921\"]],\"type\":\"heatmap\"}],\"heatmapgl\":[{\"colorbar\":{\"outlinewidth\":0,\"ticks\":\"\"},\"colorscale\":[[0.0,\"#0d0887\"],[0.1111111111111111,\"#46039f\"],[0.2222222222222222,\"#7201a8\"],[0.3333333333333333,\"#9c179e\"],[0.4444444444444444,\"#bd3786\"],[0.5555555555555556,\"#d8576b\"],[0.6666666666666666,\"#ed7953\"],[0.7777777777777778,\"#fb9f3a\"],[0.8888888888888888,\"#fdca26\"],[1.0,\"#f0f921\"]],\"type\":\"heatmapgl\"}],\"histogram\":[{\"marker\":{\"pattern\":{\"fillmode\":\"overlay\",\"size\":10,\"solidity\":0.2}},\"type\":\"histogram\"}],\"histogram2d\":[{\"colorbar\":{\"outlinewidth\":0,\"ticks\":\"\"},\"colorscale\":[[0.0,\"#0d0887\"],[0.1111111111111111,\"#46039f\"],[0.2222222222222222,\"#7201a8\"],[0.3333333333333333,\"#9c179e\"],[0.4444444444444444,\"#bd3786\"],[0.5555555555555556,\"#d8576b\"],[0.6666666666666666,\"#ed7953\"],[0.7777777777777778,\"#fb9f3a\"],[0.8888888888888888,\"#fdca26\"],[1.0,\"#f0f921\"]],\"type\":\"histogram2d\"}],\"histogram2dcontour\":[{\"colorbar\":{\"outlinewidth\":0,\"ticks\":\"\"},\"colorscale\":[[0.0,\"#0d0887\"],[0.1111111111111111,\"#46039f\"],[0.2222222222222222,\"#7201a8\"],[0.3333333333333333,\"#9c179e\"],[0.4444444444444444,\"#bd3786\"],[0.5555555555555556,\"#d8576b\"],[0.6666666666666666,\"#ed7953\"],[0.7777777777777778,\"#fb9f3a\"],[0.8888888888888888,\"#fdca26\"],[1.0,\"#f0f921\"]],\"type\":\"histogram2dcontour\"}],\"mesh3d\":[{\"colorbar\":{\"outlinewidth\":0,\"ticks\":\"\"},\"type\":\"mesh3d\"}],\"parcoords\":[{\"line\":{\"colorbar\":{\"outlinewidth\":0,\"ticks\":\"\"}},\"type\":\"parcoords\"}],\"pie\":[{\"automargin\":true,\"type\":\"pie\"}],\"scatter\":[{\"marker\":{\"colorbar\":{\"outlinewidth\":0,\"ticks\":\"\"}},\"type\":\"scatter\"}],\"scatter3d\":[{\"line\":{\"colorbar\":{\"outlinewidth\":0,\"ticks\":\"\"}},\"marker\":{\"colorbar\":{\"outlinewidth\":0,\"ticks\":\"\"}},\"type\":\"scatter3d\"}],\"scattercarpet\":[{\"marker\":{\"colorbar\":{\"outlinewidth\":0,\"ticks\":\"\"}},\"type\":\"scattercarpet\"}],\"scattergeo\":[{\"marker\":{\"colorbar\":{\"outlinewidth\":0,\"ticks\":\"\"}},\"type\":\"scattergeo\"}],\"scattergl\":[{\"marker\":{\"colorbar\":{\"outlinewidth\":0,\"ticks\":\"\"}},\"type\":\"scattergl\"}],\"scattermapbox\":[{\"marker\":{\"colorbar\":{\"outlinewidth\":0,\"ticks\":\"\"}},\"type\":\"scattermapbox\"}],\"scatterpolar\":[{\"marker\":{\"colorbar\":{\"outlinewidth\":0,\"ticks\":\"\"}},\"type\":\"scatterpolar\"}],\"scatterpolargl\":[{\"marker\":{\"colorbar\":{\"outlinewidth\":0,\"ticks\":\"\"}},\"type\":\"scatterpolargl\"}],\"scatterternary\":[{\"marker\":{\"colorbar\":{\"outlinewidth\":0,\"ticks\":\"\"}},\"type\":\"scatterternary\"}],\"surface\":[{\"colorbar\":{\"outlinewidth\":0,\"ticks\":\"\"},\"colorscale\":[[0.0,\"#0d0887\"],[0.1111111111111111,\"#46039f\"],[0.2222222222222222,\"#7201a8\"],[0.3333333333333333,\"#9c179e\"],[0.4444444444444444,\"#bd3786\"],[0.5555555555555556,\"#d8576b\"],[0.6666666666666666,\"#ed7953\"],[0.7777777777777778,\"#fb9f3a\"],[0.8888888888888888,\"#fdca26\"],[1.0,\"#f0f921\"]],\"type\":\"surface\"}],\"table\":[{\"cells\":{\"fill\":{\"color\":\"#EBF0F8\"},\"line\":{\"color\":\"white\"}},\"header\":{\"fill\":{\"color\":\"#C8D4E3\"},\"line\":{\"color\":\"white\"}},\"type\":\"table\"}]},\"layout\":{\"annotationdefaults\":{\"arrowcolor\":\"#2a3f5f\",\"arrowhead\":0,\"arrowwidth\":1},\"autotypenumbers\":\"strict\",\"coloraxis\":{\"colorbar\":{\"outlinewidth\":0,\"ticks\":\"\"}},\"colorscale\":{\"diverging\":[[0,\"#8e0152\"],[0.1,\"#c51b7d\"],[0.2,\"#de77ae\"],[0.3,\"#f1b6da\"],[0.4,\"#fde0ef\"],[0.5,\"#f7f7f7\"],[0.6,\"#e6f5d0\"],[0.7,\"#b8e186\"],[0.8,\"#7fbc41\"],[0.9,\"#4d9221\"],[1,\"#276419\"]],\"sequential\":[[0.0,\"#0d0887\"],[0.1111111111111111,\"#46039f\"],[0.2222222222222222,\"#7201a8\"],[0.3333333333333333,\"#9c179e\"],[0.4444444444444444,\"#bd3786\"],[0.5555555555555556,\"#d8576b\"],[0.6666666666666666,\"#ed7953\"],[0.7777777777777778,\"#fb9f3a\"],[0.8888888888888888,\"#fdca26\"],[1.0,\"#f0f921\"]],\"sequentialminus\":[[0.0,\"#0d0887\"],[0.1111111111111111,\"#46039f\"],[0.2222222222222222,\"#7201a8\"],[0.3333333333333333,\"#9c179e\"],[0.4444444444444444,\"#bd3786\"],[0.5555555555555556,\"#d8576b\"],[0.6666666666666666,\"#ed7953\"],[0.7777777777777778,\"#fb9f3a\"],[0.8888888888888888,\"#fdca26\"],[1.0,\"#f0f921\"]]},\"colorway\":[\"#636efa\",\"#EF553B\",\"#00cc96\",\"#ab63fa\",\"#FFA15A\",\"#19d3f3\",\"#FF6692\",\"#B6E880\",\"#FF97FF\",\"#FECB52\"],\"font\":{\"color\":\"#2a3f5f\"},\"geo\":{\"bgcolor\":\"white\",\"lakecolor\":\"white\",\"landcolor\":\"#E5ECF6\",\"showlakes\":true,\"showland\":true,\"subunitcolor\":\"white\"},\"hoverlabel\":{\"align\":\"left\"},\"hovermode\":\"closest\",\"mapbox\":{\"style\":\"light\"},\"paper_bgcolor\":\"white\",\"plot_bgcolor\":\"#E5ECF6\",\"polar\":{\"angularaxis\":{\"gridcolor\":\"white\",\"linecolor\":\"white\",\"ticks\":\"\"},\"bgcolor\":\"#E5ECF6\",\"radialaxis\":{\"gridcolor\":\"white\",\"linecolor\":\"white\",\"ticks\":\"\"}},\"scene\":{\"xaxis\":{\"backgroundcolor\":\"#E5ECF6\",\"gridcolor\":\"white\",\"gridwidth\":2,\"linecolor\":\"white\",\"showbackground\":true,\"ticks\":\"\",\"zerolinecolor\":\"white\"},\"yaxis\":{\"backgroundcolor\":\"#E5ECF6\",\"gridcolor\":\"white\",\"gridwidth\":2,\"linecolor\":\"white\",\"showbackground\":true,\"ticks\":\"\",\"zerolinecolor\":\"white\"},\"zaxis\":{\"backgroundcolor\":\"#E5ECF6\",\"gridcolor\":\"white\",\"gridwidth\":2,\"linecolor\":\"white\",\"showbackground\":true,\"ticks\":\"\",\"zerolinecolor\":\"white\"}},\"shapedefaults\":{\"line\":{\"color\":\"#2a3f5f\"}},\"ternary\":{\"aaxis\":{\"gridcolor\":\"white\",\"linecolor\":\"white\",\"ticks\":\"\"},\"baxis\":{\"gridcolor\":\"white\",\"linecolor\":\"white\",\"ticks\":\"\"},\"bgcolor\":\"#E5ECF6\",\"caxis\":{\"gridcolor\":\"white\",\"linecolor\":\"white\",\"ticks\":\"\"}},\"title\":{\"x\":0.05},\"xaxis\":{\"automargin\":true,\"gridcolor\":\"white\",\"linecolor\":\"white\",\"ticks\":\"\",\"title\":{\"standoff\":15},\"zerolinecolor\":\"white\",\"zerolinewidth\":2},\"yaxis\":{\"automargin\":true,\"gridcolor\":\"white\",\"linecolor\":\"white\",\"ticks\":\"\",\"title\":{\"standoff\":15},\"zerolinecolor\":\"white\",\"zerolinewidth\":2}}},\"polar\":{\"domain\":{\"x\":[0.0,1.0],\"y\":[0.0,1.0]},\"angularaxis\":{\"direction\":\"clockwise\",\"rotation\":90}},\"legend\":{\"tracegroupgap\":0},\"margin\":{\"t\":60}},                        {\"responsive\": true}                    ).then(function(){\n",
       "                            \n",
       "var gd = document.getElementById('317bbcd1-66a4-4cf4-a5f9-97d206e5cce4');\n",
       "var x = new MutationObserver(function (mutations, observer) {{\n",
       "        var display = window.getComputedStyle(gd).display;\n",
       "        if (!display || display === 'none') {{\n",
       "            console.log([gd, 'removed!']);\n",
       "            Plotly.purge(gd);\n",
       "            observer.disconnect();\n",
       "        }}\n",
       "}});\n",
       "\n",
       "// Listen for the removal of the full notebook cells\n",
       "var notebookContainer = gd.closest('#notebook-container');\n",
       "if (notebookContainer) {{\n",
       "    x.observe(notebookContainer, {childList: true});\n",
       "}}\n",
       "\n",
       "// Listen for the clearing of the current output cell\n",
       "var outputEl = gd.closest('.output');\n",
       "if (outputEl) {{\n",
       "    x.observe(outputEl, {childList: true});\n",
       "}}\n",
       "\n",
       "                        })                };                });            </script>        </div>"
      ]
     },
     "metadata": {},
     "output_type": "display_data"
    }
   ],
   "source": [
    "polar_audio_features_2 = pd.DataFrame(dict(r = audio_features_2_mean, theta = features))\n",
    "fig = px.line_polar(polar_audio_features_2, r='r', theta='theta', line_close=True)\n",
    "fig.update_traces(fill='toself')\n",
    "fig.show()"
   ]
  },
  {
   "cell_type": "code",
   "execution_count": 143,
   "id": "ae75640e",
   "metadata": {},
   "outputs": [
    {
     "data": {
      "application/vnd.plotly.v1+json": {
       "config": {
        "plotlyServerURL": "https://plot.ly"
       },
       "data": [
        {
         "fill": "toself",
         "name": "Vũ",
         "r": [
          0.5456491228070175,
          0.6262140350877191,
          0.543859649122807,
          0.05793070175438597,
          0.33125259824561415,
          0.03227083754385965,
          0.1654912280701754,
          0.41965438596491217
         ],
         "theta": [
          "danceability",
          "energy",
          "mode",
          "speechiness",
          "acousticness",
          "instrumentalness",
          "liveness",
          "valance"
         ],
         "type": "scatterpolar"
        },
        {
         "fill": "toself",
         "name": "Tran Dinh Vu",
         "r": [
          0.5442314049586778,
          0.5964314049586779,
          0.6446280991735537,
          0.06274297520661158,
          0.3867947504132232,
          0.167216768677686,
          0.17440000000000003,
          0.49179586776859496
         ],
         "theta": [
          "danceability",
          "energy",
          "mode",
          "speechiness",
          "acousticness",
          "instrumentalness",
          "liveness",
          "valance"
         ],
         "type": "scatterpolar"
        }
       ],
       "layout": {
        "polar": {
         "radialaxis": {
          "range": [
           -0.5,
           0.7
          ],
          "visible": true
         }
        },
        "showlegend": false,
        "template": {
         "data": {
          "bar": [
           {
            "error_x": {
             "color": "#2a3f5f"
            },
            "error_y": {
             "color": "#2a3f5f"
            },
            "marker": {
             "line": {
              "color": "#E5ECF6",
              "width": 0.5
             },
             "pattern": {
              "fillmode": "overlay",
              "size": 10,
              "solidity": 0.2
             }
            },
            "type": "bar"
           }
          ],
          "barpolar": [
           {
            "marker": {
             "line": {
              "color": "#E5ECF6",
              "width": 0.5
             },
             "pattern": {
              "fillmode": "overlay",
              "size": 10,
              "solidity": 0.2
             }
            },
            "type": "barpolar"
           }
          ],
          "carpet": [
           {
            "aaxis": {
             "endlinecolor": "#2a3f5f",
             "gridcolor": "white",
             "linecolor": "white",
             "minorgridcolor": "white",
             "startlinecolor": "#2a3f5f"
            },
            "baxis": {
             "endlinecolor": "#2a3f5f",
             "gridcolor": "white",
             "linecolor": "white",
             "minorgridcolor": "white",
             "startlinecolor": "#2a3f5f"
            },
            "type": "carpet"
           }
          ],
          "choropleth": [
           {
            "colorbar": {
             "outlinewidth": 0,
             "ticks": ""
            },
            "type": "choropleth"
           }
          ],
          "contour": [
           {
            "colorbar": {
             "outlinewidth": 0,
             "ticks": ""
            },
            "colorscale": [
             [
              0,
              "#0d0887"
             ],
             [
              0.1111111111111111,
              "#46039f"
             ],
             [
              0.2222222222222222,
              "#7201a8"
             ],
             [
              0.3333333333333333,
              "#9c179e"
             ],
             [
              0.4444444444444444,
              "#bd3786"
             ],
             [
              0.5555555555555556,
              "#d8576b"
             ],
             [
              0.6666666666666666,
              "#ed7953"
             ],
             [
              0.7777777777777778,
              "#fb9f3a"
             ],
             [
              0.8888888888888888,
              "#fdca26"
             ],
             [
              1,
              "#f0f921"
             ]
            ],
            "type": "contour"
           }
          ],
          "contourcarpet": [
           {
            "colorbar": {
             "outlinewidth": 0,
             "ticks": ""
            },
            "type": "contourcarpet"
           }
          ],
          "heatmap": [
           {
            "colorbar": {
             "outlinewidth": 0,
             "ticks": ""
            },
            "colorscale": [
             [
              0,
              "#0d0887"
             ],
             [
              0.1111111111111111,
              "#46039f"
             ],
             [
              0.2222222222222222,
              "#7201a8"
             ],
             [
              0.3333333333333333,
              "#9c179e"
             ],
             [
              0.4444444444444444,
              "#bd3786"
             ],
             [
              0.5555555555555556,
              "#d8576b"
             ],
             [
              0.6666666666666666,
              "#ed7953"
             ],
             [
              0.7777777777777778,
              "#fb9f3a"
             ],
             [
              0.8888888888888888,
              "#fdca26"
             ],
             [
              1,
              "#f0f921"
             ]
            ],
            "type": "heatmap"
           }
          ],
          "heatmapgl": [
           {
            "colorbar": {
             "outlinewidth": 0,
             "ticks": ""
            },
            "colorscale": [
             [
              0,
              "#0d0887"
             ],
             [
              0.1111111111111111,
              "#46039f"
             ],
             [
              0.2222222222222222,
              "#7201a8"
             ],
             [
              0.3333333333333333,
              "#9c179e"
             ],
             [
              0.4444444444444444,
              "#bd3786"
             ],
             [
              0.5555555555555556,
              "#d8576b"
             ],
             [
              0.6666666666666666,
              "#ed7953"
             ],
             [
              0.7777777777777778,
              "#fb9f3a"
             ],
             [
              0.8888888888888888,
              "#fdca26"
             ],
             [
              1,
              "#f0f921"
             ]
            ],
            "type": "heatmapgl"
           }
          ],
          "histogram": [
           {
            "marker": {
             "pattern": {
              "fillmode": "overlay",
              "size": 10,
              "solidity": 0.2
             }
            },
            "type": "histogram"
           }
          ],
          "histogram2d": [
           {
            "colorbar": {
             "outlinewidth": 0,
             "ticks": ""
            },
            "colorscale": [
             [
              0,
              "#0d0887"
             ],
             [
              0.1111111111111111,
              "#46039f"
             ],
             [
              0.2222222222222222,
              "#7201a8"
             ],
             [
              0.3333333333333333,
              "#9c179e"
             ],
             [
              0.4444444444444444,
              "#bd3786"
             ],
             [
              0.5555555555555556,
              "#d8576b"
             ],
             [
              0.6666666666666666,
              "#ed7953"
             ],
             [
              0.7777777777777778,
              "#fb9f3a"
             ],
             [
              0.8888888888888888,
              "#fdca26"
             ],
             [
              1,
              "#f0f921"
             ]
            ],
            "type": "histogram2d"
           }
          ],
          "histogram2dcontour": [
           {
            "colorbar": {
             "outlinewidth": 0,
             "ticks": ""
            },
            "colorscale": [
             [
              0,
              "#0d0887"
             ],
             [
              0.1111111111111111,
              "#46039f"
             ],
             [
              0.2222222222222222,
              "#7201a8"
             ],
             [
              0.3333333333333333,
              "#9c179e"
             ],
             [
              0.4444444444444444,
              "#bd3786"
             ],
             [
              0.5555555555555556,
              "#d8576b"
             ],
             [
              0.6666666666666666,
              "#ed7953"
             ],
             [
              0.7777777777777778,
              "#fb9f3a"
             ],
             [
              0.8888888888888888,
              "#fdca26"
             ],
             [
              1,
              "#f0f921"
             ]
            ],
            "type": "histogram2dcontour"
           }
          ],
          "mesh3d": [
           {
            "colorbar": {
             "outlinewidth": 0,
             "ticks": ""
            },
            "type": "mesh3d"
           }
          ],
          "parcoords": [
           {
            "line": {
             "colorbar": {
              "outlinewidth": 0,
              "ticks": ""
             }
            },
            "type": "parcoords"
           }
          ],
          "pie": [
           {
            "automargin": true,
            "type": "pie"
           }
          ],
          "scatter": [
           {
            "marker": {
             "colorbar": {
              "outlinewidth": 0,
              "ticks": ""
             }
            },
            "type": "scatter"
           }
          ],
          "scatter3d": [
           {
            "line": {
             "colorbar": {
              "outlinewidth": 0,
              "ticks": ""
             }
            },
            "marker": {
             "colorbar": {
              "outlinewidth": 0,
              "ticks": ""
             }
            },
            "type": "scatter3d"
           }
          ],
          "scattercarpet": [
           {
            "marker": {
             "colorbar": {
              "outlinewidth": 0,
              "ticks": ""
             }
            },
            "type": "scattercarpet"
           }
          ],
          "scattergeo": [
           {
            "marker": {
             "colorbar": {
              "outlinewidth": 0,
              "ticks": ""
             }
            },
            "type": "scattergeo"
           }
          ],
          "scattergl": [
           {
            "marker": {
             "colorbar": {
              "outlinewidth": 0,
              "ticks": ""
             }
            },
            "type": "scattergl"
           }
          ],
          "scattermapbox": [
           {
            "marker": {
             "colorbar": {
              "outlinewidth": 0,
              "ticks": ""
             }
            },
            "type": "scattermapbox"
           }
          ],
          "scatterpolar": [
           {
            "marker": {
             "colorbar": {
              "outlinewidth": 0,
              "ticks": ""
             }
            },
            "type": "scatterpolar"
           }
          ],
          "scatterpolargl": [
           {
            "marker": {
             "colorbar": {
              "outlinewidth": 0,
              "ticks": ""
             }
            },
            "type": "scatterpolargl"
           }
          ],
          "scatterternary": [
           {
            "marker": {
             "colorbar": {
              "outlinewidth": 0,
              "ticks": ""
             }
            },
            "type": "scatterternary"
           }
          ],
          "surface": [
           {
            "colorbar": {
             "outlinewidth": 0,
             "ticks": ""
            },
            "colorscale": [
             [
              0,
              "#0d0887"
             ],
             [
              0.1111111111111111,
              "#46039f"
             ],
             [
              0.2222222222222222,
              "#7201a8"
             ],
             [
              0.3333333333333333,
              "#9c179e"
             ],
             [
              0.4444444444444444,
              "#bd3786"
             ],
             [
              0.5555555555555556,
              "#d8576b"
             ],
             [
              0.6666666666666666,
              "#ed7953"
             ],
             [
              0.7777777777777778,
              "#fb9f3a"
             ],
             [
              0.8888888888888888,
              "#fdca26"
             ],
             [
              1,
              "#f0f921"
             ]
            ],
            "type": "surface"
           }
          ],
          "table": [
           {
            "cells": {
             "fill": {
              "color": "#EBF0F8"
             },
             "line": {
              "color": "white"
             }
            },
            "header": {
             "fill": {
              "color": "#C8D4E3"
             },
             "line": {
              "color": "white"
             }
            },
            "type": "table"
           }
          ]
         },
         "layout": {
          "annotationdefaults": {
           "arrowcolor": "#2a3f5f",
           "arrowhead": 0,
           "arrowwidth": 1
          },
          "autotypenumbers": "strict",
          "coloraxis": {
           "colorbar": {
            "outlinewidth": 0,
            "ticks": ""
           }
          },
          "colorscale": {
           "diverging": [
            [
             0,
             "#8e0152"
            ],
            [
             0.1,
             "#c51b7d"
            ],
            [
             0.2,
             "#de77ae"
            ],
            [
             0.3,
             "#f1b6da"
            ],
            [
             0.4,
             "#fde0ef"
            ],
            [
             0.5,
             "#f7f7f7"
            ],
            [
             0.6,
             "#e6f5d0"
            ],
            [
             0.7,
             "#b8e186"
            ],
            [
             0.8,
             "#7fbc41"
            ],
            [
             0.9,
             "#4d9221"
            ],
            [
             1,
             "#276419"
            ]
           ],
           "sequential": [
            [
             0,
             "#0d0887"
            ],
            [
             0.1111111111111111,
             "#46039f"
            ],
            [
             0.2222222222222222,
             "#7201a8"
            ],
            [
             0.3333333333333333,
             "#9c179e"
            ],
            [
             0.4444444444444444,
             "#bd3786"
            ],
            [
             0.5555555555555556,
             "#d8576b"
            ],
            [
             0.6666666666666666,
             "#ed7953"
            ],
            [
             0.7777777777777778,
             "#fb9f3a"
            ],
            [
             0.8888888888888888,
             "#fdca26"
            ],
            [
             1,
             "#f0f921"
            ]
           ],
           "sequentialminus": [
            [
             0,
             "#0d0887"
            ],
            [
             0.1111111111111111,
             "#46039f"
            ],
            [
             0.2222222222222222,
             "#7201a8"
            ],
            [
             0.3333333333333333,
             "#9c179e"
            ],
            [
             0.4444444444444444,
             "#bd3786"
            ],
            [
             0.5555555555555556,
             "#d8576b"
            ],
            [
             0.6666666666666666,
             "#ed7953"
            ],
            [
             0.7777777777777778,
             "#fb9f3a"
            ],
            [
             0.8888888888888888,
             "#fdca26"
            ],
            [
             1,
             "#f0f921"
            ]
           ]
          },
          "colorway": [
           "#636efa",
           "#EF553B",
           "#00cc96",
           "#ab63fa",
           "#FFA15A",
           "#19d3f3",
           "#FF6692",
           "#B6E880",
           "#FF97FF",
           "#FECB52"
          ],
          "font": {
           "color": "#2a3f5f"
          },
          "geo": {
           "bgcolor": "white",
           "lakecolor": "white",
           "landcolor": "#E5ECF6",
           "showlakes": true,
           "showland": true,
           "subunitcolor": "white"
          },
          "hoverlabel": {
           "align": "left"
          },
          "hovermode": "closest",
          "mapbox": {
           "style": "light"
          },
          "paper_bgcolor": "white",
          "plot_bgcolor": "#E5ECF6",
          "polar": {
           "angularaxis": {
            "gridcolor": "white",
            "linecolor": "white",
            "ticks": ""
           },
           "bgcolor": "#E5ECF6",
           "radialaxis": {
            "gridcolor": "white",
            "linecolor": "white",
            "ticks": ""
           }
          },
          "scene": {
           "xaxis": {
            "backgroundcolor": "#E5ECF6",
            "gridcolor": "white",
            "gridwidth": 2,
            "linecolor": "white",
            "showbackground": true,
            "ticks": "",
            "zerolinecolor": "white"
           },
           "yaxis": {
            "backgroundcolor": "#E5ECF6",
            "gridcolor": "white",
            "gridwidth": 2,
            "linecolor": "white",
            "showbackground": true,
            "ticks": "",
            "zerolinecolor": "white"
           },
           "zaxis": {
            "backgroundcolor": "#E5ECF6",
            "gridcolor": "white",
            "gridwidth": 2,
            "linecolor": "white",
            "showbackground": true,
            "ticks": "",
            "zerolinecolor": "white"
           }
          },
          "shapedefaults": {
           "line": {
            "color": "#2a3f5f"
           }
          },
          "ternary": {
           "aaxis": {
            "gridcolor": "white",
            "linecolor": "white",
            "ticks": ""
           },
           "baxis": {
            "gridcolor": "white",
            "linecolor": "white",
            "ticks": ""
           },
           "bgcolor": "#E5ECF6",
           "caxis": {
            "gridcolor": "white",
            "linecolor": "white",
            "ticks": ""
           }
          },
          "title": {
           "x": 0.05
          },
          "xaxis": {
           "automargin": true,
           "gridcolor": "white",
           "linecolor": "white",
           "ticks": "",
           "title": {
            "standoff": 15
           },
           "zerolinecolor": "white",
           "zerolinewidth": 2
          },
          "yaxis": {
           "automargin": true,
           "gridcolor": "white",
           "linecolor": "white",
           "ticks": "",
           "title": {
            "standoff": 15
           },
           "zerolinecolor": "white",
           "zerolinewidth": 2
          }
         }
        }
       }
      },
      "text/html": [
       "<div>                            <div id=\"eabb4ffe-ee55-4748-8c62-2dd7c4087ea5\" class=\"plotly-graph-div\" style=\"height:525px; width:100%;\"></div>            <script type=\"text/javascript\">                require([\"plotly\"], function(Plotly) {                    window.PLOTLYENV=window.PLOTLYENV || {};                                    if (document.getElementById(\"eabb4ffe-ee55-4748-8c62-2dd7c4087ea5\")) {                    Plotly.newPlot(                        \"eabb4ffe-ee55-4748-8c62-2dd7c4087ea5\",                        [{\"fill\":\"toself\",\"name\":\"V\\u0169\",\"r\":[0.5456491228070175,0.6262140350877191,0.543859649122807,0.05793070175438597,0.33125259824561415,0.03227083754385965,0.1654912280701754,0.41965438596491217],\"theta\":[\"danceability\",\"energy\",\"mode\",\"speechiness\",\"acousticness\",\"instrumentalness\",\"liveness\",\"valance\"],\"type\":\"scatterpolar\"},{\"fill\":\"toself\",\"name\":\"Tran Dinh Vu\",\"r\":[0.5442314049586778,0.5964314049586779,0.6446280991735537,0.06274297520661158,0.3867947504132232,0.167216768677686,0.17440000000000003,0.49179586776859496],\"theta\":[\"danceability\",\"energy\",\"mode\",\"speechiness\",\"acousticness\",\"instrumentalness\",\"liveness\",\"valance\"],\"type\":\"scatterpolar\"}],                        {\"template\":{\"data\":{\"bar\":[{\"error_x\":{\"color\":\"#2a3f5f\"},\"error_y\":{\"color\":\"#2a3f5f\"},\"marker\":{\"line\":{\"color\":\"#E5ECF6\",\"width\":0.5},\"pattern\":{\"fillmode\":\"overlay\",\"size\":10,\"solidity\":0.2}},\"type\":\"bar\"}],\"barpolar\":[{\"marker\":{\"line\":{\"color\":\"#E5ECF6\",\"width\":0.5},\"pattern\":{\"fillmode\":\"overlay\",\"size\":10,\"solidity\":0.2}},\"type\":\"barpolar\"}],\"carpet\":[{\"aaxis\":{\"endlinecolor\":\"#2a3f5f\",\"gridcolor\":\"white\",\"linecolor\":\"white\",\"minorgridcolor\":\"white\",\"startlinecolor\":\"#2a3f5f\"},\"baxis\":{\"endlinecolor\":\"#2a3f5f\",\"gridcolor\":\"white\",\"linecolor\":\"white\",\"minorgridcolor\":\"white\",\"startlinecolor\":\"#2a3f5f\"},\"type\":\"carpet\"}],\"choropleth\":[{\"colorbar\":{\"outlinewidth\":0,\"ticks\":\"\"},\"type\":\"choropleth\"}],\"contour\":[{\"colorbar\":{\"outlinewidth\":0,\"ticks\":\"\"},\"colorscale\":[[0.0,\"#0d0887\"],[0.1111111111111111,\"#46039f\"],[0.2222222222222222,\"#7201a8\"],[0.3333333333333333,\"#9c179e\"],[0.4444444444444444,\"#bd3786\"],[0.5555555555555556,\"#d8576b\"],[0.6666666666666666,\"#ed7953\"],[0.7777777777777778,\"#fb9f3a\"],[0.8888888888888888,\"#fdca26\"],[1.0,\"#f0f921\"]],\"type\":\"contour\"}],\"contourcarpet\":[{\"colorbar\":{\"outlinewidth\":0,\"ticks\":\"\"},\"type\":\"contourcarpet\"}],\"heatmap\":[{\"colorbar\":{\"outlinewidth\":0,\"ticks\":\"\"},\"colorscale\":[[0.0,\"#0d0887\"],[0.1111111111111111,\"#46039f\"],[0.2222222222222222,\"#7201a8\"],[0.3333333333333333,\"#9c179e\"],[0.4444444444444444,\"#bd3786\"],[0.5555555555555556,\"#d8576b\"],[0.6666666666666666,\"#ed7953\"],[0.7777777777777778,\"#fb9f3a\"],[0.8888888888888888,\"#fdca26\"],[1.0,\"#f0f921\"]],\"type\":\"heatmap\"}],\"heatmapgl\":[{\"colorbar\":{\"outlinewidth\":0,\"ticks\":\"\"},\"colorscale\":[[0.0,\"#0d0887\"],[0.1111111111111111,\"#46039f\"],[0.2222222222222222,\"#7201a8\"],[0.3333333333333333,\"#9c179e\"],[0.4444444444444444,\"#bd3786\"],[0.5555555555555556,\"#d8576b\"],[0.6666666666666666,\"#ed7953\"],[0.7777777777777778,\"#fb9f3a\"],[0.8888888888888888,\"#fdca26\"],[1.0,\"#f0f921\"]],\"type\":\"heatmapgl\"}],\"histogram\":[{\"marker\":{\"pattern\":{\"fillmode\":\"overlay\",\"size\":10,\"solidity\":0.2}},\"type\":\"histogram\"}],\"histogram2d\":[{\"colorbar\":{\"outlinewidth\":0,\"ticks\":\"\"},\"colorscale\":[[0.0,\"#0d0887\"],[0.1111111111111111,\"#46039f\"],[0.2222222222222222,\"#7201a8\"],[0.3333333333333333,\"#9c179e\"],[0.4444444444444444,\"#bd3786\"],[0.5555555555555556,\"#d8576b\"],[0.6666666666666666,\"#ed7953\"],[0.7777777777777778,\"#fb9f3a\"],[0.8888888888888888,\"#fdca26\"],[1.0,\"#f0f921\"]],\"type\":\"histogram2d\"}],\"histogram2dcontour\":[{\"colorbar\":{\"outlinewidth\":0,\"ticks\":\"\"},\"colorscale\":[[0.0,\"#0d0887\"],[0.1111111111111111,\"#46039f\"],[0.2222222222222222,\"#7201a8\"],[0.3333333333333333,\"#9c179e\"],[0.4444444444444444,\"#bd3786\"],[0.5555555555555556,\"#d8576b\"],[0.6666666666666666,\"#ed7953\"],[0.7777777777777778,\"#fb9f3a\"],[0.8888888888888888,\"#fdca26\"],[1.0,\"#f0f921\"]],\"type\":\"histogram2dcontour\"}],\"mesh3d\":[{\"colorbar\":{\"outlinewidth\":0,\"ticks\":\"\"},\"type\":\"mesh3d\"}],\"parcoords\":[{\"line\":{\"colorbar\":{\"outlinewidth\":0,\"ticks\":\"\"}},\"type\":\"parcoords\"}],\"pie\":[{\"automargin\":true,\"type\":\"pie\"}],\"scatter\":[{\"marker\":{\"colorbar\":{\"outlinewidth\":0,\"ticks\":\"\"}},\"type\":\"scatter\"}],\"scatter3d\":[{\"line\":{\"colorbar\":{\"outlinewidth\":0,\"ticks\":\"\"}},\"marker\":{\"colorbar\":{\"outlinewidth\":0,\"ticks\":\"\"}},\"type\":\"scatter3d\"}],\"scattercarpet\":[{\"marker\":{\"colorbar\":{\"outlinewidth\":0,\"ticks\":\"\"}},\"type\":\"scattercarpet\"}],\"scattergeo\":[{\"marker\":{\"colorbar\":{\"outlinewidth\":0,\"ticks\":\"\"}},\"type\":\"scattergeo\"}],\"scattergl\":[{\"marker\":{\"colorbar\":{\"outlinewidth\":0,\"ticks\":\"\"}},\"type\":\"scattergl\"}],\"scattermapbox\":[{\"marker\":{\"colorbar\":{\"outlinewidth\":0,\"ticks\":\"\"}},\"type\":\"scattermapbox\"}],\"scatterpolar\":[{\"marker\":{\"colorbar\":{\"outlinewidth\":0,\"ticks\":\"\"}},\"type\":\"scatterpolar\"}],\"scatterpolargl\":[{\"marker\":{\"colorbar\":{\"outlinewidth\":0,\"ticks\":\"\"}},\"type\":\"scatterpolargl\"}],\"scatterternary\":[{\"marker\":{\"colorbar\":{\"outlinewidth\":0,\"ticks\":\"\"}},\"type\":\"scatterternary\"}],\"surface\":[{\"colorbar\":{\"outlinewidth\":0,\"ticks\":\"\"},\"colorscale\":[[0.0,\"#0d0887\"],[0.1111111111111111,\"#46039f\"],[0.2222222222222222,\"#7201a8\"],[0.3333333333333333,\"#9c179e\"],[0.4444444444444444,\"#bd3786\"],[0.5555555555555556,\"#d8576b\"],[0.6666666666666666,\"#ed7953\"],[0.7777777777777778,\"#fb9f3a\"],[0.8888888888888888,\"#fdca26\"],[1.0,\"#f0f921\"]],\"type\":\"surface\"}],\"table\":[{\"cells\":{\"fill\":{\"color\":\"#EBF0F8\"},\"line\":{\"color\":\"white\"}},\"header\":{\"fill\":{\"color\":\"#C8D4E3\"},\"line\":{\"color\":\"white\"}},\"type\":\"table\"}]},\"layout\":{\"annotationdefaults\":{\"arrowcolor\":\"#2a3f5f\",\"arrowhead\":0,\"arrowwidth\":1},\"autotypenumbers\":\"strict\",\"coloraxis\":{\"colorbar\":{\"outlinewidth\":0,\"ticks\":\"\"}},\"colorscale\":{\"diverging\":[[0,\"#8e0152\"],[0.1,\"#c51b7d\"],[0.2,\"#de77ae\"],[0.3,\"#f1b6da\"],[0.4,\"#fde0ef\"],[0.5,\"#f7f7f7\"],[0.6,\"#e6f5d0\"],[0.7,\"#b8e186\"],[0.8,\"#7fbc41\"],[0.9,\"#4d9221\"],[1,\"#276419\"]],\"sequential\":[[0.0,\"#0d0887\"],[0.1111111111111111,\"#46039f\"],[0.2222222222222222,\"#7201a8\"],[0.3333333333333333,\"#9c179e\"],[0.4444444444444444,\"#bd3786\"],[0.5555555555555556,\"#d8576b\"],[0.6666666666666666,\"#ed7953\"],[0.7777777777777778,\"#fb9f3a\"],[0.8888888888888888,\"#fdca26\"],[1.0,\"#f0f921\"]],\"sequentialminus\":[[0.0,\"#0d0887\"],[0.1111111111111111,\"#46039f\"],[0.2222222222222222,\"#7201a8\"],[0.3333333333333333,\"#9c179e\"],[0.4444444444444444,\"#bd3786\"],[0.5555555555555556,\"#d8576b\"],[0.6666666666666666,\"#ed7953\"],[0.7777777777777778,\"#fb9f3a\"],[0.8888888888888888,\"#fdca26\"],[1.0,\"#f0f921\"]]},\"colorway\":[\"#636efa\",\"#EF553B\",\"#00cc96\",\"#ab63fa\",\"#FFA15A\",\"#19d3f3\",\"#FF6692\",\"#B6E880\",\"#FF97FF\",\"#FECB52\"],\"font\":{\"color\":\"#2a3f5f\"},\"geo\":{\"bgcolor\":\"white\",\"lakecolor\":\"white\",\"landcolor\":\"#E5ECF6\",\"showlakes\":true,\"showland\":true,\"subunitcolor\":\"white\"},\"hoverlabel\":{\"align\":\"left\"},\"hovermode\":\"closest\",\"mapbox\":{\"style\":\"light\"},\"paper_bgcolor\":\"white\",\"plot_bgcolor\":\"#E5ECF6\",\"polar\":{\"angularaxis\":{\"gridcolor\":\"white\",\"linecolor\":\"white\",\"ticks\":\"\"},\"bgcolor\":\"#E5ECF6\",\"radialaxis\":{\"gridcolor\":\"white\",\"linecolor\":\"white\",\"ticks\":\"\"}},\"scene\":{\"xaxis\":{\"backgroundcolor\":\"#E5ECF6\",\"gridcolor\":\"white\",\"gridwidth\":2,\"linecolor\":\"white\",\"showbackground\":true,\"ticks\":\"\",\"zerolinecolor\":\"white\"},\"yaxis\":{\"backgroundcolor\":\"#E5ECF6\",\"gridcolor\":\"white\",\"gridwidth\":2,\"linecolor\":\"white\",\"showbackground\":true,\"ticks\":\"\",\"zerolinecolor\":\"white\"},\"zaxis\":{\"backgroundcolor\":\"#E5ECF6\",\"gridcolor\":\"white\",\"gridwidth\":2,\"linecolor\":\"white\",\"showbackground\":true,\"ticks\":\"\",\"zerolinecolor\":\"white\"}},\"shapedefaults\":{\"line\":{\"color\":\"#2a3f5f\"}},\"ternary\":{\"aaxis\":{\"gridcolor\":\"white\",\"linecolor\":\"white\",\"ticks\":\"\"},\"baxis\":{\"gridcolor\":\"white\",\"linecolor\":\"white\",\"ticks\":\"\"},\"bgcolor\":\"#E5ECF6\",\"caxis\":{\"gridcolor\":\"white\",\"linecolor\":\"white\",\"ticks\":\"\"}},\"title\":{\"x\":0.05},\"xaxis\":{\"automargin\":true,\"gridcolor\":\"white\",\"linecolor\":\"white\",\"ticks\":\"\",\"title\":{\"standoff\":15},\"zerolinecolor\":\"white\",\"zerolinewidth\":2},\"yaxis\":{\"automargin\":true,\"gridcolor\":\"white\",\"linecolor\":\"white\",\"ticks\":\"\",\"title\":{\"standoff\":15},\"zerolinecolor\":\"white\",\"zerolinewidth\":2}}},\"polar\":{\"radialaxis\":{\"visible\":true,\"range\":[-0.5,0.7]}},\"showlegend\":false},                        {\"responsive\": true}                    ).then(function(){\n",
       "                            \n",
       "var gd = document.getElementById('eabb4ffe-ee55-4748-8c62-2dd7c4087ea5');\n",
       "var x = new MutationObserver(function (mutations, observer) {{\n",
       "        var display = window.getComputedStyle(gd).display;\n",
       "        if (!display || display === 'none') {{\n",
       "            console.log([gd, 'removed!']);\n",
       "            Plotly.purge(gd);\n",
       "            observer.disconnect();\n",
       "        }}\n",
       "}});\n",
       "\n",
       "// Listen for the removal of the full notebook cells\n",
       "var notebookContainer = gd.closest('#notebook-container');\n",
       "if (notebookContainer) {{\n",
       "    x.observe(notebookContainer, {childList: true});\n",
       "}}\n",
       "\n",
       "// Listen for the clearing of the current output cell\n",
       "var outputEl = gd.closest('.output');\n",
       "if (outputEl) {{\n",
       "    x.observe(outputEl, {childList: true});\n",
       "}}\n",
       "\n",
       "                        })                };                });            </script>        </div>"
      ]
     },
     "metadata": {},
     "output_type": "display_data"
    }
   ],
   "source": [
    "fig = go.Figure()\n",
    "\n",
    "fig.add_trace(go.Scatterpolar(\n",
    "      r = audio_features_1_mean,\n",
    "      theta=features,\n",
    "      fill='toself',\n",
    "      name=user1\n",
    "))\n",
    "fig.add_trace(go.Scatterpolar(\n",
    "      r= audio_features_2_mean,\n",
    "      theta=features,\n",
    "      fill='toself',\n",
    "      name=user2\n",
    "))\n",
    "\n",
    "fig.update_layout(\n",
    "  polar=dict(\n",
    "    radialaxis=dict(\n",
    "      visible=True,\n",
    "      range=[-0.5,0.7]\n",
    "    )),\n",
    "  showlegend=False\n",
    ")\n",
    "\n",
    "fig.show()"
   ]
  },
  {
   "cell_type": "code",
   "execution_count": 30,
   "id": "a81c4e57",
   "metadata": {},
   "outputs": [],
   "source": [
    "def similarityAnalysis(songs_df_1, user_info_df_1, songs_df_2, user_info_df_2, feature):\n",
    "    if feature == \"song\":\n",
    "        feature = \"id\"\n",
    "    \n",
    "    if feature == \"genres\":\n",
    "        u1 = songs_df_1[feature].to_numpy()\n",
    "        u2 = songs_df_2[feature].to_numpy()\n",
    "        u1_set = set()\n",
    "        u2_set = set()\n",
    "        for item in u1:\n",
    "            item = item.replace(\"[\",\"\").replace(\"]\",\"\").replace(\"'\",\"\").split(\", \")\n",
    "            for genre in item:\n",
    "                u1_set.add(genre)\n",
    "        for item in u2:\n",
    "            item = item.replace(\"[\",\"\").replace(\"]\",\"\").replace(\"'\",\"\").split(\", \")\n",
    "            for genre in item:\n",
    "                u2_set.add(genre)\n",
    "                \n",
    "        similarity = len(set(u1_set) & set(u2_set))/len(set(u1_set) | set(u2_set))*100\n",
    "    \n",
    "    else:\n",
    "        u1 = songs_df_1[feature]\n",
    "        u2 = songs_df_2[feature]\n",
    "        u1.drop_duplicates(keep = \"first\", inplace = True)\n",
    "        u2.drop_duplicates(keep = \"first\", inplace = True)\n",
    "        similarity = len(pd.merge(u1, u2, how = \"inner\").index)/len(pd.merge(u1, u2, how = \"outer\").index)*100\n",
    "    \n",
    "    return similarity\n"
   ]
  },
  {
   "cell_type": "code",
   "execution_count": null,
   "id": "0940d9be",
   "metadata": {},
   "outputs": [],
   "source": []
  },
  {
   "cell_type": "code",
   "execution_count": 31,
   "id": "a8e6facd",
   "metadata": {},
   "outputs": [
    {
     "name": "stdout",
     "output_type": "stream",
     "text": [
      "Songs similarity 0.0 %\n",
      "Aritsts similarity 0.0 %\n",
      "Albums similarity 0.0 %\n",
      "Popularity similarity 37.5 %\n",
      "Genres similiarity 9.090909090909092 %\n"
     ]
    }
   ],
   "source": [
    "print(\"Songs similarity\",similarityAnalysis(songs_df_1, user_info_df_1, songs_df_2, user_info_df_2, \"song\"),\"%\")\n",
    "print(\"Aritsts similarity\", similarityAnalysis(songs_df_1, user_info_df_1, songs_df_2, user_info_df_2, \"artist\"), \"%\")\n",
    "print(\"Albums similarity\", similarityAnalysis(songs_df_1, user_info_df_1, songs_df_2, user_info_df_2, \"album\"), \"%\")\n",
    "print(\"Popularity similarity\", similarityAnalysis(songs_df_1, user_info_df_1, songs_df_2, user_info_df_2, \"popularity\"), '%')\n",
    "print(\"Genres similiarity\", similarityAnalysis(songs_df_1, user_info_df_1, songs_df_2, user_info_df_2, \"genres\"), \"%\")"
   ]
  },
  {
   "cell_type": "markdown",
   "id": "7c453fae",
   "metadata": {},
   "source": [
    "## ... Recommendation System in progress ..."
   ]
  },
  {
   "cell_type": "code",
   "execution_count": 32,
   "id": "231be257",
   "metadata": {},
   "outputs": [
    {
     "data": {
      "text/plain": [
       "0      [modernalternativerock, modernrock, pop, popro...\n",
       "1                  [dancepop, pop, poprap, post-teenpop]\n",
       "2                                           [modernrock]\n",
       "3                            [alternativemetal, numetal]\n",
       "4                            [alternativemetal, numetal]\n",
       "                             ...                        \n",
       "109                                              [v-pop]\n",
       "110    [canadianpop, candypop, dancepop, pop, post-te...\n",
       "111    [canadianpop, candypop, dancepop, pop, post-te...\n",
       "112                            [k-pop, koreanmasksinger]\n",
       "113                            [neomellow, pop, poprock]\n",
       "Name: genres, Length: 114, dtype: object"
      ]
     },
     "execution_count": 32,
     "metadata": {},
     "output_type": "execute_result"
    }
   ],
   "source": [
    "def toList(x):\n",
    "    return x.replace(\" \", \"\").replace(\"'\",\"\").replace(\"[\",\"\").replace(\"]\",\"\").split(\",\")\n",
    "songs_df_1[\"genres\"] = songs_df_1[\"genres\"].apply(toList)\n",
    "songs_df_1[\"genres\"]"
   ]
  },
  {
   "cell_type": "code",
   "execution_count": 33,
   "id": "a18eff39",
   "metadata": {
    "scrolled": true
   },
   "outputs": [
    {
     "data": {
      "text/plain": [
       "list"
      ]
     },
     "execution_count": 33,
     "metadata": {},
     "output_type": "execute_result"
    }
   ],
   "source": [
    "type(songs_df_1[\"genres\"][0])"
   ]
  },
  {
   "cell_type": "code",
   "execution_count": 34,
   "id": "4ad65450",
   "metadata": {},
   "outputs": [],
   "source": [
    "def mergeList(x):\n",
    "    return ' '.join(x['genres'])"
   ]
  },
  {
   "cell_type": "code",
   "execution_count": 35,
   "id": "f9f6ba3e",
   "metadata": {
    "scrolled": false
   },
   "outputs": [
    {
     "data": {
      "text/plain": [
       "0      modernalternativerock modernrock pop poprock rock\n",
       "1                       dancepop pop poprap post-teenpop\n",
       "2                                             modernrock\n",
       "3                               alternativemetal numetal\n",
       "4                               alternativemetal numetal\n",
       "                             ...                        \n",
       "109                                                v-pop\n",
       "110       canadianpop candypop dancepop pop post-teenpop\n",
       "111       canadianpop candypop dancepop pop post-teenpop\n",
       "112                               k-pop koreanmasksinger\n",
       "113                                neomellow pop poprock\n",
       "Name: genres, Length: 114, dtype: object"
      ]
     },
     "execution_count": 35,
     "metadata": {},
     "output_type": "execute_result"
    }
   ],
   "source": [
    "songs_df_1[\"genres\"] = songs_df_1.apply(mergeList, axis=1)\n",
    "songs_df_1[\"genres\"]"
   ]
  },
  {
   "cell_type": "markdown",
   "id": "9337e7a0",
   "metadata": {},
   "source": [
    "Datacamp reference/ I'm working on a way to embed the audio features in"
   ]
  },
  {
   "cell_type": "code",
   "execution_count": 36,
   "id": "7107fcbe",
   "metadata": {},
   "outputs": [],
   "source": [
    "count = CountVectorizer()\n",
    "count_matrix = count.fit_transform(songs_df_1[\"genres\"])"
   ]
  },
  {
   "cell_type": "code",
   "execution_count": 37,
   "id": "73226710",
   "metadata": {},
   "outputs": [],
   "source": [
    "cosine_sim2 = cosine_similarity(count_matrix, count_matrix)\n",
    "songs_df_1 = songs_df_1.reset_index()\n",
    "indices = pd.Series(songs_df_1.index, index=songs_df_1['song'])"
   ]
  },
  {
   "cell_type": "code",
   "execution_count": 38,
   "id": "6fa4cf42",
   "metadata": {},
   "outputs": [],
   "source": [
    "def get_recommendations(title, cosine_sim=cosine_sim2):\n",
    "    \n",
    "    idx = indices[title]\n",
    "    sim_scores = list(enumerate(cosine_sim[idx]))\n",
    "    sim_scores = sorted(sim_scores, key=lambda x: x[1], reverse=True)\n",
    "    sim_scores = sim_scores[1:11]\n",
    "    song_indices = [i[0] for i in sim_scores]\n",
    "    \n",
    "    return songs_df_1['song'].iloc[song_indices]"
   ]
  },
  {
   "cell_type": "code",
   "execution_count": 39,
   "id": "e3f5e31c",
   "metadata": {
    "scrolled": false
   },
   "outputs": [
    {
     "data": {
      "text/plain": [
       "11                      Beautiful\n",
       "54                     The Search\n",
       "56               'Till I Collapse\n",
       "57                     The Ringer\n",
       "55               Forgot About Dre\n",
       "27    Cooler Than Me - Single Mix\n",
       "46                          A Boy\n",
       "26                      Rocketeer\n",
       "1                         What If\n",
       "0                          Animal\n",
       "Name: song, dtype: object"
      ]
     },
     "execution_count": 39,
     "metadata": {},
     "output_type": "execute_result"
    }
   ],
   "source": [
    "get_recommendations('Lighters', cosine_sim2)"
   ]
  },
  {
   "cell_type": "markdown",
   "id": "93dbdcab",
   "metadata": {},
   "source": [
    "## K nearest neighbors with audio features"
   ]
  },
  {
   "cell_type": "code",
   "execution_count": 40,
   "id": "3c244245",
   "metadata": {
    "scrolled": false
   },
   "outputs": [
    {
     "data": {
      "text/html": [
       "<div>\n",
       "<style scoped>\n",
       "    .dataframe tbody tr th:only-of-type {\n",
       "        vertical-align: middle;\n",
       "    }\n",
       "\n",
       "    .dataframe tbody tr th {\n",
       "        vertical-align: top;\n",
       "    }\n",
       "\n",
       "    .dataframe thead th {\n",
       "        text-align: right;\n",
       "    }\n",
       "</style>\n",
       "<table border=\"1\" class=\"dataframe\">\n",
       "  <thead>\n",
       "    <tr style=\"text-align: right;\">\n",
       "      <th></th>\n",
       "      <th>id</th>\n",
       "      <th>danceability</th>\n",
       "      <th>energy</th>\n",
       "      <th>key</th>\n",
       "      <th>loudness</th>\n",
       "      <th>mode</th>\n",
       "      <th>speechiness</th>\n",
       "      <th>acousticness</th>\n",
       "      <th>instrumentalness</th>\n",
       "      <th>liveness</th>\n",
       "      <th>valance</th>\n",
       "      <th>tempo</th>\n",
       "    </tr>\n",
       "  </thead>\n",
       "  <tbody>\n",
       "    <tr>\n",
       "      <th>0</th>\n",
       "      <td>1fBl642IhJOE5U319Gy2Go</td>\n",
       "      <td>0.482</td>\n",
       "      <td>0.833</td>\n",
       "      <td>5</td>\n",
       "      <td>-5.611</td>\n",
       "      <td>1</td>\n",
       "      <td>0.0449</td>\n",
       "      <td>0.000346</td>\n",
       "      <td>0.000000</td>\n",
       "      <td>0.3650</td>\n",
       "      <td>0.7400</td>\n",
       "      <td>148.039</td>\n",
       "    </tr>\n",
       "    <tr>\n",
       "      <th>1</th>\n",
       "      <td>4IBuAtdsM6psUgfhHgoy4e</td>\n",
       "      <td>0.429</td>\n",
       "      <td>0.757</td>\n",
       "      <td>1</td>\n",
       "      <td>-2.912</td>\n",
       "      <td>1</td>\n",
       "      <td>0.0306</td>\n",
       "      <td>0.140000</td>\n",
       "      <td>0.000000</td>\n",
       "      <td>0.1440</td>\n",
       "      <td>0.5380</td>\n",
       "      <td>82.517</td>\n",
       "    </tr>\n",
       "    <tr>\n",
       "      <th>2</th>\n",
       "      <td>5rLi8B8qgk6qThwRnKHW2P</td>\n",
       "      <td>0.436</td>\n",
       "      <td>0.893</td>\n",
       "      <td>9</td>\n",
       "      <td>-4.180</td>\n",
       "      <td>0</td>\n",
       "      <td>0.0556</td>\n",
       "      <td>0.000362</td>\n",
       "      <td>0.000000</td>\n",
       "      <td>0.1030</td>\n",
       "      <td>0.0794</td>\n",
       "      <td>124.113</td>\n",
       "    </tr>\n",
       "    <tr>\n",
       "      <th>3</th>\n",
       "      <td>7zAt4tdL44D3VuzsvM0N8n</td>\n",
       "      <td>0.487</td>\n",
       "      <td>0.949</td>\n",
       "      <td>2</td>\n",
       "      <td>-4.217</td>\n",
       "      <td>0</td>\n",
       "      <td>0.0798</td>\n",
       "      <td>0.000429</td>\n",
       "      <td>0.000029</td>\n",
       "      <td>0.2310</td>\n",
       "      <td>0.4060</td>\n",
       "      <td>110.020</td>\n",
       "    </tr>\n",
       "    <tr>\n",
       "      <th>4</th>\n",
       "      <td>1BLfQ6dPXmuDrFmbdfW7Jl</td>\n",
       "      <td>0.486</td>\n",
       "      <td>0.881</td>\n",
       "      <td>2</td>\n",
       "      <td>-5.623</td>\n",
       "      <td>0</td>\n",
       "      <td>0.0474</td>\n",
       "      <td>0.024400</td>\n",
       "      <td>0.000000</td>\n",
       "      <td>0.4290</td>\n",
       "      <td>0.6670</td>\n",
       "      <td>144.997</td>\n",
       "    </tr>\n",
       "    <tr>\n",
       "      <th>...</th>\n",
       "      <td>...</td>\n",
       "      <td>...</td>\n",
       "      <td>...</td>\n",
       "      <td>...</td>\n",
       "      <td>...</td>\n",
       "      <td>...</td>\n",
       "      <td>...</td>\n",
       "      <td>...</td>\n",
       "      <td>...</td>\n",
       "      <td>...</td>\n",
       "      <td>...</td>\n",
       "      <td>...</td>\n",
       "    </tr>\n",
       "    <tr>\n",
       "      <th>109</th>\n",
       "      <td>5nD5PVXUkIpv0WcwfNFrgS</td>\n",
       "      <td>0.593</td>\n",
       "      <td>0.263</td>\n",
       "      <td>7</td>\n",
       "      <td>-12.102</td>\n",
       "      <td>0</td>\n",
       "      <td>0.0384</td>\n",
       "      <td>0.918000</td>\n",
       "      <td>0.000001</td>\n",
       "      <td>0.1040</td>\n",
       "      <td>0.4660</td>\n",
       "      <td>119.645</td>\n",
       "    </tr>\n",
       "    <tr>\n",
       "      <th>110</th>\n",
       "      <td>54JKnDB3CzVu8wNAOM27BI</td>\n",
       "      <td>0.457</td>\n",
       "      <td>0.719</td>\n",
       "      <td>4</td>\n",
       "      <td>-3.921</td>\n",
       "      <td>0</td>\n",
       "      <td>0.0323</td>\n",
       "      <td>0.191000</td>\n",
       "      <td>0.000000</td>\n",
       "      <td>0.2280</td>\n",
       "      <td>0.1680</td>\n",
       "      <td>142.034</td>\n",
       "    </tr>\n",
       "    <tr>\n",
       "      <th>111</th>\n",
       "      <td>6sqNctd7MlJoKDOxPVCAvU</td>\n",
       "      <td>0.414</td>\n",
       "      <td>0.936</td>\n",
       "      <td>2</td>\n",
       "      <td>-2.407</td>\n",
       "      <td>1</td>\n",
       "      <td>0.0758</td>\n",
       "      <td>0.001360</td>\n",
       "      <td>0.000000</td>\n",
       "      <td>0.3690</td>\n",
       "      <td>0.7400</td>\n",
       "      <td>170.229</td>\n",
       "    </tr>\n",
       "    <tr>\n",
       "      <th>112</th>\n",
       "      <td>0ZeGfEAL5Rl4pd5LZBGuEK</td>\n",
       "      <td>0.658</td>\n",
       "      <td>0.749</td>\n",
       "      <td>9</td>\n",
       "      <td>-2.967</td>\n",
       "      <td>0</td>\n",
       "      <td>0.0634</td>\n",
       "      <td>0.238000</td>\n",
       "      <td>0.000002</td>\n",
       "      <td>0.2720</td>\n",
       "      <td>0.4420</td>\n",
       "      <td>128.909</td>\n",
       "    </tr>\n",
       "    <tr>\n",
       "      <th>113</th>\n",
       "      <td>27frvdD2rFj8NpgJUqTqBs</td>\n",
       "      <td>0.663</td>\n",
       "      <td>0.900</td>\n",
       "      <td>6</td>\n",
       "      <td>-4.080</td>\n",
       "      <td>0</td>\n",
       "      <td>0.0365</td>\n",
       "      <td>0.009510</td>\n",
       "      <td>0.000000</td>\n",
       "      <td>0.0529</td>\n",
       "      <td>0.8970</td>\n",
       "      <td>96.992</td>\n",
       "    </tr>\n",
       "  </tbody>\n",
       "</table>\n",
       "<p>114 rows × 12 columns</p>\n",
       "</div>"
      ],
      "text/plain": [
       "                         id  danceability  energy  key  loudness  mode  \\\n",
       "0    1fBl642IhJOE5U319Gy2Go         0.482   0.833    5    -5.611     1   \n",
       "1    4IBuAtdsM6psUgfhHgoy4e         0.429   0.757    1    -2.912     1   \n",
       "2    5rLi8B8qgk6qThwRnKHW2P         0.436   0.893    9    -4.180     0   \n",
       "3    7zAt4tdL44D3VuzsvM0N8n         0.487   0.949    2    -4.217     0   \n",
       "4    1BLfQ6dPXmuDrFmbdfW7Jl         0.486   0.881    2    -5.623     0   \n",
       "..                      ...           ...     ...  ...       ...   ...   \n",
       "109  5nD5PVXUkIpv0WcwfNFrgS         0.593   0.263    7   -12.102     0   \n",
       "110  54JKnDB3CzVu8wNAOM27BI         0.457   0.719    4    -3.921     0   \n",
       "111  6sqNctd7MlJoKDOxPVCAvU         0.414   0.936    2    -2.407     1   \n",
       "112  0ZeGfEAL5Rl4pd5LZBGuEK         0.658   0.749    9    -2.967     0   \n",
       "113  27frvdD2rFj8NpgJUqTqBs         0.663   0.900    6    -4.080     0   \n",
       "\n",
       "     speechiness  acousticness  instrumentalness  liveness  valance    tempo  \n",
       "0         0.0449      0.000346          0.000000    0.3650   0.7400  148.039  \n",
       "1         0.0306      0.140000          0.000000    0.1440   0.5380   82.517  \n",
       "2         0.0556      0.000362          0.000000    0.1030   0.0794  124.113  \n",
       "3         0.0798      0.000429          0.000029    0.2310   0.4060  110.020  \n",
       "4         0.0474      0.024400          0.000000    0.4290   0.6670  144.997  \n",
       "..           ...           ...               ...       ...      ...      ...  \n",
       "109       0.0384      0.918000          0.000001    0.1040   0.4660  119.645  \n",
       "110       0.0323      0.191000          0.000000    0.2280   0.1680  142.034  \n",
       "111       0.0758      0.001360          0.000000    0.3690   0.7400  170.229  \n",
       "112       0.0634      0.238000          0.000002    0.2720   0.4420  128.909  \n",
       "113       0.0365      0.009510          0.000000    0.0529   0.8970   96.992  \n",
       "\n",
       "[114 rows x 12 columns]"
      ]
     },
     "execution_count": 40,
     "metadata": {},
     "output_type": "execute_result"
    }
   ],
   "source": [
    "audio_features_df_1 = pd.read_csv(\"audio_features_1.csv\")\n",
    "audio_features_df_1"
   ]
  },
  {
   "cell_type": "code",
   "execution_count": 41,
   "id": "f786b5ed",
   "metadata": {},
   "outputs": [
    {
     "data": {
      "text/plain": [
       "array([ 4.82000e-01,  8.33000e-01,  5.00000e+00, -5.61100e+00,\n",
       "        1.00000e+00,  4.49000e-02,  3.46000e-04,  0.00000e+00,\n",
       "        3.65000e-01,  7.40000e-01,  1.48039e+02])"
      ]
     },
     "execution_count": 41,
     "metadata": {},
     "output_type": "execute_result"
    }
   ],
   "source": [
    "X = audio_features_df_1.drop('id', axis = 1)\n",
    "X\n",
    "X_np = X.to_numpy()\n",
    "X_np[0]"
   ]
  },
  {
   "cell_type": "code",
   "execution_count": 42,
   "id": "f12b5f75",
   "metadata": {},
   "outputs": [
    {
     "data": {
      "text/plain": [
       "NearestNeighbors()"
      ]
     },
     "execution_count": 42,
     "metadata": {},
     "output_type": "execute_result"
    }
   ],
   "source": [
    "knn = NearestNeighbors(n_neighbors=11)\n",
    "knn.fit(X_np)\n",
    "NearestNeighbors(algorithm='auto', n_neighbors=5, p=2,radius=1.0)"
   ]
  },
  {
   "cell_type": "code",
   "execution_count": 43,
   "id": "924d142a",
   "metadata": {},
   "outputs": [
    {
     "data": {
      "text/plain": [
       "array([  0,   5,   4, 101,  22,  92, 110,  62,  90,  78,  64], dtype=int64)"
      ]
     },
     "execution_count": 43,
     "metadata": {},
     "output_type": "execute_result"
    }
   ],
   "source": [
    "res = knn.kneighbors([X_np[0]], return_distance=False)\n",
    "res[0]"
   ]
  },
  {
   "cell_type": "code",
   "execution_count": 44,
   "id": "9438c1af",
   "metadata": {},
   "outputs": [
    {
     "name": "stdout",
     "output_type": "stream",
     "text": [
      "id                  1fBl642IhJOE5U319Gy2Go\n",
      "danceability                         0.482\n",
      "energy                               0.833\n",
      "key                                      5\n",
      "loudness                            -5.611\n",
      "mode                                     1\n",
      "speechiness                         0.0449\n",
      "acousticness                      0.000346\n",
      "instrumentalness                       0.0\n",
      "liveness                             0.365\n",
      "valance                               0.74\n",
      "tempo                              148.039\n",
      "Name: 0, dtype: object\n",
      "id                  7Hr1Ignop7cymbE3FbOtXa\n",
      "danceability                         0.286\n",
      "energy                               0.703\n",
      "key                                      4\n",
      "loudness                            -4.491\n",
      "mode                                     0\n",
      "speechiness                         0.0348\n",
      "acousticness                       0.00847\n",
      "instrumentalness                  0.000074\n",
      "liveness                             0.142\n",
      "valance                              0.259\n",
      "tempo                              151.297\n",
      "Name: 5, dtype: object\n",
      "id                  1BLfQ6dPXmuDrFmbdfW7Jl\n",
      "danceability                         0.486\n",
      "energy                               0.881\n",
      "key                                      2\n",
      "loudness                            -5.623\n",
      "mode                                     0\n",
      "speechiness                         0.0474\n",
      "acousticness                        0.0244\n",
      "instrumentalness                       0.0\n",
      "liveness                             0.429\n",
      "valance                              0.667\n",
      "tempo                              144.997\n",
      "Name: 4, dtype: object\n",
      "id                  161DnLWsx1i3u1JT05lzqU\n",
      "danceability                         0.498\n",
      "energy                                0.59\n",
      "key                                      1\n",
      "loudness                            -4.721\n",
      "mode                                     0\n",
      "speechiness                          0.032\n",
      "acousticness                         0.511\n",
      "instrumentalness                       0.0\n",
      "liveness                             0.107\n",
      "valance                             0.0784\n",
      "tempo                              145.867\n",
      "Name: 101, dtype: object\n",
      "id                  17eeVWCA0gN3kzYY8aPLNW\n",
      "danceability                         0.619\n",
      "energy                               0.768\n",
      "key                                     10\n",
      "loudness                             -5.75\n",
      "mode                                     0\n",
      "speechiness                         0.0449\n",
      "acousticness                         0.739\n",
      "instrumentalness                  0.000021\n",
      "liveness                            0.0612\n",
      "valance                              0.845\n",
      "tempo                               147.99\n",
      "Name: 22, dtype: object\n",
      "id                  2JZ58XgCZYxqeleqGqS8wk\n",
      "danceability                         0.369\n",
      "energy                               0.405\n",
      "key                                      1\n",
      "loudness                              -7.0\n",
      "mode                                     0\n",
      "speechiness                         0.0329\n",
      "acousticness                         0.593\n",
      "instrumentalness                  0.000003\n",
      "liveness                             0.134\n",
      "valance                             0.0648\n",
      "tempo                              143.525\n",
      "Name: 92, dtype: object\n",
      "id                  54JKnDB3CzVu8wNAOM27BI\n",
      "danceability                         0.457\n",
      "energy                               0.719\n",
      "key                                      4\n",
      "loudness                            -3.921\n",
      "mode                                     0\n",
      "speechiness                         0.0323\n",
      "acousticness                         0.191\n",
      "instrumentalness                       0.0\n",
      "liveness                             0.228\n",
      "valance                              0.168\n",
      "tempo                              142.034\n",
      "Name: 110, dtype: object\n",
      "id                  4jDmJ51x1o9NZB5Nxxc7gY\n",
      "danceability                         0.574\n",
      "energy                               0.629\n",
      "key                                      2\n",
      "loudness                            -8.815\n",
      "mode                                     0\n",
      "speechiness                         0.0363\n",
      "acousticness                         0.128\n",
      "instrumentalness                       0.0\n",
      "liveness                             0.271\n",
      "valance                              0.786\n",
      "tempo                              153.119\n",
      "Name: 62, dtype: object\n",
      "id                  76ati4YtRJe4vkpcL5VFy5\n",
      "danceability                         0.646\n",
      "energy                               0.787\n",
      "key                                      1\n",
      "loudness                            -4.907\n",
      "mode                                     1\n",
      "speechiness                         0.0373\n",
      "acousticness                           0.1\n",
      "instrumentalness                   0.00001\n",
      "liveness                             0.133\n",
      "valance                              0.784\n",
      "tempo                              141.946\n",
      "Name: 90, dtype: object\n",
      "id                  5wANPM4fQCJwkGd4rN57mH\n",
      "danceability                         0.561\n",
      "energy                               0.431\n",
      "key                                     10\n",
      "loudness                             -8.81\n",
      "mode                                     1\n",
      "speechiness                         0.0578\n",
      "acousticness                         0.768\n",
      "instrumentalness                  0.000014\n",
      "liveness                             0.106\n",
      "valance                              0.137\n",
      "tempo                              143.875\n",
      "Name: 78, dtype: object\n",
      "id                  7q1noAWVCguWhDjQXZc5CT\n",
      "danceability                         0.477\n",
      "energy                               0.766\n",
      "key                                      1\n",
      "loudness                            -5.323\n",
      "mode                                     1\n",
      "speechiness                         0.0511\n",
      "acousticness                        0.0572\n",
      "instrumentalness                  0.000109\n",
      "liveness                              0.32\n",
      "valance                              0.575\n",
      "tempo                              141.375\n",
      "Name: 64, dtype: object\n"
     ]
    }
   ],
   "source": [
    "for r in res[0]:\n",
    "    print(audio_features_df_1.iloc[r])"
   ]
  },
  {
   "cell_type": "code",
   "execution_count": null,
   "id": "5280101e",
   "metadata": {},
   "outputs": [],
   "source": []
  },
  {
   "cell_type": "code",
   "execution_count": null,
   "id": "5d23688e",
   "metadata": {},
   "outputs": [],
   "source": []
  }
 ],
 "metadata": {
  "kernelspec": {
   "display_name": "Python 3",
   "language": "python",
   "name": "python3"
  },
  "language_info": {
   "codemirror_mode": {
    "name": "ipython",
    "version": 3
   },
   "file_extension": ".py",
   "mimetype": "text/x-python",
   "name": "python",
   "nbconvert_exporter": "python",
   "pygments_lexer": "ipython3",
   "version": "3.8.8"
  }
 },
 "nbformat": 4,
 "nbformat_minor": 5
}
